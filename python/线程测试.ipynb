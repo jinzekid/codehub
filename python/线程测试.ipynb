{
 "cells": [
  {
   "cell_type": "code",
   "execution_count": null,
   "metadata": {},
   "outputs": [],
   "source": [
    "\n",
    "#  派生子线程\n",
    "import _thread\n",
    "\n",
    "def child(tid):\n",
    "    print('Hello from thread', tid)\n",
    "    \n",
    "def parent():\n",
    "    i = 0\n",
    "    while True:\n",
    "        i += 1\n",
    "        _thread.start_new_thread(child, (i,))\n",
    "        if input() == 'q': break\n",
    "            \n",
    "parent()"
   ]
  },
  {
   "cell_type": "code",
   "execution_count": 5,
   "metadata": {},
   "outputs": [
    {
     "name": "stdout",
     "output_type": "stream",
     "text": [
      "Help on built-in function start_new_thread in module _thread:\n",
      "\n",
      "start_new_thread(...)\n",
      "    start_new_thread(function, args[, kwargs])\n",
      "    (start_new() is an obsolete synonym)\n",
      "    \n",
      "    Start a new thread and return its identifier.  The thread will call the\n",
      "    function with positional arguments from the tuple args and keyword arguments\n",
      "    taken from the optional dictionary kwargs.  The thread exits when the\n",
      "    function returns; the return value is ignored.  The thread will also exit\n",
      "    when the function raises an unhandled exception; a stack trace will be\n",
      "    printed unless the exception is SystemExit.\n",
      "\n"
     ]
    }
   ],
   "source": [
    "import _thread as thread\n",
    "help(thread.start_new_thread)"
   ]
  },
  {
   "cell_type": "code",
   "execution_count": null,
   "metadata": {},
   "outputs": [],
   "source": []
  }
 ],
 "metadata": {
  "kernelspec": {
   "display_name": "Python 3",
   "language": "python",
   "name": "python3"
  },
  "language_info": {
   "codemirror_mode": {
    "name": "ipython",
    "version": 3
   },
   "file_extension": ".py",
   "mimetype": "text/x-python",
   "name": "python",
   "nbconvert_exporter": "python",
   "pygments_lexer": "ipython3",
   "version": "3.6.3"
  }
 },
 "nbformat": 4,
 "nbformat_minor": 2
}
