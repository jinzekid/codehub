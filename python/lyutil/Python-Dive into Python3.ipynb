{
 "cells": [
  {
   "cell_type": "code",
   "execution_count": null,
   "metadata": {},
   "outputs": [],
   "source": [
    "\"\"\"\n",
    "格式化文件的大小\n",
    "\"\"\"\n",
    "SUFFIXES = {\n",
    "        1000:['KB','MB','GB','TB','PB','EB','ZB','YB'],\n",
    "        1024:['KiB','MiB','GiB','TiB','PiB','EiB','ZiB','YiB']\n",
    "        }\n",
    "\n",
    "def approximate_size(size, aKiloByteIs1024Bytes=True):\n",
    "    '''\n",
    "    Convert a file size to human-readable form.\n",
    "\n",
    "    Keyword arguments:\n",
    "    size -- file size in bytes\n",
    "    aKiloByteIs1024Bytes -- if True (default), use multiples of 1024\n",
    "                            if False, use multiples of 1000\n",
    "\n",
    "    Returns: string\n",
    "    '''\n",
    "    if size < 0:\n",
    "        raise ValueError('number must be non-nagative')\n",
    "\n",
    "    multiple = 1024 if aKiloByteIs1024Bytes else 1000\n",
    "    for suffix in SUFFIXES[multiple]:\n",
    "        size /= multiple\n",
    "        if size < multiple:\n",
    "            return '{0:.1f} {1}'.format(size, suffix)\n",
    "\n",
    "    raise ValueError('number too large')\n",
    "\n",
    "if __name__ == '__main__':\n",
    "    print(approximate_size(1000000000000, False))\n",
    "    print(approximate_size(1000000000000))\n",
    "    \n",
    "    print(approximate_size.__doc__)"
   ]
  },
  {
   "cell_type": "code",
   "execution_count": 7,
   "metadata": {},
   "outputs": [
    {
     "data": {
      "text/plain": [
       "['/Users/jasonlu/.virtualenvs/pyven3_6/lib/python36.zip',\n",
       " '/Users/jasonlu/.virtualenvs/pyven3_6/lib/python3.6',\n",
       " '/Users/jasonlu/.virtualenvs/pyven3_6/lib/python3.6/lib-dynload',\n",
       " '/usr/local/Cellar/python3/3.6.3/Frameworks/Python.framework/Versions/3.6/lib/python3.6',\n",
       " '/Users/jasonlu/.virtualenvs/pyven3_6/lib/python3.6/site-packages',\n",
       " '/Users/jasonlu/.virtualenvs/pyven3_6/lib/python3.6/site-packages/IPython/extensions',\n",
       " '/Users/jasonlu/.ipython']"
      ]
     },
     "execution_count": 7,
     "metadata": {},
     "output_type": "execute_result"
    }
   ],
   "source": [
    "import sys\n",
    "sys.path\n",
    "\n",
    "try:\n",
    "    from lxml import etree\n",
    "except ImportError:\n",
    "    import xml.etree.ElementTree as etree"
   ]
  },
  {
   "cell_type": "code",
   "execution_count": 9,
   "metadata": {},
   "outputs": [
    {
     "data": {
      "text/plain": [
       "5.5"
      ]
     },
     "execution_count": 9,
     "metadata": {},
     "output_type": "execute_result"
    }
   ],
   "source": [
    "11/2"
   ]
  },
  {
   "cell_type": "code",
   "execution_count": 10,
   "metadata": {},
   "outputs": [
    {
     "data": {
      "text/plain": [
       "['Finished files are the re‐ ',\n",
       " 'sult of years of scientif‐',\n",
       " 'ic study combined with the',\n",
       " 'experience of years.']"
      ]
     },
     "execution_count": 10,
     "metadata": {},
     "output_type": "execute_result"
    }
   ],
   "source": [
    "s = '''Finished files are the re‐ \n",
    "sult of years of scientif‐\n",
    "ic study combined with the\n",
    "experience of years.'''\n",
    "s.splitlines()"
   ]
  },
  {
   "cell_type": "code",
   "execution_count": 12,
   "metadata": {},
   "outputs": [
    {
     "data": {
      "text/plain": [
       "6"
      ]
     },
     "execution_count": 12,
     "metadata": {},
     "output_type": "execute_result"
    }
   ],
   "source": [
    "s.lower().count('f')"
   ]
  },
  {
   "cell_type": "code",
   "execution_count": 17,
   "metadata": {},
   "outputs": [
    {
     "data": {
      "text/plain": [
       "' where your alphabet ends.'"
      ]
     },
     "execution_count": 17,
     "metadata": {},
     "output_type": "execute_result"
    }
   ],
   "source": [
    "a_string = 'My alphabet starts where your alphabet ends.'\n",
    "a_string[3:11]\n",
    "a_string[3:-3]\n",
    "a_string[18:]"
   ]
  },
  {
   "cell_type": "code",
   "execution_count": 19,
   "metadata": {},
   "outputs": [
    {
     "data": {
      "text/plain": [
       "b'abcde'"
      ]
     },
     "execution_count": 19,
     "metadata": {},
     "output_type": "execute_result"
    }
   ],
   "source": [
    "by = b'abcd\\x65'\n",
    "by"
   ]
  },
  {
   "cell_type": "code",
   "execution_count": 20,
   "metadata": {},
   "outputs": [
    {
     "data": {
      "text/plain": [
       "bytes"
      ]
     },
     "execution_count": 20,
     "metadata": {},
     "output_type": "execute_result"
    }
   ],
   "source": [
    "type(by)"
   ]
  },
  {
   "cell_type": "code",
   "execution_count": 22,
   "metadata": {},
   "outputs": [
    {
     "data": {
      "text/plain": [
       "b'abcde\\xff'"
      ]
     },
     "execution_count": 22,
     "metadata": {},
     "output_type": "execute_result"
    }
   ],
   "source": [
    "by += b'\\xff'\n",
    "by"
   ]
  },
  {
   "cell_type": "code",
   "execution_count": 23,
   "metadata": {},
   "outputs": [
    {
     "data": {
      "text/plain": [
       "6"
      ]
     },
     "execution_count": 23,
     "metadata": {},
     "output_type": "execute_result"
    }
   ],
   "source": [
    "len(by)"
   ]
  },
  {
   "cell_type": "code",
   "execution_count": 24,
   "metadata": {},
   "outputs": [
    {
     "data": {
      "text/plain": [
       "97"
      ]
     },
     "execution_count": 24,
     "metadata": {},
     "output_type": "execute_result"
    }
   ],
   "source": [
    "by[0]"
   ]
  },
  {
   "cell_type": "code",
   "execution_count": 35,
   "metadata": {},
   "outputs": [
    {
     "name": "stdout",
     "output_type": "stream",
     "text": [
      "{'_id': '5c6519622a2817410f9b76fd', 'name': 'Python开发', 'ISBN': '978-7-5159-0954-6', 'jzc': '123456', 'author': '大侠00', 'notes': '这是备注信息', 'press': '机械工业', 'price': '85.0', 'category': 'IT'}\n",
      "False\n"
     ]
    }
   ],
   "source": [
    "def is_same_dic(dict1, dict2):\n",
    "    '''\n",
    "    判断两个字典的值是否相同\n",
    "    Keyword arguments:\n",
    "    dict1 -- 字典1\n",
    "    dict2 -- 字典2\n",
    "    Returns: bool\n",
    "    '''\n",
    "    if len(dict1.items()) != len(dict2.items()):\n",
    "        return False\n",
    "    \n",
    "    length = len(dict1.items())\n",
    "    for k, v in dict1.items():\n",
    "        if k in dict2.keys():\n",
    "            if dict2[k] != v: \n",
    "                return False\n",
    "        else:\n",
    "            return False\n",
    "\n",
    "    return True\n",
    "\n",
    "\n",
    "d1 = {'_id': '5c6519622a2817410f9b76fd', 'name': 'Python开发', 'ISBN': '978-7-5159-0954-6', 'jzc': '123456', 'author': '大侠00', 'notes': '这是备注信息', 'press': '机械工业', 'price': '85.0', 'category': 'IT'}\n",
    "d2 = {'_id': '5c6519622a2817410f9b76fd', 'name': 'Python开发', 'ISBN': '978-7-5159-0954-6', 'jzc': '123456', 'author': '大侠00', 'notes': '这是备注信息', 'press': '机械工业', 'price': '85.0', 'category': 'IT','dd':'dd'}\n",
    "\n",
    "print(d1)\n",
    "\n",
    "print(is_same_dic(d2, d1))\n",
    "\n",
    "\n",
    "\n"
   ]
  },
  {
   "cell_type": "code",
   "execution_count": null,
   "metadata": {},
   "outputs": [],
   "source": []
  }
 ],
 "metadata": {
  "kernelspec": {
   "display_name": "Python 3",
   "language": "python",
   "name": "python3"
  },
  "language_info": {
   "codemirror_mode": {
    "name": "ipython",
    "version": 3
   },
   "file_extension": ".py",
   "mimetype": "text/x-python",
   "name": "python",
   "nbconvert_exporter": "python",
   "pygments_lexer": "ipython3",
   "version": "3.6.3"
  }
 },
 "nbformat": 4,
 "nbformat_minor": 2
}
