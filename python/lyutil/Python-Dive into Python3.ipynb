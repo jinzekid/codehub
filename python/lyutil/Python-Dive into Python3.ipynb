{
 "cells": [
  {
   "cell_type": "code",
   "execution_count": null,
   "metadata": {},
   "outputs": [],
   "source": [
    "\"\"\"\n",
    "格式化文件的大小\n",
    "\"\"\"\n",
    "SUFFIXES = {\n",
    "        1000:['KB','MB','GB','TB','PB','EB','ZB','YB'],\n",
    "        1024:['KiB','MiB','GiB','TiB','PiB','EiB','ZiB','YiB']\n",
    "        }\n",
    "\n",
    "def approximate_size(size, aKiloByteIs1024Bytes=True):\n",
    "    '''\n",
    "    Convert a file size to human-readable form.\n",
    "\n",
    "    Keyword arguments:\n",
    "    size -- file size in bytes\n",
    "    aKiloByteIs1024Bytes -- if True (default), use multiples of 1024\n",
    "                            if False, use multiples of 1000\n",
    "\n",
    "    Returns: string\n",
    "    '''\n",
    "    if size < 0:\n",
    "        raise ValueError('number must be non-nagative')\n",
    "\n",
    "    multiple = 1024 if aKiloByteIs1024Bytes else 1000\n",
    "    for suffix in SUFFIXES[multiple]:\n",
    "        size /= multiple\n",
    "        if size < multiple:\n",
    "            return '{0:.1f} {1}'.format(size, suffix)\n",
    "\n",
    "    raise ValueError('number too large')\n",
    "\n",
    "if __name__ == '__main__':\n",
    "    print(approximate_size(1000000000000, False))\n",
    "    print(approximate_size(1000000000000))\n",
    "    \n",
    "    print(approximate_size.__doc__)"
   ]
  },
  {
   "cell_type": "code",
   "execution_count": 7,
   "metadata": {},
   "outputs": [
    {
     "data": {
      "text/plain": [
       "['/Users/jasonlu/.virtualenvs/pyven3_6/lib/python36.zip',\n",
       " '/Users/jasonlu/.virtualenvs/pyven3_6/lib/python3.6',\n",
       " '/Users/jasonlu/.virtualenvs/pyven3_6/lib/python3.6/lib-dynload',\n",
       " '/usr/local/Cellar/python3/3.6.3/Frameworks/Python.framework/Versions/3.6/lib/python3.6',\n",
       " '/Users/jasonlu/.virtualenvs/pyven3_6/lib/python3.6/site-packages',\n",
       " '/Users/jasonlu/.virtualenvs/pyven3_6/lib/python3.6/site-packages/IPython/extensions',\n",
       " '/Users/jasonlu/.ipython']"
      ]
     },
     "execution_count": 7,
     "metadata": {},
     "output_type": "execute_result"
    }
   ],
   "source": [
    "import sys\n",
    "sys.path\n",
    "\n",
    "try:\n",
    "    from lxml import etree\n",
    "except ImportError:\n",
    "    import xml.etree.ElementTree as etree"
   ]
  },
  {
   "cell_type": "code",
   "execution_count": 9,
   "metadata": {},
   "outputs": [
    {
     "data": {
      "text/plain": [
       "5.5"
      ]
     },
     "execution_count": 9,
     "metadata": {},
     "output_type": "execute_result"
    }
   ],
   "source": [
    "11/2"
   ]
  },
  {
   "cell_type": "code",
   "execution_count": 10,
   "metadata": {},
   "outputs": [
    {
     "data": {
      "text/plain": [
       "['Finished files are the re‐ ',\n",
       " 'sult of years of scientif‐',\n",
       " 'ic study combined with the',\n",
       " 'experience of years.']"
      ]
     },
     "execution_count": 10,
     "metadata": {},
     "output_type": "execute_result"
    }
   ],
   "source": [
    "s = '''Finished files are the re‐ \n",
    "sult of years of scientif‐\n",
    "ic study combined with the\n",
    "experience of years.'''\n",
    "s.splitlines()"
   ]
  },
  {
   "cell_type": "code",
   "execution_count": 12,
   "metadata": {},
   "outputs": [
    {
     "data": {
      "text/plain": [
       "6"
      ]
     },
     "execution_count": 12,
     "metadata": {},
     "output_type": "execute_result"
    }
   ],
   "source": [
    "s.lower().count('f')"
   ]
  },
  {
   "cell_type": "code",
   "execution_count": 17,
   "metadata": {},
   "outputs": [
    {
     "data": {
      "text/plain": [
       "' where your alphabet ends.'"
      ]
     },
     "execution_count": 17,
     "metadata": {},
     "output_type": "execute_result"
    }
   ],
   "source": [
    "a_string = 'My alphabet starts where your alphabet ends.'\n",
    "a_string[3:11]\n",
    "a_string[3:-3]\n",
    "a_string[18:]"
   ]
  },
  {
   "cell_type": "code",
   "execution_count": 19,
   "metadata": {},
   "outputs": [
    {
     "data": {
      "text/plain": [
       "b'abcde'"
      ]
     },
     "execution_count": 19,
     "metadata": {},
     "output_type": "execute_result"
    }
   ],
   "source": [
    "by = b'abcd\\x65'\n",
    "by"
   ]
  },
  {
   "cell_type": "code",
   "execution_count": 20,
   "metadata": {},
   "outputs": [
    {
     "data": {
      "text/plain": [
       "bytes"
      ]
     },
     "execution_count": 20,
     "metadata": {},
     "output_type": "execute_result"
    }
   ],
   "source": [
    "type(by)"
   ]
  },
  {
   "cell_type": "code",
   "execution_count": 22,
   "metadata": {},
   "outputs": [
    {
     "data": {
      "text/plain": [
       "b'abcde\\xff'"
      ]
     },
     "execution_count": 22,
     "metadata": {},
     "output_type": "execute_result"
    }
   ],
   "source": [
    "by += b'\\xff'\n",
    "by"
   ]
  },
  {
   "cell_type": "code",
   "execution_count": 23,
   "metadata": {},
   "outputs": [
    {
     "data": {
      "text/plain": [
       "6"
      ]
     },
     "execution_count": 23,
     "metadata": {},
     "output_type": "execute_result"
    }
   ],
   "source": [
    "len(by)"
   ]
  },
  {
   "cell_type": "code",
   "execution_count": 24,
   "metadata": {},
   "outputs": [
    {
     "data": {
      "text/plain": [
       "97"
      ]
     },
     "execution_count": 24,
     "metadata": {},
     "output_type": "execute_result"
    }
   ],
   "source": [
    "by[0]"
   ]
  },
  {
   "cell_type": "code",
   "execution_count": 35,
   "metadata": {},
   "outputs": [
    {
     "name": "stdout",
     "output_type": "stream",
     "text": [
      "{'_id': '5c6519622a2817410f9b76fd', 'name': 'Python开发', 'ISBN': '978-7-5159-0954-6', 'jzc': '123456', 'author': '大侠00', 'notes': '这是备注信息', 'press': '机械工业', 'price': '85.0', 'category': 'IT'}\n",
      "False\n"
     ]
    }
   ],
   "source": [
    "def is_same_dic(dict1, dict2):\n",
    "    '''\n",
    "    判断两个字典的值是否相同\n",
    "    Keyword arguments:\n",
    "    dict1 -- 字典1\n",
    "    dict2 -- 字典2\n",
    "    Returns: bool\n",
    "    '''\n",
    "    if len(dict1.items()) != len(dict2.items()):\n",
    "        return False\n",
    "    \n",
    "    length = len(dict1.items())\n",
    "    for k, v in dict1.items():\n",
    "        if k in dict2.keys():\n",
    "            if dict2[k] != v: \n",
    "                return False\n",
    "        else:\n",
    "            return False\n",
    "\n",
    "    return True\n",
    "\n",
    "\n",
    "d1 = {'_id': '5c6519622a2817410f9b76fd', 'name': 'Python开发', 'ISBN': '978-7-5159-0954-6', 'jzc': '123456', 'author': '大侠00', 'notes': '这是备注信息', 'press': '机械工业', 'price': '85.0', 'category': 'IT'}\n",
    "d2 = {'_id': '5c6519622a2817410f9b76fd', 'name': 'Python开发', 'ISBN': '978-7-5159-0954-6', 'jzc': '123456', 'author': '大侠00', 'notes': '这是备注信息', 'press': '机械工业', 'price': '85.0', 'category': 'IT','dd':'dd'}\n",
    "\n",
    "print(d1)\n",
    "\n",
    "print(is_same_dic(d2, d1))\n",
    "\n",
    "\n",
    "\n"
   ]
  },
  {
   "cell_type": "code",
   "execution_count": 50,
   "metadata": {},
   "outputs": [
    {
     "data": {
      "text/plain": [
       "'RD.100 ROADNORTH BROAD MAIN ROAD'"
      ]
     },
     "execution_count": 50,
     "metadata": {},
     "output_type": "execute_result"
    }
   ],
   "source": [
    "# 正则表达式\n",
    "s = 'ROAD100 ROADNORTH BROAD MAIN ROAD'\n",
    "s.replace('ROAD', 'RD.')\n",
    "\n",
    "import re\n",
    "#$ 表示“字符串结尾”。(还有一个相 应的表示“字符串开头”的字符 ^ )\n",
    "#只会匹配字符串结尾的‘ROAD’，而不 会匹配到‘BROAD’中的‘ROAD’\n",
    "re.sub('ROAD$','RD.', s) "
   ]
  },
  {
   "cell_type": "code",
   "execution_count": 52,
   "metadata": {},
   "outputs": [
    {
     "data": {
      "text/plain": [
       "'ROAD100 BROAD RD. APT. 3'"
      ]
     },
     "execution_count": 52,
     "metadata": {},
     "output_type": "execute_result"
    }
   ],
   "source": [
    "import re\n",
    "s = '100 BROAD ROAD APT. 3'\n",
    "# 在字符串的任意位置 匹配独立的‘ROAD’单词”不管是在字符串的结束还是开始，或者中间的任意一个位置\n",
    "re.sub(r'\\bROAD\\b', 'RD.', s) \n",
    "#'100 BROAD RD. APT 3'"
   ]
  },
  {
   "cell_type": "code",
   "execution_count": 59,
   "metadata": {},
   "outputs": [
    {
     "data": {
      "text/plain": [
       "('800', '555', '1212', '')"
      ]
     },
     "execution_count": 59,
     "metadata": {},
     "output_type": "execute_result"
    }
   ],
   "source": [
    "import re\n",
    "# phonePattern = re.compile(r'^(\\d{3})‐(\\d{3})‐ (\\d{4})$')\n",
    "# phonePattern.search('800‐555‐1212').groups()\n",
    "#    ('800', '555', '1212')\n",
    "\n",
    "# phonePattern = re.compile(r'^(\\d{3})‐(\\d{3})‐ (\\d{4})‐(\\d+)$')\n",
    "# phonePattern.search('800‐555‐1212‐1234').groups()\n",
    "#    ('800', '555', '1212', '1234')\n",
    "\n",
    "# phonePattern = re.compile(r'^(\\d{3})\\D+(\\d{3})\\D+(\\d{4})\\D+(\\d+)$')\n",
    "# 3 个数字的分组，\\D，匹配除了数字以外的任意字符，+，一个或多个，\\D+，匹配一个或一个以上的非数字字符; \\D+替换'-'\n",
    "\n",
    "\n",
    "# phonePattern = re.compile(r'''\n",
    "#                    # don't match beginning of string,\n",
    "# number can start anywhere\n",
    "#        (\\d{3})     # area code is 3 digits (e.g. '800')\n",
    "            \n",
    "#         \\D*         # optional separator is any number of\n",
    "#    non‐digits\n",
    "#        (\\d{3})     # trunk is 3 digits (e.g. '555')\n",
    "#        \\D*         # optional separator\n",
    "#        (\\d{4})     # rest of number is 4 digits (e.g.\n",
    "#    '1212')\n",
    "#        \\D*         # optional separator\n",
    "#        (\\d*)       # extension is optional and can be any\n",
    "#    number of digits\n",
    "#        $           # end of string\n",
    "#        ''', re.VERBOSE)\n",
    "phonePattern = re.compile(r'(\\d{3})\\D*(\\d{3})\\D*(\\d{4})\\D*(\\d*)$')\n",
    "phonePattern.search('1‐800‐555‐1212').groups()\n",
    "\n",
    "\n",
    "• ^ 匹配字符串开始位置。\n",
    "• $ 匹配字符串结束位置。\n",
    "• \\b 匹配一个单词边界。\n",
    "• \\d 匹配一个数字。\n",
    "• \\D 匹配一个任意的非数字字符。\n",
    "• x?匹配可选的 x 字符。换句话说，就是 0 个或者 1 个 x 字\n",
    "符。\n",
    "• x*匹配0个或更多的x。\n",
    "• x+匹配1个或者更多x。\n",
    "• x{n,m}匹配n到m个x，至少n个，不能超过m个。\n",
    "• (a|b|c) 匹配单独的任意一个 a 或者 b 或者 c。\n",
    "• (x) 这是一个组，它会记忆它匹配到的字符串。你可以用\n",
    "re.search 返回的匹配对象的 groups()函数来获取到匹配的值"
   ]
  },
  {
   "cell_type": "code",
   "execution_count": null,
   "metadata": {},
   "outputs": [],
   "source": []
  }
 ],
 "metadata": {
  "kernelspec": {
   "display_name": "Python 3",
   "language": "python",
   "name": "python3"
  },
  "language_info": {
   "codemirror_mode": {
    "name": "ipython",
    "version": 3
   },
   "file_extension": ".py",
   "mimetype": "text/x-python",
   "name": "python",
   "nbconvert_exporter": "python",
   "pygments_lexer": "ipython3",
   "version": "3.6.3"
  }
 },
 "nbformat": 4,
 "nbformat_minor": 2
}
