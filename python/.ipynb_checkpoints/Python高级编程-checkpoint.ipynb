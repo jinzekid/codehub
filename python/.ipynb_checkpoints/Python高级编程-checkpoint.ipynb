{
 "cells": [
  {
   "cell_type": "code",
   "execution_count": 1,
   "metadata": {},
   "outputs": [
    {
     "data": {
      "text/plain": [
       "[0, 2, 4, 6, 8]"
      ]
     },
     "execution_count": 1,
     "metadata": {},
     "output_type": "execute_result"
    }
   ],
   "source": [
    "# 列表推导式\n",
    "[i for i in range(10) if i % 2 == 0]"
   ]
  },
  {
   "cell_type": "code",
   "execution_count": 2,
   "metadata": {},
   "outputs": [],
   "source": [
    "seq = ['one','two','three']"
   ]
  },
  {
   "cell_type": "code",
   "execution_count": 7,
   "metadata": {},
   "outputs": [],
   "source": [
    "i = iter('abc')"
   ]
  },
  {
   "cell_type": "code",
   "execution_count": 11,
   "metadata": {},
   "outputs": [],
   "source": [
    "def power(values):\n",
    "    for value in values:\n",
    "        print('powering %s' %(value))\n",
    "        yield value\n",
    "\n",
    "def adder(values):\n",
    "    for value in values:\n",
    "        print('adding to %s' %(value))\n",
    "        if value % 2 == 0:\n",
    "            yield value + 3\n",
    "        else:\n",
    "            yield value + 2\n",
    "\n",
    "elements = [1,4,7,9,12,19]\n",
    "res = adder(power(elements))"
   ]
  },
  {
   "cell_type": "code",
   "execution_count": 14,
   "metadata": {},
   "outputs": [
    {
     "name": "stdout",
     "output_type": "stream",
     "text": [
      "powering 7\n",
      "adding to 7\n"
     ]
    },
    {
     "data": {
      "text/plain": [
       "9"
      ]
     },
     "execution_count": 14,
     "metadata": {},
     "output_type": "execute_result"
    }
   ],
   "source": [
    "res.__next__()"
   ]
  },
  {
   "cell_type": "code",
   "execution_count": 15,
   "metadata": {},
   "outputs": [
    {
     "data": {
      "text/plain": [
       "'utc:2018-07-10 03:02:20.943808, now:2018-07-10 11:02:20.943836'"
      ]
     },
     "execution_count": 15,
     "metadata": {},
     "output_type": "execute_result"
    }
   ],
   "source": [
    "import datetime\n",
    "utc = datetime.datetime.utcnow()\n",
    "now = datetime.datetime.now()\n",
    "'utc:{}, now:{}'.format(utc, now)"
   ]
  },
  {
   "cell_type": "code",
   "execution_count": 24,
   "metadata": {},
   "outputs": [
    {
     "name": "stdout",
     "output_type": "stream",
     "text": [
      "2018-07-10 03:11:38.531192+00:00\n",
      "2018-07-10T03:11:38.531382+00:00\n"
     ]
    },
    {
     "ename": "TypeError",
     "evalue": "'<' not supported between instances of 'str' and 'datetime.datetime'",
     "output_type": "error",
     "traceback": [
      "\u001b[0;31m---------------------------------------------------------------------------\u001b[0m",
      "\u001b[0;31mTypeError\u001b[0m                                 Traceback (most recent call last)",
      "\u001b[0;32m<ipython-input-24-ebae624a9c1b>\u001b[0m in \u001b[0;36m<module>\u001b[0;34m()\u001b[0m\n\u001b[1;32m      6\u001b[0m \u001b[0mprint\u001b[0m\u001b[0;34m(\u001b[0m\u001b[0mutcnow\u001b[0m\u001b[0;34m(\u001b[0m\u001b[0;34m)\u001b[0m\u001b[0;34m)\u001b[0m\u001b[0;34m\u001b[0m\u001b[0m\n\u001b[1;32m      7\u001b[0m \u001b[0mprint\u001b[0m\u001b[0;34m(\u001b[0m\u001b[0mutcnow\u001b[0m\u001b[0;34m(\u001b[0m\u001b[0;34m)\u001b[0m\u001b[0;34m.\u001b[0m\u001b[0misoformat\u001b[0m\u001b[0;34m(\u001b[0m\u001b[0;34m)\u001b[0m\u001b[0;34m)\u001b[0m\u001b[0;34m\u001b[0m\u001b[0m\n\u001b[0;32m----> 8\u001b[0;31m \u001b[0mprint\u001b[0m\u001b[0;34m(\u001b[0m\u001b[0mutcnow\u001b[0m\u001b[0;34m(\u001b[0m\u001b[0;34m)\u001b[0m\u001b[0;34m.\u001b[0m\u001b[0misoformat\u001b[0m\u001b[0;34m(\u001b[0m\u001b[0;34m)\u001b[0m \u001b[0;34m<\u001b[0m \u001b[0mutcnow\u001b[0m\u001b[0;34m(\u001b[0m\u001b[0;34m)\u001b[0m\u001b[0;34m)\u001b[0m\u001b[0;34m\u001b[0m\u001b[0m\n\u001b[0m",
      "\u001b[0;31mTypeError\u001b[0m: '<' not supported between instances of 'str' and 'datetime.datetime'"
     ]
    }
   ],
   "source": [
    "import datetime\n",
    "import pytz\n",
    "def utcnow():\n",
    "    return datetime.datetime.now(tz=pytz.utc)\n",
    "\n",
    "print(utcnow())\n",
    "print(utcnow().isoformat())\n",
    "print(utcnow().isoformat() < utcnow())"
   ]
  },
  {
   "cell_type": "code",
   "execution_count": 20,
   "metadata": {},
   "outputs": [
    {
     "data": {
      "text/plain": [
       "datetime.datetime(2018, 7, 10, 3, 10, 3, 503467, tzinfo=datetime.timezone(datetime.timedelta(0), '+00:00'))"
      ]
     },
     "execution_count": 20,
     "metadata": {},
     "output_type": "execute_result"
    }
   ],
   "source": [
    "import iso8601\n",
    "iso8601.parse_date(utcnow().isoformat())"
   ]
  },
  {
   "cell_type": "code",
   "execution_count": 21,
   "metadata": {},
   "outputs": [
    {
     "data": {
      "text/plain": [
       "True"
      ]
     },
     "execution_count": 21,
     "metadata": {},
     "output_type": "execute_result"
    }
   ],
   "source": [
    "iso8601.parse_date(utcnow().isoformat()) < utcnow()"
   ]
  },
  {
   "cell_type": "code",
   "execution_count": 22,
   "metadata": {},
   "outputs": [
    {
     "data": {
      "text/plain": [
       "datetime.datetime(2018, 7, 10, 3, 10, 52, 532399, tzinfo=<UTC>)"
      ]
     },
     "execution_count": 22,
     "metadata": {},
     "output_type": "execute_result"
    }
   ],
   "source": [
    "utcnow()"
   ]
  },
  {
   "cell_type": "code",
   "execution_count": 1,
   "metadata": {},
   "outputs": [
    {
     "name": "stdout",
     "output_type": "stream",
     "text": [
      "bar\n",
      "{'foo': <function foo at 0x104db67b8>}\n"
     ]
    }
   ],
   "source": [
    "\"\"\"\n",
    "函数被注册并存储在一个字段里，以便后续可以根据函数名字提取函数\n",
    "\"\"\"\n",
    "_functions = {}\n",
    "def register(f):\n",
    "    global _functions\n",
    "    _functions[f.__name__] = f\n",
    "    return f\n",
    "\n",
    "@register\n",
    "def foo():\n",
    "    return 'bar'"
   ]
  },
  {
   "cell_type": "code",
   "execution_count": 21,
   "metadata": {},
   "outputs": [
    {
     "name": "stdout",
     "output_type": "stream",
     "text": [
      "before func... doing something...\n",
      "this is func...\n",
      "after func... doing something...\n",
      "wrap_func\n"
     ]
    }
   ],
   "source": [
    "\"\"\"\n",
    "使用functools模块中update_wrapper函数解决：新函数缺少很多原函数的属性，\n",
    "如文档字符串和名字\n",
    "\"\"\"\n",
    "def a_decoration(func): # 函数中返回函数\n",
    "    def wrap_func():\n",
    "        print('before func... doing something...')\n",
    "        func()\n",
    "        print('after func... doing something...')\n",
    "    return wrap_func\n",
    "\n",
    "@a_decoration\n",
    "def a_func():\n",
    "    print('this is func...')\n",
    "    \n",
    "a_func()\n",
    "print(a_func.__name__) # 这个时候会暴露被封装的方法"
   ]
  },
  {
   "cell_type": "code",
   "execution_count": 25,
   "metadata": {},
   "outputs": [
    {
     "name": "stdout",
     "output_type": "stream",
     "text": [
      "before func... doing something...\n",
      "this is func...\n",
      "after func... doing something...\n",
      "a_func\n"
     ]
    }
   ],
   "source": [
    "from functools import wraps\n",
    "def a_decoration(func): # 函数中返回函数\n",
    "    @wraps(func)\n",
    "    def wrap_func():\n",
    "        print('before func... doing something...')\n",
    "        func()\n",
    "        print('after func... doing something...')\n",
    "    return wrap_func\n",
    "\n",
    "@a_decoration\n",
    "def a_func():\n",
    "    print('this is func...')\n",
    "    \n",
    "a_func()\n",
    "print(a_func.__name__)"
   ]
  },
  {
   "cell_type": "code",
   "execution_count": 39,
   "metadata": {},
   "outputs": [
    {
     "name": "stdout",
     "output_type": "stream",
     "text": [
      "{'username': 'admin', 'type': 'cake'}\n",
      "cake nom nom nom!\n"
     ]
    }
   ],
   "source": [
    "\"\"\"\n",
    "使用inspect.getcallargs，返回一个将参数名字和值作为键值对的字典\n",
    "\"\"\"\n",
    "from functools import wraps\n",
    "import inspect\n",
    "\n",
    "def a_decoration(func): # 函数中返回函数\n",
    "    @wraps(func)\n",
    "    def wrap_func(*args, **kwargs):\n",
    "        func_args = inspect.getcallargs(func, *args, **kwargs)\n",
    "        print(func_args)\n",
    "        if func_args.get('username') != 'admin':\n",
    "            raise Exception(\"This user is not allowed to get food\")\n",
    "        return func(*args, **kwargs)\n",
    "    return wrap_func\n",
    "\n",
    "@a_decoration\n",
    "def a_func(username, type='chocolate'):\n",
    "    print(type + \" nom nom nom!\")\n",
    "    \n",
    "a_func('admin','cake')"
   ]
  },
  {
   "cell_type": "code",
   "execution_count": 44,
   "metadata": {},
   "outputs": [
    {
     "data": {
      "text/plain": [
       "100"
      ]
     },
     "execution_count": 44,
     "metadata": {},
     "output_type": "execute_result"
    }
   ],
   "source": [
    "class Pizza(object):\n",
    "    def __init__(self, size):\n",
    "        self.size = size\n",
    "    def get_size(self):\n",
    "        return self.size\n",
    "    \n",
    "# 可以向方法传入该类的任意实例，还可以传入任何对象\n",
    "# 只要它包含方法期望的属性\n",
    "# 每次调用类的一个方法都要对该类进行引用\n",
    "# 所以python通过将类的方法绑定给实例为我们完成后续工作\n",
    "# 换句话说，可以通过任何pizza访问get_size方法，\n",
    "# 进一步说，python会自动将对象本身传给方法的self参数\n",
    "one = Pizza(100)\n",
    "Pizza.get_size(one)"
   ]
  },
  {
   "cell_type": "code",
   "execution_count": 12,
   "metadata": {},
   "outputs": [
    {
     "name": "stdout",
     "output_type": "stream",
     "text": [
      "None\n"
     ]
    }
   ],
   "source": []
  },
  {
   "cell_type": "code",
   "execution_count": null,
   "metadata": {},
   "outputs": [],
   "source": []
  }
 ],
 "metadata": {
  "kernelspec": {
   "display_name": "Python 3",
   "language": "python",
   "name": "python3"
  },
  "language_info": {
   "codemirror_mode": {
    "name": "ipython",
    "version": 3
   },
   "file_extension": ".py",
   "mimetype": "text/x-python",
   "name": "python",
   "nbconvert_exporter": "python",
   "pygments_lexer": "ipython3",
   "version": "3.6.3"
  }
 },
 "nbformat": 4,
 "nbformat_minor": 2
}
