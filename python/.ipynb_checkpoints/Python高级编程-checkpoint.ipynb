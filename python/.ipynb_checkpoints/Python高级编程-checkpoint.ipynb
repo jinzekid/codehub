{
 "cells": [
  {
   "cell_type": "code",
   "execution_count": null,
   "metadata": {},
   "outputs": [],
   "source": [
    "# 列表推导式\n",
    "[i for i in range(10) if i % 2 == 0]"
   ]
  },
  {
   "cell_type": "code",
   "execution_count": null,
   "metadata": {},
   "outputs": [],
   "source": [
    "seq = ['one','two','three']"
   ]
  },
  {
   "cell_type": "code",
   "execution_count": null,
   "metadata": {},
   "outputs": [],
   "source": [
    "i = iter('abc')"
   ]
  },
  {
   "cell_type": "code",
   "execution_count": null,
   "metadata": {},
   "outputs": [],
   "source": [
    "def power(values):\n",
    "    for value in values:\n",
    "        print('powering %s' %(value))\n",
    "        yield value\n",
    "\n",
    "def adder(values):\n",
    "    for value in values:\n",
    "        print('adding to %s' %(value))\n",
    "        if value % 2 == 0:\n",
    "            yield value + 3\n",
    "        else:\n",
    "            yield value + 2\n",
    "\n",
    "elements = [1,4,7,9,12,19]\n",
    "res = adder(power(elements))"
   ]
  },
  {
   "cell_type": "code",
   "execution_count": null,
   "metadata": {},
   "outputs": [],
   "source": [
    "res.__next__()"
   ]
  },
  {
   "cell_type": "code",
   "execution_count": null,
   "metadata": {},
   "outputs": [],
   "source": [
    "import datetime\n",
    "utc = datetime.datetime.utcnow()\n",
    "now = datetime.datetime.now()\n",
    "'utc:{}, now:{}'.format(utc, now)"
   ]
  },
  {
   "cell_type": "code",
   "execution_count": null,
   "metadata": {},
   "outputs": [],
   "source": [
    "import datetime\n",
    "import pytz\n",
    "def utcnow():\n",
    "    return datetime.datetime.now(tz=pytz.utc)\n",
    "\n",
    "print(utcnow())\n",
    "print(utcnow().isoformat())\n",
    "print(utcnow().isoformat() < utcnow())"
   ]
  },
  {
   "cell_type": "code",
   "execution_count": null,
   "metadata": {},
   "outputs": [],
   "source": [
    "import iso8601\n",
    "iso8601.parse_date(utcnow().isoformat())"
   ]
  },
  {
   "cell_type": "code",
   "execution_count": null,
   "metadata": {},
   "outputs": [],
   "source": [
    "iso8601.parse_date(utcnow().isoformat()) < utcnow()"
   ]
  },
  {
   "cell_type": "code",
   "execution_count": null,
   "metadata": {},
   "outputs": [],
   "source": [
    "utcnow()"
   ]
  },
  {
   "cell_type": "code",
   "execution_count": null,
   "metadata": {},
   "outputs": [],
   "source": [
    "\"\"\"\n",
    "函数被注册并存储在一个字段里，以便后续可以根据函数名字提取函数\n",
    "\"\"\"\n",
    "_functions = {}\n",
    "def register(f):\n",
    "    global _functions\n",
    "    _functions[f.__name__] = f\n",
    "    return f\n",
    "\n",
    "@register\n",
    "def foo():\n",
    "    return 'bar'"
   ]
  },
  {
   "cell_type": "code",
   "execution_count": null,
   "metadata": {},
   "outputs": [],
   "source": [
    "\"\"\"\n",
    "使用functools模块中update_wrapper函数解决：新函数缺少很多原函数的属性，\n",
    "如文档字符串和名字\n",
    "\"\"\"\n",
    "def a_decoration(func): # 函数中返回函数\n",
    "    def wrap_func():\n",
    "        print('before func... doing something...')\n",
    "        func()\n",
    "        print('after func... doing something...')\n",
    "    return wrap_func\n",
    "\n",
    "@a_decoration\n",
    "def a_func():\n",
    "    print('this is func...')\n",
    "    \n",
    "a_func()\n",
    "print(a_func.__name__) # 这个时候会暴露被封装的方法"
   ]
  },
  {
   "cell_type": "code",
   "execution_count": null,
   "metadata": {},
   "outputs": [],
   "source": [
    "from functools import wraps\n",
    "def a_decoration(func): # 函数中返回函数\n",
    "    @wraps(func)\n",
    "    def wrap_func():\n",
    "        print('before func... doing something...')\n",
    "        func()\n",
    "        print('after func... doing something...')\n",
    "    return wrap_func\n",
    "\n",
    "@a_decoration\n",
    "def a_func():\n",
    "    print('this is func...')\n",
    "    \n",
    "a_func()\n",
    "print(a_func.__name__)"
   ]
  },
  {
   "cell_type": "code",
   "execution_count": null,
   "metadata": {},
   "outputs": [],
   "source": [
    "\"\"\"\n",
    "使用inspect.getcallargs，返回一个将参数名字和值作为键值对的字典\n",
    "\"\"\"\n",
    "from functools import wraps\n",
    "import inspect\n",
    "\n",
    "def a_decoration(func): # 函数中返回函数\n",
    "    @wraps(func)\n",
    "    def wrap_func(*args, **kwargs):\n",
    "        func_args = inspect.getcallargs(func, *args, **kwargs)\n",
    "        print(func_args)\n",
    "        if func_args.get('username') != 'admin':\n",
    "            raise Exception(\"This user is not allowed to get food\")\n",
    "        return func(*args, **kwargs)\n",
    "    return wrap_func\n",
    "\n",
    "@a_decoration\n",
    "def a_func(username, type='chocolate'):\n",
    "    print(type + \" nom nom nom!\")\n",
    "    \n",
    "a_func('admin','cake')"
   ]
  },
  {
   "cell_type": "code",
   "execution_count": null,
   "metadata": {},
   "outputs": [],
   "source": [
    "class Pizza(object):\n",
    "    def __init__(self, size):\n",
    "        self.size = size\n",
    "    def get_size(self):\n",
    "        return self.size\n",
    "    \n",
    "# 可以向方法传入该类的任意实例，还可以传入任何对象\n",
    "# 只要它包含方法期望的属性\n",
    "# 每次调用类的一个方法都要对该类进行引用\n",
    "# 所以python通过将类的方法绑定给实例为我们完成后续工作\n",
    "# 换句话说，可以通过任何pizza访问get_size方法，\n",
    "# 进一步说，python会自动将对象本身传给方法的self参数\n",
    "one = Pizza(100)\n",
    "Pizza.get_size(one)\n",
    "m = one.get_size\n",
    "\n",
    "# 一旦有了对绑定方法的引用则无需保持对Pizza对象的引用\n",
    "# 如果有了对方法的引用，但是想知道它被绑定到了哪个对象\n",
    "# 可以查看方法的__self__属性\n",
    "print(m.__self__)\n",
    "print(m == m.__self__.get_size)"
   ]
  },
  {
   "cell_type": "code",
   "execution_count": null,
   "metadata": {},
   "outputs": [],
   "source": [
    "# 使用abc实现抽象方法\n",
    "\"\"\"\n",
    "为了解决Python2&3的兼容问题，需要引入six模块，\n",
    "该模块中有一个针对类的装饰器 @six.add_metaclass(MetaClass) \n",
    "可以为两个版本的Python类方便地添加metaclass\n",
    "\"\"\"\n",
    "import abc \n",
    "import six\n",
    "\n",
    "@six.add_metaclass(abc.ABCMeta)\n",
    "class Pizza(object):\n",
    "    \n",
    "    @abc.abstractmethod\n",
    "    def get_radius(self):\n",
    "        \"\"\"Method that should do something.\"\"\"\n",
    "        pass\n",
    "    \n",
    "Pizza()"
   ]
  },
  {
   "cell_type": "code",
   "execution_count": null,
   "metadata": {},
   "outputs": [],
   "source": [
    "\"\"\"\n",
    "通过抽象方法使用super()\n",
    "在抽象方法中会有实现代码\n",
    "在Pizza中get_ingredients为累方法，并不会强迫其子类也将其定义为类方法\n",
    "将其定义为静态方法也是一样，没有办法强迫子类将抽象方法实现为某种特定类型的方法\n",
    "\"\"\"\n",
    "import six\n",
    "\n",
    "class Pizza(object):\n",
    "    \n",
    "    default_ingredients = ['cheese']\n",
    "    \n",
    "    @classmethod\n",
    "    @abc.abstractmethod\n",
    "    def get_ingredients(cls):\n",
    "        \"\"\"Method that should do something.\"\"\"\n",
    "        return cls.default_ingredients\n",
    "\n",
    "class DietPizza(Pizza):\n",
    "    def get_ingredients(self):\n",
    "        return super(DietPizza, self).get_ingredients()\n",
    "    \n",
    "dp = DietPizza().get_ingredients()\n",
    "dp"
   ]
  },
  {
   "cell_type": "code",
   "execution_count": null,
   "metadata": {},
   "outputs": [],
   "source": [
    "def parent():\n",
    "    return object\n",
    "\n",
    "class A(parent()):\n",
    "    pass\n",
    "    \n",
    "A.mro() # 返回方法解析顺序用于解析属性"
   ]
  },
  {
   "cell_type": "code",
   "execution_count": null,
   "metadata": {},
   "outputs": [],
   "source": [
    "\"\"\"\n",
    "super()函数实际上是一个构造器\n",
    "每次调用都会实例化一个super对象\n",
    "接受一个或两个参数，第一个参数是一个类，第二个参数是子类或第一个参数的一个实例\n",
    "构造器返回的对象就像是第一个参数的父类的一个代理，它有自己的__getattribute__\n",
    "方法去遍历MRO列表汇中的类并返回第一个满足条件的属性\n",
    "\"\"\"\n",
    "\n",
    "class A(object):\n",
    "    bar = 42\n",
    "    def foo(self):\n",
    "        print(\"func foo...\")\n",
    "        pass\n",
    "    \n",
    "class B(object):\n",
    "    bar = 0\n",
    "    \n",
    "class C(A, B):\n",
    "    xyz = 'abc'\n",
    "    \n",
    "C.mro()"
   ]
  },
  {
   "cell_type": "code",
   "execution_count": null,
   "metadata": {},
   "outputs": [],
   "source": [
    "super(C, C()).bar"
   ]
  },
  {
   "cell_type": "code",
   "execution_count": null,
   "metadata": {},
   "outputs": [],
   "source": [
    "super(C, C()).foo"
   ]
  },
  {
   "cell_type": "code",
   "execution_count": null,
   "metadata": {},
   "outputs": [],
   "source": [
    "super(B).__self__"
   ]
  },
  {
   "cell_type": "code",
   "execution_count": null,
   "metadata": {},
   "outputs": [],
   "source": [
    "super(B,B()).__self__"
   ]
  },
  {
   "cell_type": "code",
   "execution_count": null,
   "metadata": {},
   "outputs": [],
   "source": [
    "super(C) # 对象未绑定，所有不能通过它访问类属性"
   ]
  },
  {
   "cell_type": "code",
   "execution_count": null,
   "metadata": {},
   "outputs": [],
   "source": [
    "\"\"\"\n",
    "super类通过某种方式实现了描述符协议(也就是__get__)，\n",
    "这种方式能够让未绑定的super对象像类属性一样有用\n",
    "\"\"\"\n",
    "class D(C):\n",
    "    sup = super(C)\n",
    "    \n",
    "D().sup"
   ]
  },
  {
   "cell_type": "code",
   "execution_count": null,
   "metadata": {},
   "outputs": [],
   "source": [
    "D().sup.foo"
   ]
  },
  {
   "cell_type": "code",
   "execution_count": null,
   "metadata": {},
   "outputs": [],
   "source": [
    "D().sup.bar"
   ]
  },
  {
   "cell_type": "code",
   "execution_count": null,
   "metadata": {},
   "outputs": [],
   "source": [
    "super(C, C())"
   ]
  },
  {
   "cell_type": "code",
   "execution_count": null,
   "metadata": {},
   "outputs": [],
   "source": [
    "class B(A):\n",
    "    def foo(self):\n",
    "        super().foo()\n",
    "\n",
    "one_b = B()\n",
    "one_b.foo()"
   ]
  },
  {
   "cell_type": "code",
   "execution_count": null,
   "metadata": {},
   "outputs": [],
   "source": [
    "class ObjectCreator(object):\n",
    "    pass\n",
    "\n",
    "my_object = ObjectCreator()\n",
    "print(my_object)"
   ]
  },
  {
   "cell_type": "code",
   "execution_count": null,
   "metadata": {},
   "outputs": [],
   "source": [
    "my_object.x = 10"
   ]
  },
  {
   "cell_type": "code",
   "execution_count": null,
   "metadata": {},
   "outputs": [],
   "source": [
    "def func():\n",
    "    print(\"func...\")"
   ]
  },
  {
   "cell_type": "code",
   "execution_count": null,
   "metadata": {},
   "outputs": [],
   "source": [
    "print(hasattr(my_object, 'x'))"
   ]
  },
  {
   "cell_type": "code",
   "execution_count": null,
   "metadata": {},
   "outputs": [],
   "source": [
    "print(type(ObjectCreator))"
   ]
  },
  {
   "cell_type": "code",
   "execution_count": null,
   "metadata": {},
   "outputs": [],
   "source": [
    "print(type(ObjectCreator()))"
   ]
  },
  {
   "cell_type": "code",
   "execution_count": null,
   "metadata": {},
   "outputs": [],
   "source": [
    "class Test:\n",
    "    pass\n",
    "Test()"
   ]
  },
  {
   "cell_type": "code",
   "execution_count": null,
   "metadata": {},
   "outputs": [],
   "source": [
    "Test2 = type(\"Test2\",(),{}) # 定了一个Test2类\n",
    "Test2() # 创建了一个Test2类的实例对象"
   ]
  },
  {
   "cell_type": "code",
   "execution_count": null,
   "metadata": {},
   "outputs": [],
   "source": [
    "Foo = type('Foo', (), {'bar':True})"
   ]
  },
  {
   "cell_type": "code",
   "execution_count": null,
   "metadata": {},
   "outputs": [],
   "source": [
    "class Foo(object):\n",
    "    bar = True"
   ]
  },
  {
   "cell_type": "code",
   "execution_count": null,
   "metadata": {},
   "outputs": [],
   "source": [
    "Foo = type('Foo',(),{'bar':True})\n",
    "\n",
    "def echo_bar(self):\n",
    "    print(\">>:bar:\", self.bar)"
   ]
  },
  {
   "cell_type": "code",
   "execution_count": null,
   "metadata": {},
   "outputs": [],
   "source": [
    "FooChild = type('FooChild',(Foo,),{'echo_bar':echo_bar})\n",
    "hasattr(Foo, 'echo_bar')"
   ]
  },
  {
   "cell_type": "code",
   "execution_count": null,
   "metadata": {},
   "outputs": [],
   "source": [
    "hasattr(FooChild, 'echo_bar')"
   ]
  },
  {
   "cell_type": "code",
   "execution_count": null,
   "metadata": {},
   "outputs": [],
   "source": [
    "my_foo = FooChild()\n",
    "if hasattr(FooChild, 'echo_bar'):\n",
    "    my_foo.echo_bar()"
   ]
  },
  {
   "cell_type": "code",
   "execution_count": null,
   "metadata": {},
   "outputs": [],
   "source": [
    "# 添加静态方法\n",
    "@staticmethod\n",
    "def testStatic():\n",
    "    print('static method...')\n",
    "    \n",
    "FooChild = type('FooChild',(Foo,),\n",
    "                {'echo_bar':echo_bar,'testStatic':testStatic})"
   ]
  },
  {
   "cell_type": "code",
   "execution_count": null,
   "metadata": {},
   "outputs": [],
   "source": [
    "foochild = FooChild()\n",
    "foochild.testStatic()"
   ]
  },
  {
   "cell_type": "code",
   "execution_count": null,
   "metadata": {},
   "outputs": [],
   "source": [
    "foochild.testStatic"
   ]
  },
  {
   "cell_type": "code",
   "execution_count": null,
   "metadata": {},
   "outputs": [],
   "source": [
    "foochild.echo_bar()"
   ]
  },
  {
   "cell_type": "code",
   "execution_count": null,
   "metadata": {},
   "outputs": [],
   "source": [
    "# 添加类方法\n",
    "@classmethod\n",
    "def testClass(cls):\n",
    "    print(cls.bar)\n",
    "\n",
    "Foochild = type('FooChild', (Foo,), \n",
    "                {'echo_bar':echo_bar,\n",
    "                 'testStatic':testStatic,\n",
    "                 'testClass':testClass})"
   ]
  },
  {
   "cell_type": "code",
   "execution_count": null,
   "metadata": {},
   "outputs": [],
   "source": [
    "foochild = Foochild()\n",
    "foochild.testClass()"
   ]
  },
  {
   "cell_type": "code",
   "execution_count": null,
   "metadata": {},
   "outputs": [],
   "source": [
    "foochild.__class__.__class__"
   ]
  },
  {
   "cell_type": "code",
   "execution_count": null,
   "metadata": {},
   "outputs": [],
   "source": [
    "def upper_attr(future_class_name, future_class_parents,future_class_attr):\n",
    "    \n",
    "    # 遍历属性字典，把不是__开头的属性名字变为大写\n",
    "    newAttr = {}\n",
    "    for name,value in future_class_attr.items():\n",
    "        if not name.startswith(\"__\"):\n",
    "            newAttr[name.upper()] = value\n",
    "        \n",
    "    # 调用type来创建一个类\n",
    "    return type(future_class_name, future_class_parents, newAttr)"
   ]
  },
  {
   "cell_type": "code",
   "execution_count": null,
   "metadata": {},
   "outputs": [],
   "source": [
    "# python3\n",
    "class Foo(object, metaclass=upper_attr):\n",
    "    bar = 'bip'\n",
    "    \n",
    "# # python2\n",
    "# class Foo(object):\n",
    "#     __metaclass__ = upper_attr\n",
    "#     bar = 'bip'"
   ]
  },
  {
   "cell_type": "raw",
   "metadata": {},
   "source": [
    "print(hasattr(Foo, 'bar'))"
   ]
  },
  {
   "cell_type": "code",
   "execution_count": null,
   "metadata": {},
   "outputs": [],
   "source": [
    "print(hasattr(Foo, 'BAR'))"
   ]
  },
  {
   "cell_type": "code",
   "execution_count": null,
   "metadata": {},
   "outputs": [],
   "source": [
    "f = Foo()\n",
    "print(f.BAR)"
   ]
  },
  {
   "cell_type": "code",
   "execution_count": null,
   "metadata": {},
   "outputs": [],
   "source": [
    "# 方法一：创建一个生成器，直接使用()\n",
    "G = (x*2 for x in range(5))\n",
    "G"
   ]
  },
  {
   "cell_type": "code",
   "execution_count": null,
   "metadata": {},
   "outputs": [],
   "source": [
    "for x in G:\n",
    "    print(x)"
   ]
  },
  {
   "cell_type": "code",
   "execution_count": null,
   "metadata": {},
   "outputs": [],
   "source": [
    "# 方法二： 使用yield\n",
    "def fib(times):\n",
    "    n = 0\n",
    "    a, b = 0, 1\n",
    "    while n < times:\n",
    "        yield b\n",
    "        a, b = b, a+b\n",
    "        n+=1"
   ]
  },
  {
   "cell_type": "code",
   "execution_count": null,
   "metadata": {},
   "outputs": [],
   "source": [
    "F = fib(5)"
   ]
  },
  {
   "cell_type": "code",
   "execution_count": null,
   "metadata": {},
   "outputs": [],
   "source": [
    "for n in fib(5):\n",
    "    print(n)"
   ]
  },
  {
   "cell_type": "code",
   "execution_count": null,
   "metadata": {},
   "outputs": [],
   "source": [
    "g = fib(5)\n",
    "while True:\n",
    "    try:\n",
    "        x = next(g)\n",
    "        print('value: %d' %x)\n",
    "    except StopIteration as e:\n",
    "        print(\"生成器返回值:%s\"%e.value)\n",
    "        break"
   ]
  },
  {
   "cell_type": "code",
   "execution_count": null,
   "metadata": {},
   "outputs": [],
   "source": [
    "def gen():\n",
    "    i = 0\n",
    "    while i<5:\n",
    "        # 使用yield时，gen函数作用暂时卜村，返回i的值；\n",
    "        # temp接受下次c.send('python'),\n",
    "        # send发送过来的值，c.next()等价c.send(None)\n",
    "        temp = yield i \n",
    "        print(temp)\n",
    "        i+=1\n",
    "f = gen()"
   ]
  },
  {
   "cell_type": "code",
   "execution_count": null,
   "metadata": {},
   "outputs": [],
   "source": [
    "next(f) # 使用next函数"
   ]
  },
  {
   "cell_type": "code",
   "execution_count": null,
   "metadata": {},
   "outputs": [],
   "source": [
    "f.__next__() # 使用__next__()方法"
   ]
  },
  {
   "cell_type": "code",
   "execution_count": null,
   "metadata": {},
   "outputs": [],
   "source": [
    "f.send('haha')"
   ]
  },
  {
   "cell_type": "code",
   "execution_count": null,
   "metadata": {},
   "outputs": [],
   "source": [
    "from collections import Iterator\n",
    "isinstance(f, Iterator)"
   ]
  },
  {
   "cell_type": "code",
   "execution_count": null,
   "metadata": {},
   "outputs": [],
   "source": [
    "from collections import Iterable\n",
    "isinstance(f, Iterable)"
   ]
  },
  {
   "cell_type": "code",
   "execution_count": null,
   "metadata": {},
   "outputs": [],
   "source": [
    "# 修饰器修饰类\n",
    "class Test():\n",
    "    def __call__(self):\n",
    "        print('call me')"
   ]
  },
  {
   "cell_type": "code",
   "execution_count": null,
   "metadata": {},
   "outputs": [],
   "source": [
    "# 类装饰器\n",
    "\"\"\"\n",
    "1.当用Test来装作装饰器对test函数进行装饰的时候，首先会创建Test的实例对象\n",
    "并且会把test这个函数名当作参数传递到__init__方法中\n",
    "即在__init__方法中的func变量指向了test函数体\n",
    "2.test函数相当于指向了用Test创建出来的实例对象\n",
    "3.当在使用test() 进行调用时，就相当于让这个对象()，因此会调用这个对象的__call__方法\n",
    "4.为了能够在__call__ 方法中调用原来的test指向的函数体，所以在__init__ 方法中赋值给\n",
    "self.__func,  才有了self.__func = func, 从而在调用__call__ 方法中能够调用test\n",
    "\n",
    "\"\"\"\n",
    "class Test(object):\n",
    "    def __init__(self, func):\n",
    "        print('>>:初始化')\n",
    "        print('func name is %s' %func.__name__)\n",
    "        self.__func = func\n",
    "    \n",
    "    def __call__(self):\n",
    "        print(\">>:装饰器中的功能\")\n",
    "        self.__func()\n",
    "        \n",
    "@Test\n",
    "def test():\n",
    "    print('>>:test')"
   ]
  },
  {
   "cell_type": "code",
   "execution_count": null,
   "metadata": {},
   "outputs": [],
   "source": [
    "test()"
   ]
  },
  {
   "cell_type": "code",
   "execution_count": null,
   "metadata": {},
   "outputs": [],
   "source": [
    "# import 导入模块\n",
    "import sys\n",
    "sys.path"
   ]
  },
  {
   "cell_type": "code",
   "execution_count": null,
   "metadata": {},
   "outputs": [],
   "source": [
    "sys.path.append('/')\n",
    "sys.path.insert(0, '/Downloads') # 可以确保先搜索这个路径\n",
    "sys.path.append('/Users/jasonlu/Desktop/Dev/GitHub/codehub/python')"
   ]
  },
  {
   "cell_type": "code",
   "execution_count": null,
   "metadata": {
    "scrolled": true
   },
   "outputs": [],
   "source": [
    "sys.path"
   ]
  },
  {
   "cell_type": "code",
   "execution_count": null,
   "metadata": {},
   "outputs": [],
   "source": [
    "from imp import *\n",
    "import reload_test\n",
    "reload_test.test()"
   ]
  },
  {
   "cell_type": "code",
   "execution_count": null,
   "metadata": {},
   "outputs": [],
   "source": [
    "reload_test.test()"
   ]
  },
  {
   "cell_type": "code",
   "execution_count": null,
   "metadata": {},
   "outputs": [],
   "source": [
    "reload(reload_test)"
   ]
  },
  {
   "cell_type": "code",
   "execution_count": null,
   "metadata": {},
   "outputs": [],
   "source": [
    "reload_test.test()"
   ]
  },
  {
   "cell_type": "code",
   "execution_count": null,
   "metadata": {
    "scrolled": true
   },
   "outputs": [],
   "source": [
    "import time\n",
    "for i in range(1,101):\n",
    "    print(\"\\r%.2f%%\"%i, end='')\n",
    "    time.sleep(0.01)\n",
    "\n",
    "print(\"\")"
   ]
  },
  {
   "cell_type": "code",
   "execution_count": null,
   "metadata": {},
   "outputs": [],
   "source": [
    "import copy\n",
    "a = [11,22,33]\n",
    "b = copy.copy(a)"
   ]
  },
  {
   "cell_type": "code",
   "execution_count": null,
   "metadata": {},
   "outputs": [],
   "source": [
    "id(a)"
   ]
  },
  {
   "cell_type": "code",
   "execution_count": null,
   "metadata": {},
   "outputs": [],
   "source": [
    "id(b)"
   ]
  },
  {
   "cell_type": "code",
   "execution_count": null,
   "metadata": {},
   "outputs": [],
   "source": [
    "a.append(44)"
   ]
  },
  {
   "cell_type": "code",
   "execution_count": null,
   "metadata": {},
   "outputs": [],
   "source": [
    "a"
   ]
  },
  {
   "cell_type": "code",
   "execution_count": null,
   "metadata": {},
   "outputs": [],
   "source": [
    "b"
   ]
  },
  {
   "cell_type": "code",
   "execution_count": null,
   "metadata": {},
   "outputs": [],
   "source": [
    "a2 = (11,22,33)\n",
    "b2 = copy.copy(a2)"
   ]
  },
  {
   "cell_type": "code",
   "execution_count": null,
   "metadata": {},
   "outputs": [],
   "source": [
    "id(a2)"
   ]
  },
  {
   "cell_type": "code",
   "execution_count": null,
   "metadata": {},
   "outputs": [],
   "source": [
    "id(b2)"
   ]
  },
  {
   "cell_type": "code",
   "execution_count": null,
   "metadata": {},
   "outputs": [],
   "source": [
    "D = dict(name=\"zhangsan\", age=27)\n",
    "Co = D.copy()"
   ]
  },
  {
   "cell_type": "code",
   "execution_count": null,
   "metadata": {},
   "outputs": [],
   "source": [
    "id(D)"
   ]
  },
  {
   "cell_type": "code",
   "execution_count": null,
   "metadata": {},
   "outputs": [],
   "source": [
    "id(Co)"
   ]
  },
  {
   "cell_type": "code",
   "execution_count": null,
   "metadata": {},
   "outputs": [],
   "source": [
    "D['gender'] = 'man'"
   ]
  },
  {
   "cell_type": "code",
   "execution_count": null,
   "metadata": {},
   "outputs": [],
   "source": [
    "D"
   ]
  },
  {
   "cell_type": "code",
   "execution_count": null,
   "metadata": {},
   "outputs": [],
   "source": [
    "Co"
   ]
  },
  {
   "cell_type": "code",
   "execution_count": null,
   "metadata": {},
   "outputs": [],
   "source": [
    "# 使用property升级getter和setter方法\n",
    "\n",
    "class Money(object):\n",
    "    def __init__(self):\n",
    "        self.__money = 0\n",
    "        \n",
    "    def get_money(self):\n",
    "        return self.__money\n",
    "    \n",
    "    def set_money(self, value):\n",
    "        if isinstance(value, int):\n",
    "            self.__money = value\n",
    "        else:\n",
    "            print(\"error:不是整形数字\")\n",
    "            \n",
    "    money = property(get_money, set_money)"
   ]
  },
  {
   "cell_type": "code",
   "execution_count": null,
   "metadata": {},
   "outputs": [],
   "source": [
    "a = Money()"
   ]
  },
  {
   "cell_type": "code",
   "execution_count": null,
   "metadata": {},
   "outputs": [],
   "source": [
    "a.money"
   ]
  },
  {
   "cell_type": "code",
   "execution_count": null,
   "metadata": {},
   "outputs": [],
   "source": [
    "a.money = 100"
   ]
  },
  {
   "cell_type": "code",
   "execution_count": null,
   "metadata": {},
   "outputs": [],
   "source": [
    "a.money"
   ]
  },
  {
   "cell_type": "code",
   "execution_count": null,
   "metadata": {},
   "outputs": [],
   "source": [
    "a.get_money()"
   ]
  },
  {
   "cell_type": "code",
   "execution_count": null,
   "metadata": {},
   "outputs": [],
   "source": [
    "# 使用property取代getter和setter方法\n",
    "\n",
    "class Money(object):\n",
    "    def __init__(self):\n",
    "        self.__money = 0\n",
    "    \n",
    "    @property\n",
    "    def money(self):\n",
    "        return self.__money\n",
    "    \n",
    "    @money.setter\n",
    "    def money(self, value):\n",
    "        if isinstance(value, int):\n",
    "            self.__money = value\n",
    "        else:\n",
    "            print(\"error:不是整型数字\")"
   ]
  },
  {
   "cell_type": "code",
   "execution_count": null,
   "metadata": {},
   "outputs": [],
   "source": [
    "a = Money()"
   ]
  },
  {
   "cell_type": "code",
   "execution_count": null,
   "metadata": {},
   "outputs": [],
   "source": [
    "a.money"
   ]
  },
  {
   "cell_type": "code",
   "execution_count": null,
   "metadata": {},
   "outputs": [],
   "source": [
    "a.money = 100"
   ]
  },
  {
   "cell_type": "code",
   "execution_count": null,
   "metadata": {},
   "outputs": [],
   "source": [
    "a.money"
   ]
  },
  {
   "cell_type": "code",
   "execution_count": null,
   "metadata": {},
   "outputs": [],
   "source": [
    "int_a = -6\n",
    "id(int_a)"
   ]
  },
  {
   "cell_type": "code",
   "execution_count": null,
   "metadata": {},
   "outputs": [],
   "source": [
    "int_b = -6\n",
    "id(int_b)"
   ]
  },
  {
   "cell_type": "code",
   "execution_count": null,
   "metadata": {},
   "outputs": [],
   "source": [
    "a = \"hello world\""
   ]
  },
  {
   "cell_type": "code",
   "execution_count": null,
   "metadata": {},
   "outputs": [],
   "source": [
    "b = \"hello world\""
   ]
  },
  {
   "cell_type": "code",
   "execution_count": null,
   "metadata": {},
   "outputs": [],
   "source": [
    "id(a)"
   ]
  },
  {
   "cell_type": "code",
   "execution_count": null,
   "metadata": {},
   "outputs": [],
   "source": [
    "id(b)"
   ]
  },
  {
   "cell_type": "code",
   "execution_count": null,
   "metadata": {},
   "outputs": [],
   "source": [
    "c = \"helloworld\""
   ]
  },
  {
   "cell_type": "code",
   "execution_count": null,
   "metadata": {},
   "outputs": [],
   "source": [
    "d = \"helloworld\""
   ]
  },
  {
   "cell_type": "code",
   "execution_count": null,
   "metadata": {},
   "outputs": [],
   "source": [
    "id(c)"
   ]
  },
  {
   "cell_type": "code",
   "execution_count": null,
   "metadata": {},
   "outputs": [],
   "source": [
    "id(d)"
   ]
  },
  {
   "cell_type": "code",
   "execution_count": null,
   "metadata": {},
   "outputs": [],
   "source": [
    "import sys\n",
    "str_a = 'helloworld'\n",
    "sys.getrefcount(str_a)"
   ]
  },
  {
   "cell_type": "code",
   "execution_count": null,
   "metadata": {},
   "outputs": [],
   "source": [
    "import gc\n",
    "\n",
    "class ClassA():\n",
    "    pass\n",
    "#     def __del__(self):\n",
    "#         print('object born,id:%s'%str(hex(id(self))))\n",
    "    \n",
    "gc.set_debug(gc.DEBUG_LEAK)\n",
    "a = ClassA()\n",
    "b = ClassA()\n",
    "\n",
    "a.next = b\n",
    "b.prev = a"
   ]
  },
  {
   "cell_type": "code",
   "execution_count": null,
   "metadata": {},
   "outputs": [],
   "source": [
    "gc.collect()"
   ]
  },
  {
   "cell_type": "code",
   "execution_count": null,
   "metadata": {},
   "outputs": [],
   "source": [
    "del a"
   ]
  },
  {
   "cell_type": "code",
   "execution_count": null,
   "metadata": {},
   "outputs": [],
   "source": [
    "del b"
   ]
  },
  {
   "cell_type": "code",
   "execution_count": null,
   "metadata": {},
   "outputs": [],
   "source": [
    "gc.collect()"
   ]
  },
  {
   "cell_type": "code",
   "execution_count": null,
   "metadata": {},
   "outputs": [],
   "source": [
    "\n",
    "class Person:\n",
    "    pass\n",
    "\n",
    "dir(Person)"
   ]
  },
  {
   "cell_type": "code",
   "execution_count": null,
   "metadata": {},
   "outputs": [],
   "source": [
    "import socket\n",
    "hostname = 'www.baidu.com'\n",
    "addr = socket.gethostbyname(hostname)\n",
    "print('The IP address of {} is {}'.format(hostname, addr))"
   ]
  },
  {
   "cell_type": "code",
   "execution_count": null,
   "metadata": {},
   "outputs": [],
   "source": [
    "import socket\n",
    "hostname = 'www.python.org'\n",
    "addr = socket.gethostbyname(hostname)\n",
    "print('The IP address of {} is {}'.format(hostname, addr))"
   ]
  },
  {
   "cell_type": "code",
   "execution_count": null,
   "metadata": {},
   "outputs": [],
   "source": [
    "gc.disable()\n",
    "class Person(object):\n",
    "    def __getattribute__(self, obj):\n",
    "        print('---test---')\n",
    "        if obj.startswith('a'):\n",
    "            return 'haha'\n",
    "        else:\n",
    "            return self.test\n",
    "        \n",
    "    def test(self):\n",
    "        print('heihei')\n"
   ]
  },
  {
   "cell_type": "code",
   "execution_count": null,
   "metadata": {},
   "outputs": [],
   "source": [
    "ret = filter(None, \"She\")\n",
    "ret.__next__()"
   ]
  },
  {
   "cell_type": "code",
   "execution_count": null,
   "metadata": {},
   "outputs": [],
   "source": [
    "ret = filter(lambda x: x%2, [1,2,3,4])"
   ]
  },
  {
   "cell_type": "code",
   "execution_count": null,
   "metadata": {},
   "outputs": [],
   "source": [
    "while True:\n",
    "    try:\n",
    "        print(ret.__next__())\n",
    "    except StopIteration as e:\n",
    "        print(\">>::%s\"%e)\n",
    "        break"
   ]
  },
  {
   "cell_type": "code",
   "execution_count": null,
   "metadata": {},
   "outputs": [],
   "source": [
    "help(filter)"
   ]
  },
  {
   "cell_type": "code",
   "execution_count": null,
   "metadata": {},
   "outputs": [],
   "source": [
    "from functools import reduce\n",
    "help(reduce)"
   ]
  },
  {
   "cell_type": "code",
   "execution_count": null,
   "metadata": {},
   "outputs": [],
   "source": [
    "help(sorted)"
   ]
  },
  {
   "cell_type": "code",
   "execution_count": null,
   "metadata": {},
   "outputs": [],
   "source": [
    "# python3.5\n",
    "import functools\n",
    "dir(functools)\n",
    "help(functools.partial)"
   ]
  },
  {
   "cell_type": "code",
   "execution_count": null,
   "metadata": {},
   "outputs": [],
   "source": [
    "gc.disable()\n",
    "import functools\n",
    "\n",
    "def showarg(*args, **kw):\n",
    "    print(args)\n",
    "    print(kw)\n",
    "    \n",
    "p1 = functools.partial(showarg)\n",
    "p1()\n",
    "\n",
    "p1(4,5,6)\n",
    "p1(a='python',b='itcast')"
   ]
  },
  {
   "cell_type": "code",
   "execution_count": null,
   "metadata": {},
   "outputs": [],
   "source": [
    "p2 = functools.partial(showarg, a=3, b='linux')"
   ]
  },
  {
   "cell_type": "code",
   "execution_count": null,
   "metadata": {},
   "outputs": [],
   "source": [
    "p2(1,2)"
   ]
  },
  {
   "cell_type": "code",
   "execution_count": null,
   "metadata": {},
   "outputs": [],
   "source": [
    "p2(a='python', b='itcast')"
   ]
  },
  {
   "cell_type": "code",
   "execution_count": null,
   "metadata": {},
   "outputs": [],
   "source": [
    "import hashlib"
   ]
  },
  {
   "cell_type": "code",
   "execution_count": null,
   "metadata": {},
   "outputs": [],
   "source": [
    "import hashlib\n",
    "import datetime\n",
    "\n",
    "\n",
    "KEY_VALUE = 'Itcast'\n",
    "now = datetime.datetime.now()\n",
    "m = hashlib.md5()\n",
    "str = '%s%s'%(KEY_VALUE, now.strftime(\"%Y%m%d\"))\n",
    "m.update(str.encode('utf-8'))\n",
    "value = m.hexdigest()\n",
    "print(value)"
   ]
  },
  {
   "cell_type": "code",
   "execution_count": null,
   "metadata": {},
   "outputs": [],
   "source": [
    "# Debugging\n",
    "import pdb\n",
    "def make_bread():\n",
    "    pdb.set_trace()\n",
    "    return \"I don't have time\"\n",
    "\n",
    "print(make_bread())"
   ]
  },
  {
   "cell_type": "code",
   "execution_count": null,
   "metadata": {},
   "outputs": [],
   "source": [
    "from time import sleep\n",
    "def sing():\n",
    "    for i in range(3):\n",
    "        print(\"正在唱歌...%d\"%i)\n",
    "        sleep(1)\n",
    "        \n",
    "def dance():\n",
    "    for i in range(3):\n",
    "        print('正在跳舞...%d'%i)\n",
    "        sleep(1)\n",
    "\n",
    "sing()\n",
    "dance()"
   ]
  },
  {
   "cell_type": "code",
   "execution_count": null,
   "metadata": {},
   "outputs": [],
   "source": [
    "# 程序执行到os.fork()时，操作系统会创建一个新的进程(子进程),\n",
    "# 然后复制父进程的所有信息到子进程中\n",
    "# 然后父进程和子进程都会从fork()函数中得到了一个返回值，\n",
    "# 在子进程中这个值一定是0，而父进程中是子进程的id号\n",
    "import os \n",
    "\n",
    "\n",
    "pid = os.fork()\n",
    "if pid == 0:\n",
    "    print('哈哈1')\n",
    "else:\n",
    "    print('哈哈2')"
   ]
  },
  {
   "cell_type": "code",
   "execution_count": null,
   "metadata": {},
   "outputs": [],
   "source": [
    "import os\n",
    "\n",
    "x = 0\n",
    "rpid = os.fork()\n",
    "if rpid < 0:\n",
    "    print('fork调用失败...')\n",
    "elif rpid == 0:\n",
    "    print('我是子进程(%s), 我的父进程是(%s)'%(os.getpid(), os.getppid()))\n",
    "    x += 1\n",
    "else:\n",
    "    print('我是父进程(%s), 我的子进程是(%s)'%(os.getpid(), rpid))\n",
    "    \n",
    "print('父子进程都可以执行这里的代码')"
   ]
  },
  {
   "cell_type": "code",
   "execution_count": null,
   "metadata": {},
   "outputs": [],
   "source": [
    "# 多进程修改全局变量\n",
    "import os\n",
    "import time \n",
    "\n",
    "num = 0\n",
    "\n",
    "pid = os.fork()\n",
    "\n",
    "if pid == 0:\n",
    "    num += 1\n",
    "    print('哈哈1---num=%d'%num)\n",
    "else:\n",
    "    time.sleep(1)\n",
    "    num += 1\n",
    "    print('哈哈2---num=%d'%num)\n",
    "    "
   ]
  },
  {
   "cell_type": "code",
   "execution_count": null,
   "metadata": {},
   "outputs": [],
   "source": [
    "import os\n",
    "import time\n",
    "\n",
    "\n",
    "pid = os.fork()\n",
    "if pid == 0:\n",
    "    print('哈哈1')\n",
    "else:\n",
    "    print('哈哈2')\n",
    "\n",
    "pid = os.fork()\n",
    "if pid == 0:\n",
    "    print('哈哈3')\n",
    "else:\n",
    "    print('哈哈4')\n",
    "    \n",
    "time.sleep(1)\n"
   ]
  },
  {
   "cell_type": "code",
   "execution_count": null,
   "metadata": {},
   "outputs": [],
   "source": [
    "from multiprocessing import Process\n",
    "import os \n",
    "\n",
    "\n",
    "# 子进程要执行的代码\n",
    "def run_proc(name):\n",
    "    print('子进程运行中，name=%s, pid=%d...'%(name, os.getpid()))\n",
    "    \n",
    "print('父进程 %d.'%os.getpid())\n",
    "p = Process(target=run_proc, args=('test',))\n",
    "print('子进程将要执行')\n",
    "p.start()\n",
    "p.join()\n",
    "print('子进程已结束')"
   ]
  },
  {
   "cell_type": "code",
   "execution_count": null,
   "metadata": {},
   "outputs": [],
   "source": [
    "from multiprocessing import Process\n",
    "import os\n",
    "from time import sleep\n",
    "\n",
    "\n",
    "def run_proc(name, age, **kwargs):\n",
    "    for i in range(10):\n",
    "        print('子进程运行中, name=%s, age=%d, pid=%d...'%(name, age, os.getpid()))\n",
    "        print(kwargs)\n",
    "        sleep(0.5)\n",
    "        \n",
    "print('父进程 %d.' %(os.getpid()))\n",
    "p = Process(target=run_proc, args=('test', 18), kwargs={'m': 20})\n",
    "print('子进程将要执行')\n",
    "p.start()\n",
    "sleep(1)\n",
    "p.terminate()\n",
    "p.join()\n",
    "print('子进程已结束')"
   ]
  },
  {
   "cell_type": "code",
   "execution_count": null,
   "metadata": {},
   "outputs": [],
   "source": [
    "# 进程的创建-Process子类\n",
    "from multiprocessing import Process\n",
    "import time\n",
    "import os\n",
    "\n",
    "\n",
    "def run_proc(name, age, **kwargs):\n",
    "    for i in range(200000000):pass\n",
    "    for i in range(3):\n",
    "        print('子进程运行中, name=%s, age=%d, pid=%d...'%(name, age, os.getpid()))\n",
    "        print(kwargs)\n",
    "    \n",
    "class Process_Class(Process):\n",
    "    def __init__(self, p):\n",
    "        Process.__init__(self)\n",
    "        self.p = p\n",
    "        \n",
    "    # 重写了Process类的run()方法\n",
    "    def run(self):\n",
    "        print('子进程(%s) 开始执行，父进程（%s）'%(os.getpid(), os.getppid()))\n",
    "        t_start = time.time()\n",
    "        self.p.start()\n",
    "        self.p.join()\n",
    "#         for i in range(100000000):pass\n",
    "#         time.sleep(self.interval)\n",
    "        t_stop = time.time()\n",
    "        print('(%s)执行结束，耗时%0.2f秒'%(os.getpid(), t_stop-t_start))\n",
    "        \n",
    "t_start = time.time()\n",
    "print('当前程序进程(%s)'%(os.getpid()))\n",
    "p0 = Process(target=run_proc,args=('test', 18), kwargs={'m': 20})\n",
    "p0.start()\n",
    "p0.join()\n",
    "# p1 = Process_Class(p0)\n",
    "# p1.start()\n",
    "# p1.join()\n",
    "t_stop = time.time()\n",
    "print(\"(%s)执行结束，耗时%0.2f\"%(os.getpid(), t_stop-t_start))"
   ]
  },
  {
   "cell_type": "code",
   "execution_count": 13,
   "metadata": {},
   "outputs": [
    {
     "name": "stdout",
     "output_type": "stream",
     "text": [
      "---thread=4329504096, num=1---\n",
      "---thread=4329504096, num=1---\n",
      "---thread=4329504096, num=1---\n",
      "---thread=4329504128, num=2---\n",
      "---thread=4329504128, num=2---\n",
      "---thread=4329504128, num=2---\n",
      "---thread=4329504160, num=3---\n",
      "---thread=4329504160, num=3---\n",
      "---thread=4329504160, num=3---\n",
      "---thread=4329504192, num=4---\n",
      "---start---\n",
      "---end---\n",
      "end num=0, id=4329504064\n"
     ]
    }
   ],
   "source": [
    "# 进程池Pool\n",
    "import threading\n",
    "from multiprocessing import Pool\n",
    "import os\n",
    "import time\n",
    "import random\n",
    "\n",
    "g_num = 0\n",
    "t_lock = threading.Lock()\n",
    "\n",
    "def worker(msg):\n",
    "    global g_num\n",
    "#     g_num += 1\n",
    "#     print('---thread=%d, num=%d---' %(id(g_num), g_num))\n",
    "    \n",
    "    if t_lock.acquire():\n",
    "        g_num += 1\n",
    "        print('---thread=%d, num=%d---' %(id(g_num), g_num))\n",
    "        t_lock.release()\n",
    "\n",
    "#     t_start = time.time()\n",
    "#     print(\"%s开始执行, 进程号为%d\"%(msg, os.getpid()))\n",
    "#     print('---num=%d---' %num)\n",
    "#     time.sleep(random.random()*2)\n",
    "#     t_stop = time.time()\n",
    "#     print(msg, '执行完毕, 耗时%0.2f'%(t_stop-t_start))\n",
    "    \n",
    "po = Pool(3)\n",
    "for i in range(0, 10):\n",
    "    po.apply_async(worker, (i,)) # 非阻塞方式\n",
    "#     po.apply(worker, (i,)) 阻塞方式\n",
    "    \n",
    "print(\"---start---\")\n",
    "po.close()\n",
    "po.join()\n",
    "print(\"---end---\")\n",
    "print('end num=%d, id=%d' %(g_num, id(g_num)))"
   ]
  },
  {
   "cell_type": "code",
   "execution_count": 3,
   "metadata": {},
   "outputs": [
    {
     "name": "stderr",
     "output_type": "stream",
     "text": [
      "/Users/jasonlu/.virtualenvs/pyven3_6/lib/python3.6/site-packages/ipykernel_launcher.py:1: ExtDeprecationWarning: Importing flask.ext.sqlalchemy is deprecated, use flask_sqlalchemy instead.\n",
      "  \"\"\"Entry point for launching an IPython kernel.\n"
     ]
    }
   ],
   "source": [
    "from flask.ext.sqlalchemy import SQLAlchemy\n",
    "db = SQLAlchemy()"
   ]
  },
  {
   "cell_type": "code",
   "execution_count": null,
   "metadata": {},
   "outputs": [],
   "source": [
    "tasks = [\n",
    "    {\n",
    "        'id': 1,\n",
    "        'title': u'Buy groceries',\n",
    "        'description': u'Milk, Cheese, Pizza, Fruit, Tylenol', \n",
    "        'done': False\n",
    "    },\n",
    "    {\n",
    "        'id': 2,\n",
    "        'title': u'Learn Python',\n",
    "        'description': u'Need to find a good Python tutorial on the web', \n",
    "        'done': False\n",
    "    }\n",
    "]\n",
    "task_id = 3\n",
    "task = filter(lambda t: t['id'] == task_id, tasks)\n",
    "\n",
    "try:\n",
    "    info = task.__next__()\n",
    "except StopIteration as e:\n",
    "    print('StopIteration ...')\n"
   ]
  },
  {
   "cell_type": "code",
   "execution_count": null,
   "metadata": {},
   "outputs": [],
   "source": [
    "# Queue的使用，实现多进程之间的数据传递\n",
    "from multiprocessing import Queue\n",
    "\n",
    "\n",
    "q = Queue(3)\n",
    "q.put(\"消息1\")\n",
    "q.put(\"消息2\")\n",
    "print(q.full())\n",
    "q.put('消息3')\n",
    "\n",
    "# 推荐方式\n",
    "if not q.full():\n",
    "    q.put_nowait(\"消息4\")\n",
    "\n",
    "while True:\n",
    "    if not q.empty():\n",
    "        print(q.get_nowait())\n",
    "    else:\n",
    "        print(\"queue is empty....\")\n",
    "        break\n",
    "\n",
    "\n",
    "\n",
    "# if not q.empty():\n",
    "#     for i in range(q.qsize()):\n",
    "#         print(q.get_nowait())\n",
    "\n"
   ]
  },
  {
   "cell_type": "code",
   "execution_count": null,
   "metadata": {},
   "outputs": [],
   "source": [
    "# Queue实例\n",
    "from multiprocessing import Process, Queue\n",
    "import os, time, random\n",
    "\n",
    "# 写数据进程执行的代码\n",
    "def write(q, v):\n",
    "    print(v)\n",
    "    for value in ['A','B','C']:\n",
    "        print('Put %s to queue'%value)\n",
    "        q.put(value)\n",
    "        time.sleep(random.random())\n",
    "        \n",
    "# 读数据进程执行的代码\n",
    "def read(q):\n",
    "    while True:\n",
    "        if not q.empty():\n",
    "            value = q.get(True)\n",
    "            print(\"Get %s from queue.\"%value)\n",
    "            time.sleep(random.random())\n",
    "        else:\n",
    "            break\n",
    "            \n",
    "# 父进程创建Queue, 并传给各个子进程\n",
    "q = Queue()\n",
    "pw = Process(target=write, args=(q,1,))\n",
    "pr = Process(target=read, args=(q,))\n",
    "\n",
    "pw.start()\n",
    "pw.join()\n",
    "\n",
    "pr.start()\n",
    "pr.join()\n",
    "\n",
    "print('所有数据都写入并且读完...')"
   ]
  },
  {
   "cell_type": "code",
   "execution_count": null,
   "metadata": {},
   "outputs": [],
   "source": [
    "# 进程池中的Queue\n",
    "# 进程池中的进程如何通信\n",
    "\n",
    "# 修改Queue为Manager\n",
    "from multiprocessing import Manager, Pool\n",
    "import os, time, random\n",
    "\n",
    "\n",
    "def reader(q):\n",
    "    print('reader启动(%s), 父进程为(%s)'%(os.getpid(), os.getppid()))\n",
    "    while True:\n",
    "        if not q.empty():\n",
    "            print('reader从Queue获取到消息:%s'%(q.get(True)))\n",
    "        else:\n",
    "            break\n",
    "            \n",
    "def writer(q):\n",
    "    print('write启动(%s), 父进程为(%s)'%(os.getpid(), os.getppid()))\n",
    "    for i in 'dongGe':\n",
    "        q.put(i)\n",
    "        \n",
    "\n",
    "print('(%s) start'%(os.getpid()))\n",
    "q = Manager().Queue() # 使用Manager中的Queue来初始化\n",
    "po = Pool()\n",
    "\n",
    "# 使用阻塞模式创建进程，这样就不需要在reader中使用死循环了，可以让writer写完\n",
    "po.apply(writer, (q,))\n",
    "po.apply(reader, (q,))\n",
    "po.close()\n",
    "po.join()\n",
    "print('(%s) 线程结束...'%(os.getpid()))"
   ]
  },
  {
   "cell_type": "code",
   "execution_count": null,
   "metadata": {},
   "outputs": [],
   "source": [
    "# 多线程-threading\n",
    "import threading\n",
    "import time \n",
    "\n",
    "\n",
    "def say_sorry():\n",
    "    print('我错了，我能吃饭了吗？')\n",
    "    time.sleep(1)\n",
    "    \n",
    "for i in range(5):\n",
    "    t = threading.Thread(target=say_sorry)\n",
    "    t.start() #  启动线程，即让线程开始执行"
   ]
  },
  {
   "cell_type": "code",
   "execution_count": null,
   "metadata": {},
   "outputs": [],
   "source": [
    "# 主线程会等待所有的子线程结束后才结束\n",
    "import threading\n",
    "from time import sleep, ctime\n",
    "\n",
    "def sing():\n",
    "    for i in range(3):\n",
    "        print('正在唱歌...%d'%i)\n",
    "        sleep(1)\n",
    "        \n",
    "def dance():\n",
    "    for i in range(3):\n",
    "        print('正在跳舞...%d'%i)\n",
    "        sleep(1)\n",
    "        \n",
    "print('---开始---:%s'%ctime())\n",
    "\n",
    "t1 = threading.Thread(target=sing)\n",
    "t2 = threading.Thread(target=dance)\n",
    "\n",
    "t1.start()\n",
    "t2.start()\n",
    "\n",
    "#  查看进程数量\n",
    "# while True:\n",
    "#     length = len(threading.enumerate())\n",
    "#     print('当前运行的线程数为: %d'%length)\n",
    "#     if length <= 1:\n",
    "#         break\n",
    "        \n",
    "#     sleep(0.5)\n",
    "        \n",
    "        \n",
    "# sleep(5)\n",
    "print('---结束---:%s'%ctime())"
   ]
  },
  {
   "cell_type": "code",
   "execution_count": null,
   "metadata": {},
   "outputs": [],
   "source": [
    "# 线程执行代码的封装\n",
    "import threading\n",
    "import time \n",
    "\n",
    "class MyThread(threading.Thread):\n",
    "    def run(self):\n",
    "        for i in range(3):\n",
    "            time.sleep(1)\n",
    "            msg = \"I'm \" + self.name + ' @' + str(i)\n",
    "            print(msg)\n",
    "            \n",
    "\n",
    "t = MyThread()\n",
    "t.start()\n",
    "# 覆写run方法，通过start方法启动线程，然后由python虚拟机进行调度"
   ]
  },
  {
   "cell_type": "code",
   "execution_count": 14,
   "metadata": {},
   "outputs": [
    {
     "name": "stdout",
     "output_type": "stream",
     "text": [
      "I'm Thread-36 @0\n",
      "I'm Thread-40 @0\n",
      "I'm Thread-37 @0\n",
      "I'm Thread-38 @0\n",
      "I'm Thread-39 @0\n",
      "I'm Thread-40 @1I'm Thread-38 @1I'm Thread-37 @1I'm Thread-36 @1I'm Thread-39 @1\n",
      "\n",
      "\n",
      "\n",
      "\n",
      "I'm Thread-39 @2I'm Thread-38 @2\n",
      "\n",
      "I'm Thread-40 @2\n",
      "I'm Thread-37 @2I'm Thread-36 @2\n",
      "\n"
     ]
    }
   ],
   "source": [
    "# 线程的执行顺序\n",
    "import threading\n",
    "import time, os\n",
    "\n",
    "\n",
    "class MyThread(threading.Thread):\n",
    "    def run(self):\n",
    "        for i in range(3):\n",
    "            time.sleep(1)\n",
    "            msg = \"I'm \" + self.name + ' @' + str(i)\n",
    "            print(msg)\n",
    "            \n",
    "def test():\n",
    "    for i in range(5):\n",
    "        t = MyThread()\n",
    "        t.start()\n",
    "        \n",
    "test()\n",
    "# 多线程程序的执行顺序是不确定的，\n",
    "# 当执行到sleep语句时，线程将被阻塞(blocked)\n",
    "# 到sleep结束后，线程进入就绪(Runnable)状态，等待调度\n",
    "# 线程调度将自行选择一个线程执行\n",
    "# 上面代码中只能保证每个线程都运行完整个run函数，但是线程的启动顺序，\n",
    "# run函数中每次循环的执行顺序都不能确定"
   ]
  },
  {
   "cell_type": "code",
   "execution_count": 21,
   "metadata": {},
   "outputs": [
    {
     "name": "stdout",
     "output_type": "stream",
     "text": [
      "---线程创建之前g_num is 100---\n",
      "---in work1, g_num is 103---\n",
      "---in work2, g_num is 106---\n"
     ]
    }
   ],
   "source": [
    "from threading import Thread\n",
    "import time \n",
    "\n",
    "g_num = 100\n",
    "\n",
    "def work1():\n",
    "    global g_num\n",
    "    for i in range(3):\n",
    "        g_num += 1\n",
    "        \n",
    "    print(\"---in work1, g_num is %d---\" % g_num)\n",
    "    \n",
    "    \n",
    "def work2():\n",
    "    global g_num\n",
    "    for i in range(3):\n",
    "        g_num += 1\n",
    "    print(\"---in work2, g_num is %d---\" % g_num)\n",
    "    \n",
    "print('---线程创建之前g_num is %d---' % g_num)\n",
    "\n",
    "t1 = Thread(target=work1)\n",
    "t1.start()\n",
    "\n",
    "# time.sleep(1)\n",
    "\n",
    "t2 = Thread(target=work2)\n",
    "t2.start()\n"
   ]
  },
  {
   "cell_type": "code",
   "execution_count": 19,
   "metadata": {},
   "outputs": [
    {
     "name": "stdout",
     "output_type": "stream",
     "text": [
      "---in work1--- [11, 22, 33, 44]\n",
      "---in work2--- [11, 22, 33, 44]\n"
     ]
    }
   ],
   "source": [
    "# 列表当作实参传递到线程中\n",
    "\n",
    "from threading import Thread\n",
    "import time \n",
    "\n",
    "def work1(nums):\n",
    "    nums.append(44)\n",
    "    print('---in work1---', nums)\n",
    "    \n",
    "def work2(nums):\n",
    "    time.sleep(1)\n",
    "    print('---in work2---', nums)\n",
    "    \n",
    "g_nums = [11,22,33]\n",
    "\n",
    "t1 = Thread(target=work1, args=(g_nums,))\n",
    "t1.start()\n",
    "\n",
    "t2 = Thread(target=work2, args=(g_nums,))\n",
    "t2.start()"
   ]
  },
  {
   "cell_type": "code",
   "execution_count": null,
   "metadata": {},
   "outputs": [],
   "source": [
    "# 非全局变量是否要加锁\n",
    "import threading\n",
    "import time \n",
    "\n",
    "class MyThread(threading.Thread):\n",
    "    def __init__(self, num, sleepTime):\n",
    "        threading.Thread.__init__(self)\n",
    "        self.num = num\n",
    "        self.sleepTime = sleepTime\n",
    "        \n",
    "    def run(self):\n",
    "        self.num += 1\n",
    "        time.sleep(self.sleepTime)\n",
    "        print(\"线程(%s), num=%d\" % (self.name, self.num))\n",
    "        \n",
    "mutex = threading.Lock()\n",
    "t1 = MyThread(100, 5)\n",
    "t1.start()\n",
    "t2 = MyThread(200, 1)\n",
    "t2.start()\n",
    "\n",
    "t3 = MyThread(100, 5)\n",
    "t3.start()"
   ]
  },
  {
   "cell_type": "code",
   "execution_count": null,
   "metadata": {},
   "outputs": [],
   "source": [
    "import threading\n",
    "from time import sleep\n",
    "\n",
    "def test(sleepTime):\n",
    "    num = 1\n",
    "    sleep(sleepTime)\n",
    "    num += 1\n",
    "    print('---(%s)--num=%d' % (threading.current_thread(), num))\n",
    "    \n",
    "t1 = threading.Thread(target=test, args=(5,))\n",
    "t2 = threading.Thread(target=test, args=(1,))\n",
    "\n",
    "t1.start()\n",
    "t2.start()"
   ]
  },
  {
   "cell_type": "code",
   "execution_count": null,
   "metadata": {},
   "outputs": [],
   "source": [
    "# 全局变量加锁\n",
    "import threading\n",
    "import time \n",
    "\n",
    "# 全局变量\n",
    "num = 0\n",
    "\n",
    "def task(num):\n",
    "    print(\"线程==%d\" % (num))\n",
    "\n",
    "class MyThread(threading.Thread):\n",
    "    def __init__(self, num, sleepTime):\n",
    "        threading.Thread.__init__(self)\n",
    "        self.sleepTime = sleepTime\n",
    "        \n",
    "    def __init(self, target):\n",
    "        threading.Thread.__init__(self, target=target)\n",
    "        \n",
    "        \n",
    "    def run(self):\n",
    "        if mutex.acquire():\n",
    "            global num\n",
    "            num += 1\n",
    "            time.sleep(self.sleepTime)\n",
    "            print(\"线程(%s), num=%d\" % (self.name, num))\n",
    "            mutex.release()\n",
    "        \n",
    "mutex = threading.Lock()\n",
    "t1 = MyThread(100, 5)\n",
    "t1.start()\n",
    "t2 = MyThread(200, 1)\n",
    "t2.start()\n",
    "\n",
    "t3 = MyThread(100, 5)\n",
    "t3.start()\n",
    "\n",
    "t4 = MyThread(target=task, args=(num,))\n",
    "t4.start()"
   ]
  },
  {
   "cell_type": "code",
   "execution_count": null,
   "metadata": {},
   "outputs": [],
   "source": [
    "import threading\n",
    "import time\n",
    "from queue import Queue\n",
    "\n",
    "\n",
    "class Producer(threading.Thread):\n",
    "    def run(self):\n",
    "        global queue\n",
    "        count = 0\n",
    "        while True:\n",
    "            if queue.qsize() < 1000:\n",
    "                for i in range(100):\n",
    "                    count = count + 1\n",
    "                    msg = '生产产品' + str(count)\n",
    "                    queue.put(msg)\n",
    "                    print(msg)\n",
    "            time.sleep(0.5)\n",
    "            \n",
    "class Consumer(threading.Thread):\n",
    "    def run(self):\n",
    "        global queue\n",
    "        while True:\n",
    "            if queue.qsize() > 100:\n",
    "                for i in range(3):\n",
    "                    msg = self.name + '消费了' + queue.get()\n",
    "                    print(msg)\n",
    "            time.sleep(0.5)\n",
    "            \n",
    "\n",
    "queue = Queue()\n",
    "for i in range(500):\n",
    "    queue.put('初始产品' + str(i))\n",
    "for i in range(2):\n",
    "    p = Producer()\n",
    "    p.start()\n",
    "for i in range(3):\n",
    "    c = Consumer()\n",
    "    c.start()"
   ]
  },
  {
   "cell_type": "code",
   "execution_count": 33,
   "metadata": {},
   "outputs": [
    {
     "name": "stdout",
     "output_type": "stream",
     "text": [
      "old num=5\n",
      "hello, dongGe (in <Thread(Thread-77, started 123145502998528)>) num=6\n",
      "old num=8\n",
      "hello, 老王 (in <Thread(Thread-78, started 123145508253696)>) num=9\n"
     ]
    },
    {
     "ename": "TypeError",
     "evalue": "expected 1 arguments, got 0",
     "output_type": "error",
     "traceback": [
      "\u001b[0;31m---------------------------------------------------------------------------\u001b[0m",
      "\u001b[0;31mTypeError\u001b[0m                                 Traceback (most recent call last)",
      "\u001b[0;32m<ipython-input-33-2d3f67346a2f>\u001b[0m in \u001b[0;36m<module>\u001b[0;34m()\u001b[0m\n\u001b[1;32m     22\u001b[0m \u001b[0mt1\u001b[0m\u001b[0;34m.\u001b[0m\u001b[0mjoin\u001b[0m\u001b[0;34m(\u001b[0m\u001b[0;34m)\u001b[0m\u001b[0;34m\u001b[0m\u001b[0m\n\u001b[1;32m     23\u001b[0m \u001b[0mt2\u001b[0m\u001b[0;34m.\u001b[0m\u001b[0mjoin\u001b[0m\u001b[0;34m(\u001b[0m\u001b[0;34m)\u001b[0m\u001b[0;34m\u001b[0m\u001b[0m\n\u001b[0;32m---> 24\u001b[0;31m \u001b[0mprint\u001b[0m\u001b[0;34m(\u001b[0m\u001b[0mt1\u001b[0m\u001b[0;34m.\u001b[0m\u001b[0m__getattribute__\u001b[0m\u001b[0;34m(\u001b[0m\u001b[0;34m)\u001b[0m\u001b[0;34m)\u001b[0m\u001b[0;34m\u001b[0m\u001b[0m\n\u001b[0m",
      "\u001b[0;31mTypeError\u001b[0m: expected 1 arguments, got 0"
     ]
    }
   ],
   "source": [
    "# ThreadLocal\n",
    "import threading\n",
    "\n",
    "local_school = threading.local()\n",
    "\n",
    "def process_student():\n",
    "    std = local_school.student\n",
    "    local_school.num += 1\n",
    "    print(\"hello, %s (in %s) num=%d\" % (std, threading.current_thread(), local_school.num))\n",
    "    \n",
    "def process_thread(name):\n",
    "    local_school.student = name\n",
    "    local_school.num = random.randrange(5, 10)\n",
    "    print('old num=%d' %(local_school.num))\n",
    "    process_student()\n",
    "    \n",
    "t1 = threading.Thread(target=process_thread, args=('dongGe',))\n",
    "t2 = threading.Thread(target=process_thread, args=('老王',))\n",
    "\n",
    "t1.start()\n",
    "t2.start()\n",
    "t1.join()\n",
    "t2.join()\n",
    "print(t1.__getattribute__())\n"
   ]
  },
  {
   "cell_type": "code",
   "execution_count": 4,
   "metadata": {},
   "outputs": [
    {
     "name": "stdout",
     "output_type": "stream",
     "text": [
      "---进程池中的进程---pid=14476, ppid=14454\n",
      "---0---\n",
      "---1---\n",
      "---2---\n",
      "---主进程---pid=14454---\n",
      "---callback func---pid=14454\n",
      "---callback func---args=hahaha\n"
     ]
    }
   ],
   "source": [
    "# 异步\n",
    "from multiprocessing import Pool\n",
    "import time \n",
    "import os \n",
    "\n",
    "\n",
    "def test():\n",
    "    print('---进程池中的进程---pid=%d, ppid=%d' % (os.getpid(), os.getppid()))\n",
    "    for i in range(3):\n",
    "        print('---%d---' %i)\n",
    "        time.sleep(1)\n",
    "    return 'hahaha'\n",
    "\n",
    "def test2(args):\n",
    "    print('---callback func---pid=%d' % os.getpid())\n",
    "    print('---callback func---args=%s' % args)\n",
    "    \n",
    "pool = Pool(3)\n",
    "pool.apply_async(func=test, callback=test2)\n",
    "\n",
    "time.sleep(3)\n",
    "\n",
    "print('---主进程---pid=%d---' % os.getpid())"
   ]
  },
  {
   "cell_type": "code",
   "execution_count": 81,
   "metadata": {},
   "outputs": [
    {
     "name": "stdout",
     "output_type": "stream",
     "text": [
      ">>:开始抓取url:http://www.xicidaili.com/wn/10\n",
      ">>:finished save ip html....ip_10.html\n",
      "ip_10.html\n",
      ">>:开始抓取url:http://www.xicidaili.com/wn/11\n",
      ">>:finished save ip html....ip_11.html\n",
      "ip_11.html\n",
      ">>:开始抓取url:http://www.xicidaili.com/wn/12\n",
      ">>:finished save ip html....ip_12.html\n",
      "ip_12.html\n",
      ">>:开始抓取url:http://www.xicidaili.com/wn/13\n",
      ">>:finished save ip html....ip_13.html\n",
      "ip_13.html\n",
      ">>:开始抓取url:http://www.xicidaili.com/wn/14\n",
      ">>:finished save ip html....ip_14.html\n",
      "ip_14.html\n"
     ]
    }
   ],
   "source": [
    "import threading\n",
    "import time\n",
    "from threading import Thread, Lock\n",
    "\n",
    "\n",
    "# 工厂头信息\n",
    "class HeaderFactory():\n",
    "    def __init__(self):\n",
    "        self.list_user_agent = [\n",
    "\n",
    "        # For Android\n",
    "\n",
    "        \"Mozilla/5.0 (Linux; Android 4.1.1; Nexus 7 Build/JRO03D) \\\n",
    "        AppleWebKit/535.19 (KHTML, like Gecko) \\\n",
    "        Chrome/18.0.1025.166 Safari/535.19\",\n",
    "        \"Mozilla/5.0 (Linux; U; Android 4.0.4; en-gb; GT-I9300 Build/IMM76D) \\\n",
    "        AppleWebKit/534.30 (KHTML, like Gecko) \\\n",
    "        Version/4.0 Mobile Safari/534.30\",\n",
    "        \"Mozilla/5.0 (Linux; U; Android 2.2; en-gb; GT-P1000 Build/FROYO) \\\n",
    "        AppleWebKit/533.1 (KHTML, like Gecko) \\\n",
    "        Version/4.0 Mobile Safari/533.1\",\n",
    "        # For Firefox\n",
    "\n",
    "        \"Mozilla/5.0 (Windows NT 6.2; WOW64; rv:21.0) \\\n",
    "                Gecko/20100101 Firefox/21.0\",\n",
    "        \"Mozilla/5.0 (Android; Mobile; rv:14.0) \\\n",
    "                Gecko/14.0 Firefox/14.0\",\n",
    "        # For chrome\n",
    "\n",
    "        \"Mozilla/5.0 (Windows NT 6.2; WOW64) \\\n",
    "        AppleWebKit/537.36 (KHTML, like Gecko) \\\n",
    "        Chrome/27.0.1453.94 Safari/537.36\",\n",
    "        \"Mozilla/5.0 (Linux; Android 4.0.4; Galaxy Nexus Build/IMM76B) \\\n",
    "        AppleWebKit/535.19 (KHTML, like Gecko) \\\n",
    "        Chrome/18.0.1025.133 Mobile Safari/535.19\",\n",
    "        # For iOS\n",
    "\n",
    "        \"Mozilla/5.0 (iPad; CPU OS 5_0 like Mac OS X) \\\n",
    "        AppleWebKit/534.46 (KHTML, like Gecko) \\\n",
    "        Version/5.1 Mobile/9A334 Safari/7534.48.3\",\n",
    "        \"Mozilla/5.0 (iPod; U; CPU like Mac OS X; en) \\\n",
    "        AppleWebKit/420.1 (KHTML, like Gecko) \\\n",
    "        Version/3.0 Mobile/3A101a Safari/419.3\",\n",
    "\n",
    "        \"Mozilla/5.0 (iPhone; CPU iPhone OS 10_3 like Mac OS X) \\\n",
    "        AppleWebKit/602.1.50 (KHTML, like Gecko) \\\n",
    "        CriOS/56.0.2924.75 Mobile/14E5239e Safari/602.1\"\n",
    "\n",
    "        ]\n",
    "        pass\n",
    "    \n",
    "    def get_random_user_agent(self):\n",
    "        import random\n",
    "        int_random = random.randint(0,len(self.list_user_agent)-1)\n",
    "        return self.list_user_agent[int_random]\n",
    "\n",
    "    \"\"\"\n",
    "    利用property装饰器，让方法能以属性方式的调用\n",
    "    \"\"\"\n",
    "    @property\n",
    "    def header_info(self):\n",
    "        header_default = [\n",
    "            (\"Accept\", \"text/html,application/xhtml+xml,\\\n",
    "                    application/xml;q=0.9,image/webp,image/apng,*/*;q=0.8\"),\n",
    "            (\"Accept-Language\", \"en-US,en;q=0.9,zh-CN;q=0.8,zh;q=0.7\"),\n",
    "            (\"Connection\", \"keep-alive\"),\n",
    "            (\"referer\", \"\"),\n",
    "            (\"Accept-Encoding\", \"utf-8\")\n",
    "            ]\n",
    "        header_default.append(('User-Agent', self.get_random_user_agent()))\n",
    "        return header_default\n",
    "\n",
    "\n",
    "class ManagerGrapIpHtml(object):\n",
    "    \n",
    "    # 单利模式的锁\n",
    "    _instance_lock = Lock()\n",
    "    \n",
    "    \n",
    "    def __init__(cls, *args, **kwargs):\n",
    "        if not hasattr(ManagerGrapIpHtml, '_instance'):\n",
    "            with ManagerGrapIpHtml._instance_lock:\n",
    "                if not hasattr(ManagerGrapIpHtml, '_instance'):\n",
    "                    ManagerGrapIpHtml._instance = object.__new__(cls)\n",
    "        \n",
    "        return ManagerGrapIpHtml._instance\n",
    "    \n",
    "    \n",
    "    @classmethod\n",
    "    def grab_ip_html(cls, page):\n",
    "        \"\"\"\n",
    "        抓去IP网页内容\n",
    "        \"\"\"\n",
    "        import urllib.request\n",
    "        url = \"http://www.xicidaili.com/wn/\"\n",
    "        headers = HeaderFactory().header_info\n",
    "        \n",
    "        opener = urllib.request.build_opener()\n",
    "        opener.addheaders = headers\n",
    "        \n",
    "        cur_page = page\n",
    "        url_html_ip = url + str(cur_page)\n",
    "        print(\">>:开始抓取url:%s\" % (url_html_ip))\n",
    "\n",
    "        str_html_ip = 'ip_{}.html'.format(cur_page)\n",
    "        data = opener.open(url_html_ip).read()\n",
    "        fhandle = open(str_html_ip , 'wb')\n",
    "        fhandle.write(data)\n",
    "        fhandle.close()\n",
    "        print('>>:finished save ip html....ip_{}.html'.format(cur_page))\n",
    "        return str_html_ip\n",
    "        \n",
    "#         page_num = end_page - start_page + 1\n",
    "#         print(page_num)\n",
    "#         for i in range(page_num):\n",
    "#             cur_page = i + start_page\n",
    "#             url_html_ip = url + str(cur_page)\n",
    "            \n",
    "#             str_html_ip = 'ip_{}.html'.format(cur_page)\n",
    "#             data = opener.open(url_html_ip).read()\n",
    "#             fhandle = open(str_html_ip , 'wb')\n",
    "#             fhandle.write(data)\n",
    "#             fhandle.close()\n",
    "#             print('>>:finished save ip html....ip_{}.html'.format(cur_page))\n",
    "#             list_ip_html.append(str_html_ip)\n",
    "            \n",
    "#         return list_ip_html\n",
    "    \n",
    "    \n",
    "url = \"http://www.xicidaili.com/wn/\"\n",
    "for i in range(5):\n",
    "    t = ManagerGrapIpHtml.grab_ip_html(page=i+10)\n",
    "    print(t)\n",
    "\n",
    "# class GrabIpHtmlThread(threading.Thread):\n",
    "    \n",
    "#     def __init__(self, url):\n",
    "#         threading.Thread.__init__(self)\n",
    "#         self.url = url\n",
    "    \n",
    "#     def run(self):\n",
    "#         print(\">>:%s do task\" %(self.name))\n",
    "#         print(self.url)\n",
    "        \n",
    "        \n",
    "# def test():\n",
    "#     for i in range(5):\n",
    "#         t = GrabIpHtmlThread('http://%d' % i)\n",
    "#         t.start()\n",
    "        \n",
    "# test()"
   ]
  },
  {
   "cell_type": "code",
   "execution_count": null,
   "metadata": {},
   "outputs": [],
   "source": [
    "url = \"http://www.xicidaili.com/wn/\"\n"
   ]
  },
  {
   "cell_type": "code",
   "execution_count": null,
   "metadata": {},
   "outputs": [],
   "source": []
  },
  {
   "cell_type": "code",
   "execution_count": null,
   "metadata": {},
   "outputs": [],
   "source": []
  }
 ],
 "metadata": {
  "kernelspec": {
   "display_name": "Python 3",
   "language": "python",
   "name": "python3"
  },
  "language_info": {
   "codemirror_mode": {
    "name": "ipython",
    "version": 3
   },
   "file_extension": ".py",
   "mimetype": "text/x-python",
   "name": "python",
   "nbconvert_exporter": "python",
   "pygments_lexer": "ipython3",
   "version": "3.6.3"
  }
 },
 "nbformat": 4,
 "nbformat_minor": 2
}
