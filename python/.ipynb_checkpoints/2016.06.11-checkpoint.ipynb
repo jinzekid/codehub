{
 "cells": [
  {
   "cell_type": "code",
   "execution_count": null,
   "metadata": {},
   "outputs": [],
   "source": [
    "\n",
    "\n",
    "a = [0]\n",
    "a1 = a * 10\n",
    "print(str(id(a))+\":%s\" %(a))\n",
    "print(str(id(a1)) + \":%s\" %(a1))\n",
    "\n",
    "a2 = a1*10\n",
    "print(a1)\n",
    "print(a2)\n",
    "\n",
    "\n",
    "a3 = [[0 for x in range(10)] for x in range(10)]\n",
    "print(a3)"
   ]
  },
  {
   "cell_type": "code",
   "execution_count": null,
   "metadata": {},
   "outputs": [],
   "source": [
    "# 函数运行装饰器\n",
    "def decorate_func_time(func):\n",
    "    from datetime import datetime as dt \n",
    "    def inner(*args, **kwargs):\n",
    "        start = dt.now()\n",
    "        ret = func(*args, **kwargs)\n",
    "        delta = dt.now() - start \n",
    "        print(func.__name__ + ' elapsed time:' + str(delta.microseconds))\n",
    "        return ret \n",
    "    return inner \n",
    "\n",
    "@decorate_func_time\n",
    "def func1(num):\n",
    "    a = [[0] * num] * num\n",
    "    print(type(a))\n",
    "#     print(a)\n",
    "\n",
    "@decorate_func_time\n",
    "def func2(num):\n",
    "    a = [[0 for x in range(num)] for x in range(num)]\n",
    "    print(type(a))\n",
    "#     print(a)\n",
    "    \n",
    "import numpy as np\n",
    "@decorate_func_time\n",
    "def func3(num):\n",
    "    a = np.zeros((num,num))\n",
    "    print(type(a))\n",
    "\n",
    "\n",
    "\n",
    "\n",
    "func1(100)\n",
    "func2(100)\n",
    "func3(100)"
   ]
  },
  {
   "cell_type": "code",
   "execution_count": 58,
   "metadata": {},
   "outputs": [
    {
     "name": "stdout",
     "output_type": "stream",
     "text": [
      "[[10 11 12]\n",
      " [13 14 15]\n",
      " [16 17 18]]\n",
      "[10]\n",
      "[10 13 16]\n",
      "[10 13]\n",
      "[10 11 12]\n",
      "10\n",
      "11\n",
      "12\n",
      "13\n",
      "14\n",
      "15\n",
      "16\n",
      "17\n",
      "18\n"
     ]
    },
    {
     "data": {
      "text/plain": [
       "array([11., 14., 17.])"
      ]
     },
     "execution_count": 58,
     "metadata": {},
     "output_type": "execute_result"
    }
   ],
   "source": [
    "import numpy as np\n",
    "a = np.arange(10,19).reshape((3,3))\n",
    "print(a)\n",
    "print(a[0,:1])\n",
    "print(a[:,0])\n",
    "print(a[0:2,0])\n",
    "print(a[0,:])\n",
    "\n",
    "for item in a.flat:\n",
    "    print(item)\n",
    "    \n",
    "np.apply_along_axis(np.mean, axis=0, arr=a)\n",
    "np.apply_along_axis(np.mean, axis=1, arr=a)\n",
    "\n",
    "def foo(x):\n",
    "    return x/2\n",
    "\n",
    "np.apply_along_axis(foo, axis=0, arr=a)\n",
    "\n",
    "\n",
    "# print(a[:,0])"
   ]
  },
  {
   "cell_type": "code",
   "execution_count": null,
   "metadata": {},
   "outputs": [],
   "source": []
  },
  {
   "cell_type": "code",
   "execution_count": null,
   "metadata": {},
   "outputs": [],
   "source": []
  }
 ],
 "metadata": {
  "kernelspec": {
   "display_name": "Python 3",
   "language": "python",
   "name": "python3"
  },
  "language_info": {
   "codemirror_mode": {
    "name": "ipython",
    "version": 3
   },
   "file_extension": ".py",
   "mimetype": "text/x-python",
   "name": "python",
   "nbconvert_exporter": "python",
   "pygments_lexer": "ipython3",
   "version": "3.6.3"
  }
 },
 "nbformat": 4,
 "nbformat_minor": 2
}
