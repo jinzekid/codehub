{
 "cells": [
  {
   "cell_type": "code",
   "execution_count": null,
   "metadata": {},
   "outputs": [],
   "source": [
    "# ID:10000\n",
    "a, b = map(int, input().split())\n",
    "print(a + b)"
   ]
  },
  {
   "cell_type": "code",
   "execution_count": null,
   "metadata": {},
   "outputs": [],
   "source": [
    "# ID:10001\n",
    "a = list(map(int, input().split()))\n",
    "b = int(input())\n",
    "sum = 0\n",
    "\n",
    "for i in a:\n",
    "    if b+30 >= i:\n",
    "        sum+=1\n",
    "\n",
    "print(sum)"
   ]
  },
  {
   "cell_type": "code",
   "execution_count": null,
   "metadata": {},
   "outputs": [],
   "source": [
    "# ID:10003\n",
    "list_a = []\n",
    "list_b = []\n",
    "max = 0\n",
    "day = 1\n",
    "\n",
    "for i in range(7):\n",
    "    a, b = map(int, input().split())\n",
    "    list_a.append(a)\n",
    "    list_b.append(b)\n",
    "    \n",
    "for i in range(7):\n",
    "    if max < list_a[i] + list_b[i]:\n",
    "        max = list_a[i] + list_b[i]\n",
    "        day = (i+1)\n",
    "        \n",
    "print(day)"
   ]
  },
  {
   "cell_type": "code",
   "execution_count": 7,
   "metadata": {},
   "outputs": [
    {
     "name": "stdout",
     "output_type": "stream",
     "text": [
      "10\n",
      "20 40 321 67 40 20 89 301 407 15\n",
      "8\n",
      "15 20 40 67 89 301 321 407 \n"
     ]
    }
   ],
   "source": [
    "# ID:10004\n",
    "book = [0 for i in range(1000)]\n",
    "sum = 0\n",
    "\n",
    "n = int(input())\n",
    "nums = list(map(int, input().split()))\n",
    "\n",
    "for i in range(n):\n",
    "    \n",
    "    if book[nums[i]] == 0:\n",
    "        book[nums[i]] = nums[i]\n",
    "        sum += 1\n",
    "        \n",
    "print(sum)\n",
    "for i in range(1000):\n",
    "    if book[i] != 0:\n",
    "        print(book[i], end=' ')\n",
    "print()"
   ]
  },
  {
   "cell_type": "code",
   "execution_count": 27,
   "metadata": {},
   "outputs": [
    {
     "name": "stdout",
     "output_type": "stream",
     "text": [
      "-5390549049090000\n",
      "-909409450935\n"
     ]
    }
   ],
   "source": [
    "# ID:10009\n",
    "s = input()\n",
    "z = s[::-1]\n",
    "ret = ''\n",
    "\n",
    "if s[0] == '-':\n",
    "    z = s[1::]\n",
    "    # 进行反转\n",
    "    z = z[::-1]\n",
    "    ret = '-'\n",
    "else:\n",
    "    ret = ''\n",
    "\n",
    "bool_start_0 = True\n",
    "for i in range(len(z)):\n",
    "    if z[i] != '0':\n",
    "        if bool_start_0 == True:\n",
    "            bool_start_0 = False\n",
    "        ret += z[i]\n",
    "    else:\n",
    "        if bool_start_0 == False:\n",
    "            ret += z[i]\n",
    "\n",
    "print(ret)\n"
   ]
  },
  {
   "cell_type": "code",
   "execution_count": null,
   "metadata": {},
   "outputs": [],
   "source": [
    "# ID:10011\n"
   ]
  },
  {
   "cell_type": "code",
   "execution_count": null,
   "metadata": {},
   "outputs": [],
   "source": [
    "# ID:12034\n",
    "# 求解炸弹人\n",
    "\n",
    "# 输入n，m，起始坐标\n",
    "n, m, startx, starty = map(int, input().split())\n",
    "\n",
    "# 初始化数组\n",
    "\n",
    "\n",
    "\n",
    "func bfs():\n",
    "    pass\n",
    "\n"
   ]
  }
 ],
 "metadata": {
  "kernelspec": {
   "display_name": "Python 3",
   "language": "python",
   "name": "python3"
  },
  "language_info": {
   "codemirror_mode": {
    "name": "ipython",
    "version": 3
   },
   "file_extension": ".py",
   "mimetype": "text/x-python",
   "name": "python",
   "nbconvert_exporter": "python",
   "pygments_lexer": "ipython3",
   "version": "3.6.3"
  }
 },
 "nbformat": 4,
 "nbformat_minor": 2
}
