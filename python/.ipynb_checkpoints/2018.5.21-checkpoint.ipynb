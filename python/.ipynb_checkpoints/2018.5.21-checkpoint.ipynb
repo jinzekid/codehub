{
 "cells": [
  {
   "cell_type": "code",
   "execution_count": 2,
   "metadata": {},
   "outputs": [
    {
     "name": "stdout",
     "output_type": "stream",
     "text": [
      "Function will not run\n"
     ]
    }
   ],
   "source": [
    "# 装饰器应用\n",
    "from functools import wraps\n",
    "def decorator_name(f):\n",
    "    @wraps(f)\n",
    "    def decorated(*args, **kwargs):\n",
    "        if not can_run:\n",
    "            return \"Function will not run\"\n",
    "        return f(*args, **kwargs)\n",
    "    return decorated\n",
    "@decorator_name\n",
    "def func():\n",
    "    return ('Function is running')\n",
    "\n",
    "can_run = True\n",
    "print(func())"
   ]
  },
  {
   "cell_type": "code",
   "execution_count": null,
   "metadata": {},
   "outputs": [],
   "source": [
    "# 授权装饰器\n",
    "from functools import wraps\n",
    "def requires_auth(f):\n",
    "    @wraps(f)\n",
    "    def decrated(*args, **kwargs):\n",
    "        auth = request.authorization\n",
    "        if not auth or not check_auth(auth.username, auth.password)\n",
    "            authenticate()\n",
    "        return f(*args, **kwargs)\n",
    "    return decrated\n"
   ]
  },
  {
   "cell_type": "code",
   "execution_count": 3,
   "metadata": {},
   "outputs": [
    {
     "name": "stdout",
     "output_type": "stream",
     "text": [
      "addition_func was called\n"
     ]
    }
   ],
   "source": [
    "# 日志装饰器\n",
    "from functools import wraps\n",
    "def logit(func):\n",
    "    @wraps(func)\n",
    "    def with_loggin(*args, **kwargs):\n",
    "        print(func.__name__ + \" was called\")\n",
    "        return func(*args, **kwargs)\n",
    "    return with_loggin\n",
    "\n",
    "@logit\n",
    "def addition_func(x):\n",
    "    return x + x\n",
    "\n",
    "result = addition_func(4)"
   ]
  },
  {
   "cell_type": "code",
   "execution_count": 15,
   "metadata": {},
   "outputs": [
    {
     "name": "stdout",
     "output_type": "stream",
     "text": [
      "myfunc1 was called\n",
      "myfunc2 was called\n"
     ]
    }
   ],
   "source": [
    "# 在函数中嵌入装饰器\n",
    "from functools import wraps\n",
    "def logit(logfile='out.log'):\n",
    "    def logging_decorator(func):\n",
    "        @wraps(func)\n",
    "        def wrapped_function(*args, **kwargs):\n",
    "            log_string = func.__name__ + \" was called\"\n",
    "            print(log_string)\n",
    "            # 打开logfile，并写入内容\n",
    "            with open(logfile, 'a') as opened_file:\n",
    "                opened_file.write(log_string + '\\n')\n",
    "        return wrapped_function\n",
    "    return logging_decorator\n",
    "\n",
    "@logit()\n",
    "def myfunc1():\n",
    "    pass\n",
    "\n",
    "myfunc1()\n",
    "\n",
    "@logit(logfile='func2.log')\n",
    "def myfunc2():\n",
    "    pass\n",
    "\n",
    "myfunc2()"
   ]
  },
  {
   "cell_type": "code",
   "execution_count": 18,
   "metadata": {},
   "outputs": [
    {
     "name": "stdout",
     "output_type": "stream",
     "text": [
      "func1 was called\n"
     ]
    }
   ],
   "source": [
    "# 装饰器类\n",
    "class logit(object):\n",
    "    def __init__(self, logfile='out.log'):\n",
    "        self.logfile = logfile\n",
    "    \n",
    "    def __call__(self, func):\n",
    "        log_string = func.__name__ + \" was called\"\n",
    "        print(log_string)\n",
    "        # 打开logfile写入\n",
    "        with open(self.logfile, 'a') as opened_file:\n",
    "            opened_file.write(log_string + '\\n')\n",
    "            \n",
    "        # 现在，发送一个通知\n",
    "        self.notify()\n",
    "    \n",
    "    def notify(self):\n",
    "        # logit只打日志，不做别的\n",
    "        pass\n",
    "    \n",
    "@logit()\n",
    "def func1():\n",
    "    pass\n",
    "\n",
    "# 创建一个logit子类，来添加email的功能\n",
    "class email_logit(logit):\n",
    "    '''\n",
    "        一个logit的实现版本， 可以在函数调用时发送email给管理员\n",
    "    '''\n",
    "    def __init__(self, email=\"admin@myproject.com\", *args, *kwargs):\n",
    "        self.email = email\n",
    "        super(logit, self).__init__(*args, **kwargs)\n",
    "    \n",
    "    def notify(self):\n",
    "        # 发送邮件\n",
    "        pass\n"
   ]
  },
  {
   "cell_type": "code",
   "execution_count": 19,
   "metadata": {},
   "outputs": [
    {
     "name": "stdout",
     "output_type": "stream",
     "text": [
      "3\n",
      "5\n"
     ]
    }
   ],
   "source": [
    "def add(v1, v2):\n",
    "    return v1 + v2\n",
    "\n",
    "result = add(1,2)\n",
    "print(result)\n",
    "\n",
    "def add2(v1, v2):\n",
    "    global result\n",
    "    result = v1 + v2\n",
    "    \n",
    "add2(2,3)\n",
    "print(result)"
   ]
  },
  {
   "cell_type": "code",
   "execution_count": null,
   "metadata": {},
   "outputs": [],
   "source": [
    "# 多个return值\n"
   ]
  },
  {
   "cell_type": "code",
   "execution_count": 24,
   "metadata": {},
   "outputs": [
    {
     "name": "stdout",
     "output_type": "stream",
     "text": [
      "<class 'list'>\n",
      "<class 'list'>\n",
      "<class 'list'>\n"
     ]
    },
    {
     "data": {
      "text/plain": [
       "[1, 2, 3]"
      ]
     },
     "execution_count": 24,
     "metadata": {},
     "output_type": "execute_result"
    }
   ],
   "source": [
    "# 对象变动Mutation\n",
    "def add_to(num, target=[]):\n",
    "    target.append(num);\n",
    "    return target\n",
    "add_to(1)\n",
    "add_to(2)\n",
    "add_to(3)\n",
    "\n",
    "\n",
    "# def add_to2(num, target=None):\n",
    "#     if target is None:\n",
    "#         target = []\n",
    "#     target.append(num)\n",
    "#     return target\n",
    "\n",
    "# add_to2(1)\n",
    "# add_to2(2)"
   ]
  },
  {
   "cell_type": "code",
   "execution_count": null,
   "metadata": {},
   "outputs": [],
   "source": [
    "# __slots__属性\n",
    "# 不使用__slots__\n",
    "def MyClass(object):\n",
    "    def __init__(self, name, identifier):\n",
    "        self.name = name\n",
    "        self.identifier = identifier\n",
    "        self.set_up()\n",
    "    \n",
    "def MyClass2(object):\n",
    "    __slots__ = ['name', 'identifier']\n",
    "    def __init__(self, name, identifier):\n",
    "        self.name = name\n",
    "        self.identifier = identifier\n",
    "        self.set_up()"
   ]
  },
  {
   "cell_type": "code",
   "execution_count": 36,
   "metadata": {},
   "outputs": [
    {
     "name": "stdout",
     "output_type": "stream",
     "text": [
      "None\n",
      "In [36] used 0.1680 MiB RAM in 0.11s, peaked 0.00 MiB above current, total RAM usage 41.37 MiB\n",
      "In [36] used 0.0000 MiB RAM in 0.21s, peaked 0.00 MiB above current, total RAM usage 41.37 MiB\n",
      "In [36] used -0.1562 MiB RAM in 0.32s, peaked 0.16 MiB above current, total RAM usage 41.21 MiB\n",
      "In [36] used 0.0000 MiB RAM in 0.42s, peaked 0.16 MiB above current, total RAM usage 41.21 MiB\n",
      "In [36] used 0.0000 MiB RAM in 0.52s, peaked 0.16 MiB above current, total RAM usage 41.21 MiB\n",
      "In [36] used 0.0000 MiB RAM in 0.62s, peaked 0.16 MiB above current, total RAM usage 41.21 MiB\n",
      "In [36] used 0.0000 MiB RAM in 0.73s, peaked 0.16 MiB above current, total RAM usage 41.21 MiB\n",
      "In [36] used 0.0000 MiB RAM in 0.83s, peaked 0.16 MiB above current, total RAM usage 41.21 MiB\n",
      "In [36] used 0.0000 MiB RAM in 0.93s, peaked 0.16 MiB above current, total RAM usage 41.21 MiB\n",
      "In [36] used 0.0000 MiB RAM in 1.04s, peaked 0.16 MiB above current, total RAM usage 41.21 MiB\n",
      "In [36] used 0.0000 MiB RAM in 1.14s, peaked 0.16 MiB above current, total RAM usage 41.21 MiB\n"
     ]
    }
   ],
   "source": [
    "import ipython_memory_usage.ipython_memory_usage as imu\n",
    "imu.start_watching_memory()\n",
    "\n",
    "def MyClass(object):\n",
    "    def __init__(self, name, identifier):\n",
    "        self.name = name\n",
    "        self.identifier = identifier\n",
    "\n",
    "obj = MyClass(\"tom\")\n",
    "print(obj)\n",
    "\n",
    "num = 1024 * 256\n",
    "x = [MyClass(\"tom\") for i in range(num)]"
   ]
  },
  {
   "cell_type": "code",
   "execution_count": 40,
   "metadata": {},
   "outputs": [
    {
     "name": "stdout",
     "output_type": "stream",
     "text": [
      "In [40] used 0.1719 MiB RAM in 0.10s, peaked 0.00 MiB above current, total RAM usage 41.65 MiB\n",
      "In [40] used 0.0000 MiB RAM in 0.21s, peaked 0.00 MiB above current, total RAM usage 41.65 MiB\n",
      "In [40] used -0.1719 MiB RAM in 0.31s, peaked 0.17 MiB above current, total RAM usage 41.48 MiB\n",
      "In [40] used 0.0000 MiB RAM in 0.41s, peaked 0.17 MiB above current, total RAM usage 41.48 MiB\n",
      "In [40] used 0.0000 MiB RAM in 0.52s, peaked 0.17 MiB above current, total RAM usage 41.48 MiB\n",
      "In [40] used 0.0000 MiB RAM in 0.62s, peaked 0.17 MiB above current, total RAM usage 41.48 MiB\n",
      "In [40] used 0.0000 MiB RAM in 0.72s, peaked 0.17 MiB above current, total RAM usage 41.48 MiB\n",
      "In [40] used 0.0000 MiB RAM in 0.82s, peaked 0.17 MiB above current, total RAM usage 41.48 MiB\n",
      "In [40] used 0.0000 MiB RAM in 0.92s, peaked 0.17 MiB above current, total RAM usage 41.48 MiB\n",
      "In [40] used 0.0000 MiB RAM in 1.02s, peaked 0.17 MiB above current, total RAM usage 41.48 MiB\n",
      "In [40] used 0.0000 MiB RAM in 1.13s, peaked 0.17 MiB above current, total RAM usage 41.48 MiB\n"
     ]
    }
   ],
   "source": [
    "def MyClass(object):\n",
    "    def __init__(self, name, identifier):\n",
    "        self.name = name\n",
    "        print(identifier)\n",
    "        self.identifier = identifier\n",
    "        \n",
    "my = MyClass(\"tom\")"
   ]
  },
  {
   "cell_type": "code",
   "execution_count": null,
   "metadata": {},
   "outputs": [],
   "source": []
  }
 ],
 "metadata": {
  "kernelspec": {
   "display_name": "Python 3",
   "language": "python",
   "name": "python3"
  },
  "language_info": {
   "codemirror_mode": {
    "name": "ipython",
    "version": 3
   },
   "file_extension": ".py",
   "mimetype": "text/x-python",
   "name": "python",
   "nbconvert_exporter": "python",
   "pygments_lexer": "ipython3",
   "version": "3.6.3"
  }
 },
 "nbformat": 4,
 "nbformat_minor": 2
}
