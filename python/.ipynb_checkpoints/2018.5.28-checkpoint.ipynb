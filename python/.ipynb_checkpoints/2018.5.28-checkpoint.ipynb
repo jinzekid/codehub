{
 "cells": [
  {
   "cell_type": "code",
   "execution_count": null,
   "metadata": {},
   "outputs": [],
   "source": [
    "# 异常\n",
    "try:\n",
    "    file = open('test.txt', 'rb')\n",
    "except IOError as e:\n",
    "    print(\"An IOError occurrend. {}\".format(e))\n",
    "    \n",
    "# 多异常\n",
    "try:\n",
    "    file = open('test.txt', 'rb')\n",
    "except EOFError as e:\n",
    "    print(\"An EOF error occured.\")\n",
    "except IOError as e:\n",
    "    print(\"An error occourred.\")\n",
    "    #raise e\n",
    "    \n",
    "# 捕捉所有异常\n",
    "try:\n",
    "    file = open('test.txt', 'rb')\n",
    "except Exception as e:\n",
    "    raise e\n"
   ]
  },
  {
   "cell_type": "code",
   "execution_count": null,
   "metadata": {},
   "outputs": [],
   "source": [
    "# try/else从句\n",
    "try:\n",
    "    print('I am sure no exception is going to occur!')\n",
    "except Exception:\n",
    "    print('exception')\n",
    "else:\n",
    "    # 这里的代码只会在try语句里没有触发异常时运行\n",
    "    # 但是这里的异常 *不会* 被捕捉\n",
    "    print('This  wrold only run if no exception occurs, And an error would NOT be caught.')\n",
    "finally:\n",
    "    print('This would be printed in every case.')\n",
    "    "
   ]
  },
  {
   "cell_type": "code",
   "execution_count": null,
   "metadata": {},
   "outputs": [],
   "source": [
    "a = [(1,2), (4,1), (9,10),(13,-3)]\n",
    "a.sort(key=lambda x: x[1])\n",
    "print(a)\n",
    "\n",
    "# 列表并行排序\n",
    "list1 = [1,3,4,5]\n",
    "list2 = [9,2,4,5,1,7,5,4]\n",
    "data = zip(list1, list2)\n",
    "print(data)\n",
    "list1, list2 = map(lambda t: list(t), zip(*data))\n",
    "print(list1)\n",
    "print(list2)"
   ]
  },
  {
   "cell_type": "code",
   "execution_count": null,
   "metadata": {},
   "outputs": [],
   "source": [
    "# 漂亮的打印\n",
    "from pprint import pprint\n",
    "my_dict = {'name':'Yasoob', 'age':'undefined', 'personality':111}\n",
    "pprint(my_dict)"
   ]
  },
  {
   "cell_type": "code",
   "execution_count": null,
   "metadata": {},
   "outputs": [],
   "source": [
    "import itertools as it\n",
    "a_list = [[1,2],[3,4],[5,6]]\n",
    "print(list(it.chain.from_iterable(a_list)))"
   ]
  },
  {
   "cell_type": "code",
   "execution_count": null,
   "metadata": {},
   "outputs": [],
   "source": [
    "class A(object):\n",
    "    def __init__(self, a, b, c, d, e, f):\n",
    "        self.__dict__.update({k:v for k, v in locals().items})\n",
    "        \n",
    "obj_a = A(1,2,3,4,4,5)\n",
    "print(obj_a)\n"
   ]
  },
  {
   "cell_type": "code",
   "execution_count": null,
   "metadata": {},
   "outputs": [],
   "source": [
    "furits = ['apple','banana','mango']\n",
    "for furit in furits:\n",
    "    print(furit.capitalize())\n",
    "    \n",
    "for n in range(2,10):\n",
    "    for x in range(2, n):\n",
    "        if n % x == 0:\n",
    "            print(n, 'equals', x, '*', n/x)\n",
    "            break\n",
    "    else:\n",
    "        # loop fell through without finding a factor\n",
    "        print(n, 'is a prime number')"
   ]
  },
  {
   "cell_type": "code",
   "execution_count": 25,
   "metadata": {},
   "outputs": [],
   "source": [
    "import io\n",
    "with open('otherfile.txt', 'rb') as f:\n",
    "    jpgdata = f.read()\n",
    "    \n",
    "if jpgdata.startswith(b'\\xff\\xd8'):\n",
    "    text = 'This is jpeg file (%d bytes long)\\n'\n",
    "else:\n",
    "    text = 'This is random file (%d bytes long)\\n'\n",
    "    \n",
    "with io.open('summary.txt', 'w', encoding='utf-8') as out_f:\n",
    "    out_f.write(text % len(jpgdata))\n"
   ]
  },
  {
   "cell_type": "code",
   "execution_count": null,
   "metadata": {},
   "outputs": [],
   "source": [
    "# 生成器的创建\n",
    "def fib():\n",
    "    a, b = 0, 1\n",
    "    while True:\n",
    "        yield a\n",
    "        a, b = b, a+b\n",
    "\n",
    "for i in fib():\n",
    "    print(i)"
   ]
  },
  {
   "cell_type": "code",
   "execution_count": 33,
   "metadata": {},
   "outputs": [
    {
     "name": "stdout",
     "output_type": "stream",
     "text": [
      "searching for coroutine\n",
      "I love coroutine instead!\n"
     ]
    }
   ],
   "source": [
    "# 协程\n",
    "def grep(pattern):\n",
    "    print(\"searching for\", pattern)\n",
    "    while True:\n",
    "        line = (yield)\n",
    "        if pattern in line:\n",
    "            print(line)\n",
    "            \n",
    "search = grep('coroutine')\n",
    "next(search) # 通过next方法启动协程\n",
    "search.send('I love you.')\n",
    "search.send(\"Don't you love me\")\n",
    "search.send(\"I love coroutine instead!\")\n",
    "\n",
    "search.close() # 关闭协程"
   ]
  },
  {
   "cell_type": "code",
   "execution_count": 35,
   "metadata": {},
   "outputs": [
    {
     "name": "stdout",
     "output_type": "stream",
     "text": [
      "[0, 1, 1, 2, 3, 5, 8, 13, 21, 34]\n"
     ]
    }
   ],
   "source": [
    "# 函数缓存\n",
    "from functools import lru_cache\n",
    "@lru_cache(maxsize=32)\n",
    "def fib(n):\n",
    "    if n < 2:\n",
    "        return n\n",
    "    return fib(n-1) + fib(n-2)\n",
    "\n",
    "print([fib(n) for n in range(10)])\n",
    "fib.cache_clear() # 清空缓存"
   ]
  },
  {
   "cell_type": "code",
   "execution_count": 41,
   "metadata": {},
   "outputs": [
    {
     "name": "stdout",
     "output_type": "stream",
     "text": [
      "[0, 1, 1, 2, 3, 5, 8, 13, 21, 34]\n"
     ]
    }
   ],
   "source": [
    "from functools import wraps\n",
    "\n",
    "# python2.x 缓存\n",
    "def memoize(func):\n",
    "    memo = {}\n",
    "    @wraps(func)\n",
    "    def wrapper(*args):\n",
    "        if args in memo:\n",
    "            return memo[args]\n",
    "        else:\n",
    "            rv = func(*args)\n",
    "            memo[args] = rv\n",
    "            return rv\n",
    "    return wrapper\n",
    "\n",
    "\n",
    "@memoize\n",
    "def fib(n):\n",
    "    if n < 2: return n\n",
    "    return fib(n-1) + fib(n-2)\n",
    "\n",
    "print([fib(n) for n in range(10)])"
   ]
  },
  {
   "cell_type": "code",
   "execution_count": 45,
   "metadata": {},
   "outputs": [
    {
     "name": "stdout",
     "output_type": "stream",
     "text": [
      "__init__\n",
      "__enter__\n",
      "__exit__\n",
      "Exception has been handled\n"
     ]
    },
    {
     "ename": "AttributeError",
     "evalue": "'_io.TextIOWrapper' object has no attribute 'undefined_function'",
     "output_type": "error",
     "traceback": [
      "\u001b[0;31m---------------------------------------------------------------------------\u001b[0m",
      "\u001b[0;31mAttributeError\u001b[0m                            Traceback (most recent call last)",
      "\u001b[0;32m<ipython-input-45-427dab58a34d>\u001b[0m in \u001b[0;36m<module>\u001b[0;34m()\u001b[0m\n\u001b[1;32m     15\u001b[0m \u001b[0;32mwith\u001b[0m \u001b[0mFile\u001b[0m\u001b[0;34m(\u001b[0m\u001b[0;34m'demo.txt'\u001b[0m\u001b[0;34m,\u001b[0m \u001b[0;34m'w'\u001b[0m\u001b[0;34m)\u001b[0m \u001b[0;32mas\u001b[0m \u001b[0mopened_file\u001b[0m\u001b[0;34m:\u001b[0m\u001b[0;34m\u001b[0m\u001b[0m\n\u001b[1;32m     16\u001b[0m \u001b[0;31m#     opened_file.write('Hola!')\u001b[0m\u001b[0;34m\u001b[0m\u001b[0;34m\u001b[0m\u001b[0m\n\u001b[0;32m---> 17\u001b[0;31m     \u001b[0mopened_file\u001b[0m\u001b[0;34m.\u001b[0m\u001b[0mundefined_function\u001b[0m\u001b[0;34m(\u001b[0m\u001b[0;34m'Hola!'\u001b[0m\u001b[0;34m)\u001b[0m\u001b[0;34m\u001b[0m\u001b[0m\n\u001b[0m\u001b[1;32m     18\u001b[0m \u001b[0;34m\u001b[0m\u001b[0m\n\u001b[1;32m     19\u001b[0m \u001b[0;34m\u001b[0m\u001b[0m\n",
      "\u001b[0;31mAttributeError\u001b[0m: '_io.TextIOWrapper' object has no attribute 'undefined_function'"
     ]
    }
   ],
   "source": [
    "# 上下文管理器的类\n",
    "class File(object):\n",
    "    def __init__(self, file_name, method):\n",
    "        print('__init__')\n",
    "        self.file_obj = open(file_name, method)\n",
    "    def __enter__(self):\n",
    "        print('__enter__')\n",
    "        return self.file_obj\n",
    "    def __exit__(self, type, value, traceback):\n",
    "        print('__exit__')\n",
    "        print(\"Exception has been handled\")\n",
    "        self.file_obj.close()\n",
    "        return True\n",
    "\n",
    "with File('demo.txt', 'w') as opened_file:\n",
    "#     opened_file.write('Hola!')\n",
    "    opened_file.undefined_function('Hola!')\n",
    "\n",
    "    "
   ]
  },
  {
   "cell_type": "code",
   "execution_count": null,
   "metadata": {},
   "outputs": [],
   "source": []
  }
 ],
 "metadata": {
  "kernelspec": {
   "display_name": "Python 3",
   "language": "python",
   "name": "python3"
  },
  "language_info": {
   "codemirror_mode": {
    "name": "ipython",
    "version": 3
   },
   "file_extension": ".py",
   "mimetype": "text/x-python",
   "name": "python",
   "nbconvert_exporter": "python",
   "pygments_lexer": "ipython3",
   "version": "3.6.3"
  }
 },
 "nbformat": 4,
 "nbformat_minor": 2
}
