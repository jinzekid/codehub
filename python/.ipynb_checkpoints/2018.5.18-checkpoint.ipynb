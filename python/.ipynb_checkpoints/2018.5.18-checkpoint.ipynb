{
 "cells": [
  {
   "cell_type": "code",
   "execution_count": 1,
   "metadata": {},
   "outputs": [
    {
     "name": "stdout",
     "output_type": "stream",
     "text": [
      "f_arg:1\n",
      "2\n",
      "3\n"
     ]
    }
   ],
   "source": [
    "# *args用法\n",
    "def test_var_args(f_arg, *argv):\n",
    "    print(\"f_arg:\" + f_arg)\n",
    "    for arg in argv:\n",
    "        print(arg)\n",
    "\n",
    "test_var_args('1', '2', '3')"
   ]
  },
  {
   "cell_type": "code",
   "execution_count": null,
   "metadata": {},
   "outputs": [],
   "source": []
  }
 ],
 "metadata": {
  "kernelspec": {
   "display_name": "Python 3",
   "language": "python",
   "name": "python3"
  },
  "language_info": {
   "codemirror_mode": {
    "name": "ipython",
    "version": 3
   },
   "file_extension": ".py",
   "mimetype": "text/x-python",
   "name": "python",
   "nbconvert_exporter": "python",
   "pygments_lexer": "ipython3",
   "version": "3.6.3"
  }
 },
 "nbformat": 4,
 "nbformat_minor": 2
}
