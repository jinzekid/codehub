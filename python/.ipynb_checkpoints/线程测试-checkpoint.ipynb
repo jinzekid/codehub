{
 "cells": [
  {
   "cell_type": "code",
   "execution_count": 1,
   "metadata": {},
   "outputs": [],
   "source": [
    "#  派生子线程\n",
    "import _thread\n",
    "\n",
    "def child(tid):\n",
    "    print('Hello from thread', tid)\n",
    "    \n",
    "def parent():\n",
    "    i = 0\n",
    "    while True:\n",
    "        i += 1\n",
    "        _thread.start_new_thread(child, (i,))\n",
    "        if input() == 'q': break"
   ]
  },
  {
   "cell_type": "code",
   "execution_count": null,
   "metadata": {},
   "outputs": [],
   "source": []
  }
 ],
 "metadata": {
  "kernelspec": {
   "display_name": "Python 3",
   "language": "python",
   "name": "python3"
  },
  "language_info": {
   "codemirror_mode": {
    "name": "ipython",
    "version": 3
   },
   "file_extension": ".py",
   "mimetype": "text/x-python",
   "name": "python",
   "nbconvert_exporter": "python",
   "pygments_lexer": "ipython3",
   "version": "3.6.3"
  }
 },
 "nbformat": 4,
 "nbformat_minor": 2
}
