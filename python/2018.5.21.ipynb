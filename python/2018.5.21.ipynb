{
 "cells": [
  {
   "cell_type": "code",
   "execution_count": null,
   "metadata": {},
   "outputs": [],
   "source": [
    "# 装饰器应用\n",
    "from functools import wraps\n",
    "def decorator_name(f):\n",
    "    @wraps(f)\n",
    "    def decorated(*args, **kwargs):\n",
    "        if not can_run:\n",
    "            return \"Function will not run\"\n",
    "        return f(*args, **kwargs)\n",
    "    return decorated\n",
    "@decorator_name\n",
    "def func():\n",
    "    return ('Function is running')\n",
    "\n",
    "can_run = True\n",
    "print(func())"
   ]
  },
  {
   "cell_type": "code",
   "execution_count": null,
   "metadata": {},
   "outputs": [],
   "source": [
    "# 授权装饰器\n",
    "from functools import wraps\n",
    "def requires_auth(f):\n",
    "    @wraps(f)\n",
    "    def decrated(*args, **kwargs):\n",
    "        auth = request.authorization\n",
    "        if not auth or not check_auth(auth.username, auth.password)\n",
    "            authenticate()\n",
    "        return f(*args, **kwargs)\n",
    "    return decrated\n"
   ]
  },
  {
   "cell_type": "code",
   "execution_count": null,
   "metadata": {},
   "outputs": [],
   "source": [
    "# 日志装饰器\n",
    "from functools import wraps\n",
    "def logit(func):\n",
    "    @wraps(func)\n",
    "    def with_loggin(*args, **kwargs):\n",
    "        print(func.__name__ + \" was called\")\n",
    "        return func(*args, **kwargs)\n",
    "    return with_loggin\n",
    "\n",
    "@logit\n",
    "def addition_func(x):\n",
    "    return x + x\n",
    "\n",
    "result = addition_func(4)"
   ]
  },
  {
   "cell_type": "code",
   "execution_count": null,
   "metadata": {},
   "outputs": [],
   "source": [
    "# 在函数中嵌入装饰器\n",
    "from functools import wraps\n",
    "def logit(logfile='out.log'):\n",
    "    def logging_decorator(func):\n",
    "        @wraps(func)\n",
    "        def wrapped_function(*args, **kwargs):\n",
    "            log_string = func.__name__ + \" was called\"\n",
    "            print(log_string)\n",
    "            # 打开logfile，并写入内容\n",
    "            with open(logfile, 'a') as opened_file:\n",
    "                opened_file.write(log_string + '\\n')\n",
    "        return wrapped_function\n",
    "    return logging_decorator\n",
    "\n",
    "@logit()\n",
    "def myfunc1():\n",
    "    pass\n",
    "\n",
    "myfunc1()\n",
    "\n",
    "@logit(logfile='func2.log')\n",
    "def myfunc2():\n",
    "    pass\n",
    "\n",
    "myfunc2()"
   ]
  },
  {
   "cell_type": "code",
   "execution_count": null,
   "metadata": {},
   "outputs": [],
   "source": [
    "# 装饰器类\n",
    "class logit(object):\n",
    "    def __init__(self, logfile='out.log'):\n",
    "        self.logfile = logfile\n",
    "    \n",
    "    def __call__(self, func):\n",
    "        log_string = func.__name__ + \" was called\"\n",
    "        print(log_string)\n",
    "        # 打开logfile写入\n",
    "        with open(self.logfile, 'a') as opened_file:\n",
    "            opened_file.write(log_string + '\\n')\n",
    "            \n",
    "        # 现在，发送一个通知\n",
    "        self.notify()\n",
    "    \n",
    "    def notify(self):\n",
    "        # logit只打日志，不做别的\n",
    "        pass\n",
    "    \n",
    "@logit()\n",
    "def func1():\n",
    "    pass\n",
    "\n",
    "# 创建一个logit子类，来添加email的功能\n",
    "class email_logit(logit):\n",
    "    '''\n",
    "        一个logit的实现版本， 可以在函数调用时发送email给管理员\n",
    "    '''\n",
    "    def __init__(self, email=\"admin@myproject.com\", *args, *kwargs):\n",
    "        self.email = email\n",
    "        super(logit, self).__init__(*args, **kwargs)\n",
    "    \n",
    "    def notify(self):\n",
    "        # 发送邮件\n",
    "        pass\n"
   ]
  },
  {
   "cell_type": "code",
   "execution_count": null,
   "metadata": {},
   "outputs": [],
   "source": [
    "def add(v1, v2):\n",
    "    return v1 + v2\n",
    "\n",
    "result = add(1,2)\n",
    "print(result)\n",
    "\n",
    "def add2(v1, v2):\n",
    "    global result\n",
    "    result = v1 + v2\n",
    "    \n",
    "add2(2,3)\n",
    "print(result)"
   ]
  },
  {
   "cell_type": "code",
   "execution_count": null,
   "metadata": {},
   "outputs": [],
   "source": [
    "# 多个return值\n"
   ]
  },
  {
   "cell_type": "code",
   "execution_count": null,
   "metadata": {},
   "outputs": [],
   "source": [
    "# 对象变动Mutation\n",
    "def add_to(num, target=[]):\n",
    "    target.append(num);\n",
    "    return target\n",
    "add_to(1)\n",
    "add_to(2)\n",
    "add_to(3)\n",
    "\n",
    "\n",
    "# def add_to2(num, target=None):\n",
    "#     if target is None:\n",
    "#         target = []\n",
    "#     target.append(num)\n",
    "#     return target\n",
    "\n",
    "# add_to2(1)\n",
    "# add_to2(2)"
   ]
  },
  {
   "cell_type": "code",
   "execution_count": null,
   "metadata": {},
   "outputs": [],
   "source": [
    "# __slots__属性\n",
    "# 不使用__slots__\n",
    "def MyClass(object):\n",
    "    def __init__(self, name, identifier):\n",
    "        self.name = name\n",
    "        self.identifier = identifier\n",
    "        self.set_up()\n",
    "    \n",
    "def MyClass2(object):\n",
    "    __slots__ = ['name', 'identifier']\n",
    "    def __init__(self, name, identifier):\n",
    "        self.name = name\n",
    "        self.identifier = identifier\n",
    "        self.set_up()"
   ]
  },
  {
   "cell_type": "code",
   "execution_count": null,
   "metadata": {},
   "outputs": [],
   "source": [
    "import ipython_memory_usage.ipython_memory_usage as imu\n",
    "imu.start_watching_memory()\n",
    "imu.stop_watching_memory()\n",
    "def MyClass(object):\n",
    "    def __init__(self, name, identifier):\n",
    "        self.name = name\n",
    "        self.identifier = identifier\n",
    "\n",
    "num = 1024 * 256\n",
    "x = [MyClass(\"tom\") for i in range(num)]\n",
    "\n",
    "     "
   ]
  },
  {
   "cell_type": "code",
   "execution_count": null,
   "metadata": {},
   "outputs": [],
   "source": [
    "def MyClass2(object):\n",
    "    __slots__ = ['name', 'identifier']\n",
    "    def __init__(self, name, identifier):\n",
    "        self.name = name\n",
    "        self.identifier = identifier\n",
    "\n",
    "num2 = 1024 * 256\n",
    "x = [MyClass2(\"tom\") for i in range(num2)] "
   ]
  },
  {
   "cell_type": "code",
   "execution_count": null,
   "metadata": {},
   "outputs": [],
   "source": [
    "# 容器collections\n",
    "from collections import defaultdict\n",
    "colours = (\n",
    "    ('Yasoob', 'Yellow'),\n",
    "    ('Ali', 'Blue'),\n",
    "    ('Arham', 'Green'),\n",
    "    ('Yasoob', 'Red'),\n",
    "    ('Ahmed', 'Silver')\n",
    ")\n",
    "\n",
    "favourite_colours = defaultdict(list)\n",
    "for name, colour in colours:\n",
    "    favourite_colours[name].append(colour)\n",
    "    \n",
    "print(favourite_colours)\n",
    "\n",
    "import collections\n",
    "tree = lambda: collections.defaultdict(tree)\n",
    "some_dict = tree()\n",
    "some_dict['colours']['favourite'] = \"yellow\"\n",
    "import json\n",
    "print(json.dumps(some_dict))"
   ]
  },
  {
   "cell_type": "code",
   "execution_count": null,
   "metadata": {},
   "outputs": [],
   "source": [
    "# counter\n",
    "from collections import Counter\n",
    "colours = (\n",
    "    ('Yasoob', 'Yellow'),\n",
    "    ('Ali', 'Blue'),\n",
    "    ('Arham', 'Green'),\n",
    "    ('Yasoob', 'Red'),\n",
    "    ('Ahmed', 'Silver')\n",
    ")\n",
    "favs = Counter(name for name, color in colours)\n",
    "print(favs)\n",
    "\n",
    "# 统计一个文件\n",
    "with open('readme.txt', 'r') as f:\n",
    "    line_count = Counter(f)\n",
    "print(line_count)"
   ]
  },
  {
   "cell_type": "code",
   "execution_count": null,
   "metadata": {},
   "outputs": [],
   "source": [
    "# deque\n",
    "from collections import deque\n",
    "d = deque()\n",
    "d.append('1')\n",
    "d.append('2')\n",
    "d.append('3')\n",
    "print(len(d))\n",
    "print(d.popleft())\n",
    "\n",
    "d = deque(range(5))\n",
    "d.pop()\n",
    "d.popleft()\n",
    "print(d)"
   ]
  },
  {
   "cell_type": "code",
   "execution_count": null,
   "metadata": {},
   "outputs": [],
   "source": [
    "# namedtuple\n",
    "man = ('Ali', 30)\n",
    "print(man[0])\n",
    "\n",
    "from collections import namedtuple\n",
    "Animal = namedtuple('Animal', 'name age type')\n",
    "perry = Animal(name=\"perry\", age=31, type=\"cat\")\n",
    "print(perry)\n",
    "print(perry[0])\n",
    "print(perry.age)\n",
    "\n",
    "print(perry._asdict())\n",
    "dict_perry = perry._asdict()\n",
    "dict_perry['age']"
   ]
  },
  {
   "cell_type": "code",
   "execution_count": null,
   "metadata": {},
   "outputs": [],
   "source": [
    "# enum.Enum 枚举类型\n",
    "from collections import namedtuple\n",
    "from enum import Enum\n",
    "\n",
    "class Species(Enum):\n",
    "    cat = 1\n",
    "    dog = 2\n",
    "    horse = 3\n",
    "    aardvark = 4\n",
    "    butterfly = 5\n",
    "    owl = 6\n",
    "    platypus = 7\n",
    "    dragon = 8\n",
    "    unicorn = 9\n",
    "    kitten = 1\n",
    "    puppy = 2\n",
    "    \n",
    "Animal = namedtuple('Animal', 'name age type')\n",
    "perry = Animal(name=\"Perry\", age=31, type=Species.cat)\n",
    "drogon = Animal(name=\"Drogon\", age=4, type=Species.dragon)\n",
    "tom = Animal(name=\"Tom\", age=75, type=Species.cat)\n",
    "charlire = Animal(name=\"Charlie\", age=2, type=Species.kitten)\n",
    "\n",
    "charlire.type == tom.type\n",
    "charlire.type\n",
    "\n",
    "# 三种访问方式\n",
    "Species(1)\n",
    "Species['cat']\n",
    "Species.cat"
   ]
  },
  {
   "cell_type": "code",
   "execution_count": null,
   "metadata": {},
   "outputs": [],
   "source": [
    "# 枚举\n",
    "my_list = ['apple', 'banana', 'grapes', 'pear']\n",
    "for counter, value in enumerate(my_list):\n",
    "    print(counter, value)\n",
    "\n",
    "for c, value in enumerate(my_list, 1): # 允许定制从哪个数字开始枚举\n",
    "    print(c, value)\n",
    "    "
   ]
  },
  {
   "cell_type": "code",
   "execution_count": null,
   "metadata": {},
   "outputs": [],
   "source": [
    "# 对象自省\n",
    "my_list = [1,2,3]\n",
    "dir(my_list)\n",
    "my_list.append(4)\n",
    "print(my_list)"
   ]
  },
  {
   "cell_type": "code",
   "execution_count": null,
   "metadata": {},
   "outputs": [],
   "source": [
    "dir()\n"
   ]
  },
  {
   "cell_type": "code",
   "execution_count": null,
   "metadata": {},
   "outputs": [],
   "source": [
    "import inspect\n",
    "print(inspect.getmembers(str))"
   ]
  },
  {
   "cell_type": "code",
   "execution_count": 101,
   "metadata": {},
   "outputs": [
    {
     "name": "stdout",
     "output_type": "stream",
     "text": [
      "[0, 3, 6, 9, 12, 15, 18, 21, 24, 27]\n",
      "{'a': 17, 'b': 34, 'z': 3}\n",
      "{10: 'a', 34: 'b', 7: 'A', 3: 'Z'}\n",
      "<class 'set'>\n"
     ]
    }
   ],
   "source": [
    "# 列表推导式\n",
    "multiples = [i for i in range(30) if i%3 is 0]\n",
    "print(multiples)\n",
    "\n",
    "# 字典推导式\n",
    "mcase = {'a': 10, 'b': 34, 'A': 7, 'Z': 3}\n",
    "mcase_frequency = {\n",
    "    k.lower(): mcase.get(k.lower(), 0) + mcase.get(k.upper(), 0) \n",
    "    for k in mcase.keys()\n",
    "}\n",
    "print(mcase_frequency)\n",
    "\n",
    "dict_ret = { v: k for k, v in mcase.items() }\n",
    "print(dict_ret)\n",
    "\n",
    "# 集合推导式\n",
    "squared = {x**2 for x in [1,2,3]}\n",
    "print(type(squared))"
   ]
  },
  {
   "cell_type": "code",
   "execution_count": null,
   "metadata": {},
   "outputs": [],
   "source": []
  }
 ],
 "metadata": {
  "kernelspec": {
   "display_name": "Python 3",
   "language": "python",
   "name": "python3"
  },
  "language_info": {
   "codemirror_mode": {
    "name": "ipython",
    "version": 3
   },
   "file_extension": ".py",
   "mimetype": "text/x-python",
   "name": "python",
   "nbconvert_exporter": "python",
   "pygments_lexer": "ipython3",
   "version": "3.6.3"
  }
 },
 "nbformat": 4,
 "nbformat_minor": 2
}
