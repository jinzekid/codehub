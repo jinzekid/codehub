{
 "cells": [
  {
   "cell_type": "code",
   "execution_count": 5,
   "metadata": {},
   "outputs": [
    {
     "name": "stdout",
     "output_type": "stream",
     "text": [
      "<Response [200]>\n"
     ]
    }
   ],
   "source": [
    "from pygeocoder import Geocoder\n",
    "import requests\n",
    "\n",
    "def get_geocode(address):\n",
    "    parm = {'address': address, 'sensor': 'false'}\n",
    "#     base = 'http://maps.google.com//maps/api/geocode/json'\n",
    "    base = 'http://httpbin.org/'\n",
    "    response = requests.get(base, params=parm)\n",
    "    print()\n",
    "    \n",
    "get_geocode('上海市青浦区佳乐苑224号901室')"
   ]
  },
  {
   "cell_type": "code",
   "execution_count": null,
   "metadata": {},
   "outputs": [],
   "source": []
  }
 ],
 "metadata": {
  "kernelspec": {
   "display_name": "Python 3",
   "language": "python",
   "name": "python3"
  },
  "language_info": {
   "codemirror_mode": {
    "name": "ipython",
    "version": 3
   },
   "file_extension": ".py",
   "mimetype": "text/x-python",
   "name": "python",
   "nbconvert_exporter": "python",
   "pygments_lexer": "ipython3",
   "version": "3.6.3"
  }
 },
 "nbformat": 4,
 "nbformat_minor": 2
}
