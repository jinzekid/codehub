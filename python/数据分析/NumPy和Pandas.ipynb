{
 "cells": [
  {
   "cell_type": "code",
   "execution_count": null,
   "metadata": {},
   "outputs": [],
   "source": [
    "# ndarray对象\n",
    "import numpy as np\n",
    "a = np.array([1,2,3])\n",
    "print(type(a))\n",
    "\n",
    "print(\"ndim:\" + str(a.ndim) +\"\\nsize:\" + str(a.size) + \"\\nshape:\" + str(a.shape))\n",
    "\n",
    "b = np.array([[1.3, 2.4], [0.3, 4.1]])\n",
    "b.dtype\n",
    "print(\"ndim:\" + str(b.ndim) +\"\\nsize:\" + str(b.size) + \"\\nshape:\" + str(b.shape))\n",
    "\n",
    "e = np.array([[1,2,3],(4,5,6),[7,8,9]])\n",
    "e"
   ]
  },
  {
   "cell_type": "code",
   "execution_count": null,
   "metadata": {},
   "outputs": [],
   "source": [
    "import numpy as np\n",
    "f = np.array([[1,2,3], [4,5,6]], dtype=complex)\n",
    "f"
   ]
  },
  {
   "cell_type": "code",
   "execution_count": null,
   "metadata": {},
   "outputs": [],
   "source": [
    "import numpy as np\n",
    "np.zeros((3,3))\n",
    "np.arange(0,10)\n",
    "\n",
    "#help(np.arange)\n",
    "np.arange(0, 10, 2)\n",
    "\n",
    "np.arange(0,12).reshape(3,4)\n",
    "\n",
    "np.linspace(0,10,5)\n",
    "\n",
    "np.random.random(3)\n",
    "np.random.random((3,3))"
   ]
  },
  {
   "cell_type": "code",
   "execution_count": null,
   "metadata": {},
   "outputs": [],
   "source": [
    "# \n",
    "import numpy as np\n",
    "import pandas as pd\n",
    "\n",
    "data = pd.read_csv('monthly_csv_2.csv') # 读取csv文件\n",
    "print(data)\n",
    "print(type(data))\n",
    "print(\"=============================================\")\n",
    "data = pd.read_csv('monthly_csv.csv', usecols=[0, 1, 2])\n",
    "ret = data.sort_values(by='Value', ascending=False) # 根据value值降序\n",
    "print(ret)\n",
    "print(\"=============================================\")\n",
    "ret = data[(data['Value'] > 0.889)] # value值大于0.889\n",
    "print(ret)\n",
    "print(\"=============================================\")\n",
    "data_of_china = ret[ret['Country'] == 'China'] # 过滤Country为China的数据\n",
    "print(data_of_china['Value'])\n",
    "print(\"=============================================\")\n",
    "data_of_china = data[(data['Value'] > 0.889) & (data['Country'] == 'China')] # 过滤Country为China的数据\n",
    "print(data_of_china)"
   ]
  },
  {
   "cell_type": "code",
   "execution_count": null,
   "metadata": {
    "scrolled": false
   },
   "outputs": [],
   "source": [
    "import numpy as np\n",
    "import pandas as pd\n",
    "import matplotlib as mpl\n",
    "# mpl.use('TkAgg')\n",
    "import matplotlib.pyplot as plt\n",
    "%matplotlib inline\n",
    "\n",
    "# 获取所有sum\n",
    "data = pd.read_csv('res/monthly_csv.csv')\n",
    "\n",
    "def get_value_from_data(data):\n",
    "    \"\"\"从dataframe中获取value列表\"\"\"\n",
    "    list_v1 = []\n",
    "    for value in data['Value']:\n",
    "        list_v1.append(value)\n",
    "        \n",
    "    return list_v1\n",
    "\n",
    "print(\"==================获取所有国家==================\")\n",
    "# 获取所有国家\n",
    "ser_all_country = data.drop_duplicates(['Country']).reset_index(drop=True)['Country']\n",
    "print(\"国家总数：\" + str(len(ser_all_country)) + \"个\")\n",
    "# print(ser_all_country['Country'])\n",
    "\n",
    "\n",
    "print(\"==================获取Australia总和和平均值==================\")\n",
    "# 获取对应Australia国家的总和\n",
    "print(data[(data['Country'] == ser_all_country[0])]['Value'].sum())\n",
    "print(data[(data['Country'] == ser_all_country[0])]['Value'].mean())\n",
    "\n",
    "print(\"==================获取所有国家的总和数据==================\")\n",
    "dict_sum = {}\n",
    "for country in ser_all_country:\n",
    "    dict_sum[country] = (data[(data['Country'] == country)]['Value'])\n",
    "    \n",
    "variables = pd.DataFrame(dict_sum)\n",
    "# variables.plot()\n",
    "\n",
    "\n",
    "print(\"==================台湾,中国,澳大利亚 对比走势图==================\")\n",
    "\n",
    "#  长度必须是一致的\n",
    "ret = data[(data['Country'] == 'Taiwan')][['Date','Value']]\n",
    "list_tw = get_value_from_data(ret)[:400]\n",
    "ret = data[(data['Country'] == 'China')][['Date','Value']]\n",
    "list_ch = get_value_from_data(ret)[:400]\n",
    "ret = data[(data['Country'] == 'Australia')][['Date','Value']]\n",
    "list_aus = get_value_from_data(ret)[:400]\n",
    "\n",
    "variables = pd.DataFrame({'China': np.array(list_ch),\n",
    "                         'Taiwan': np.array(list_tw),\n",
    "                         'Australia': np.array(list_aus)})\n",
    "variables.plot()"
   ]
  },
  {
   "cell_type": "code",
   "execution_count": null,
   "metadata": {},
   "outputs": [],
   "source": [
    "# print(\"==================画Australia的走势图==================\")\n",
    "# ret = data[(data['Country'] == 'Australia')]\n",
    "# print(ret)\n",
    "# rest_a = pd.Series(ret['Value'], index=ret['Date'])\n",
    "# rest_a.plot(kind='bar', x=list_country)"
   ]
  },
  {
   "cell_type": "code",
   "execution_count": null,
   "metadata": {},
   "outputs": [],
   "source": [
    "plt.plot([1,2,3,4])"
   ]
  },
  {
   "cell_type": "code",
   "execution_count": null,
   "metadata": {},
   "outputs": [],
   "source": [
    "import datetime\n",
    "import numpy as np\n",
    "import matplotlib.pyplot as plt\n",
    "import matplotlib.dates as mdates\n",
    "months = mdates.MonthLocator()\n",
    "days = mdates.DayLocator()\n",
    "timeFmt = mdates.DateFormatter('%Y-%m')\n",
    "events = [datetime.date(2015,1,23),\n",
    "         datetime.date(2015,1,28),\n",
    "         datetime.date(2015,2,3),\n",
    "         datetime.date(2015,2,21),\n",
    "         datetime.date(2015,3,15),\n",
    "         datetime.date(2015,3,24),\n",
    "         datetime.date(2015,4,8),\n",
    "         datetime.date(2015,4,24)]\n",
    "readings = [12,22,25,20,18,15,17,14]\n",
    "fig, ax = plt.subplots()\n",
    "plt.plot(events, readings)\n",
    "ax.xaxis.set_major_locator(months)\n",
    "ax.xaxis.set_major_formatter(timeFmt)\n",
    "ax.xaxis.set_minor_locator(days)"
   ]
  },
  {
   "cell_type": "code",
   "execution_count": null,
   "metadata": {},
   "outputs": [],
   "source": [
    "import datetime as dt\n",
    "import numpy as np\n",
    "import pandas as pd\n",
    "import matplotlib as mpl\n",
    "# mpl.use('TkAgg')\n",
    "import matplotlib.pyplot as plt\n",
    "%matplotlib inline\n",
    "\n",
    "def get_value_from_data(data, key):\n",
    "    \"\"\"从dataframe中获取value列表\"\"\"\n",
    "    list_v = []\n",
    "    for value in data[key]:\n",
    "        list_v.append(value)\n",
    "        \n",
    "    return list_v\n",
    "\n",
    "\n",
    "def get_age_from_birth(data):\n",
    "    import datetime as dt\n",
    "    now_year =dt.datetime.today().year  #当前的年份\n",
    "    data['age']=now_year-data.Birth.dt.year\n",
    "    return data\n",
    "\n",
    "# 读取csv文件\n",
    "data = pd.read_csv('res/worldcup_team_csv.csv')\n",
    "# data = pd.read_table('res/worldcup_team_csv.csv', sep=',')\n",
    "\n",
    "\n",
    "data['Birth'] = pd.to_datetime(data['Birth'])\n",
    "data = get_age_from_birth(data)\n",
    "\n",
    "frame_data_russia = data[data['Country'] == 'Russia'];\n",
    "frame_data_egypt = data[data['Country'] == 'Egypt'];\n",
    "\n",
    "list_age = get_value_from_data(data[data['Country'] == 'Russia'][['age']], 'age')\n",
    "list_age_egypt = get_value_from_data(frame_data_egypt, 'age')\n",
    "\n",
    "variables = pd.DataFrame({'Russia': np.array(list_age),\n",
    "                         'Egypt': np.array(list_age_egypt)})\n",
    "variables.plot(kind='line')\n",
    "\n",
    "\n",
    "\n"
   ]
  },
  {
   "cell_type": "code",
   "execution_count": null,
   "metadata": {},
   "outputs": [],
   "source": [
    "# 读取csv文件\n",
    "# 没有表头，使用header选项，将其值置为None,pandas会为其添加默认表头\n",
    "data = pd.read_csv('res/worldcup_team_csv.csv', header=None) \n",
    "# 可以指定表头\n",
    "data = pd.read_csv('res/worldcup_team_csv.csv', names=['white','red','blue','green','animal']) \n",
    "print(data)"
   ]
  },
  {
   "cell_type": "code",
   "execution_count": null,
   "metadata": {},
   "outputs": [],
   "source": [
    "# 创建等级结构的DataFrame对象\n",
    "# 把所有想转换为索引的列名称赋给index_col\n",
    "pd.read_csv('res/myCSV_03.csv', index_col=['color','status'])"
   ]
  },
  {
   "cell_type": "code",
   "execution_count": null,
   "metadata": {},
   "outputs": [],
   "source": [
    "# pd.read_table('res/ch05_05.txt', sep='\\D*', names=['white','red','blue'])\n",
    "pd.read_table('res/ch05_05.txt', sep='\\D*', names=['white','red','blue'], skiprows=[3])"
   ]
  },
  {
   "cell_type": "markdown",
   "metadata": {},
   "source": [
    "##### "
   ]
  },
  {
   "cell_type": "code",
   "execution_count": null,
   "metadata": {},
   "outputs": [],
   "source": [
    "pd.read_table('res/ch05_06.txt', sep=',', skiprows=[0,1,3,6])"
   ]
  },
  {
   "cell_type": "code",
   "execution_count": null,
   "metadata": {},
   "outputs": [],
   "source": [
    "# 从txt文件读取部分数据\n",
    "# 过滤第2行，从起始行往后读3行\n",
    "pd.read_csv('res/ch05_02.csv',sep=',', skiprows=[2], nrows=3, header=None)"
   ]
  },
  {
   "cell_type": "code",
   "execution_count": null,
   "metadata": {},
   "outputs": [],
   "source": [
    "out = pd.Series() # 每隔3行进行累加，并且把和插入到series对象中\n",
    "i = 0\n",
    "pieces = pd.read_csv('res/ch05_01.csv', chunksize=3)\n",
    "for piece in pieces:\n",
    "    print(piece['white'])\n",
    "    out.at[i] = piece['white'].sum()\n",
    "    i = i + 1\n",
    "\n",
    "out"
   ]
  },
  {
   "cell_type": "code",
   "execution_count": null,
   "metadata": {},
   "outputs": [],
   "source": [
    "my_frame = pd.DataFrame({\n",
    "    'ball':[0,4,8,12],\n",
    "    'pen':[1,5,9,13],\n",
    "    'pencil':[2,6,10,14],\n",
    "    'paper':[3,7,11,15]\n",
    "})\n",
    "# 写入文件的时候，取消index和header选项\n",
    "my_frame.to_csv('res/ch05_07.csv', index=False, header=False)\n",
    "\n",
    "# 同理对DataFrame对象\n",
    "frame1 = pd.DataFrame(np.arange(16).reshape((4,4)),\n",
    "                     index=['red', 'blue', 'yellow', 'white'],\n",
    "                     columns=['ball', 'pen', 'pencil', 'paper'])\n",
    "print(frame1)\n",
    "frame2 = pd.DataFrame(np.arange(12).reshape((4,3)),\n",
    "                     index=['blue', 'green', 'white', 'yellow'],\n",
    "                     columns=['mug', 'pen', 'ball'])\n",
    "print(frame2)\n",
    "frame3 = frame1+frame2\n",
    "\n",
    "frame3.to_csv('res/ch05_08.csv', index=False, header=False, na_rep='NaN')\n"
   ]
  },
  {
   "cell_type": "code",
   "execution_count": 136,
   "metadata": {},
   "outputs": [
    {
     "data": {
      "image/png": "[encoded data removed]",
      "text/plain": [
       "<Figure size 432x288 with 1 Axes>"
      ]
     },
     "metadata": {},
     "output_type": "display_data"
    }
   ],
   "source": [
    "# 天然气数据分析\n",
    "import numpy as np\n",
    "import pandas as pd\n",
    "\n",
    "#  获取原始数据\n",
    "data = pd.read_csv('res/natural-gas-daily.csv')\n",
    "frame = pd.DataFrame(data[data['Price']>10.0])\n",
    "\n",
    "from datetime import datetime\n",
    "arr_date = frame['Date'].values\n",
    "# arr_date = [datetime.strptime(arr_date[0], '%Y-%m-%d') ]\n",
    "# print(arr_date)\n",
    "\n",
    "import numpy as np\n",
    "import matplotlib.pyplot as plt\n",
    "import matplotlib.dates as mdates\n",
    "\n",
    "months = mdates.MonthLocator()\n",
    "days = mdates.DayLocator()\n",
    "timeFmt = mdates.DateFormatter('%Y-%m')\n",
    "\n",
    "\n",
    "prices = np.array(frame['Price'])\n",
    "dates = [datetime.strptime(date, '%Y-%m-%d').date() for date in arr_date]\n",
    "\n",
    "\n",
    "plt.plot(prices)\n",
    "plt.show()\n",
    "\n",
    "# fig, ax = plt.subplots()\n",
    "# plt.plot(dates, prices)\n",
    "# ax.xaxis.set_major_locator(months)\n",
    "# ax.xaxis.set_major_formatter(timeFmt)\n",
    "# ax.xaxis.set_minor_locator(days)\n",
    "\n",
    "\n",
    "# #设定开始和结束时间\n",
    "# start=datetime.datetime(2013,1,1)\n",
    "# stop=datetime.datetime(2013,12,31)\n",
    "# delta=datetime.timedelta(1)#设定日期的间隔\n",
    "# dates=mpl.dates.drange(start,stop,delta)# 返回浮点型的日期序列，这个是生成时间序列，同理如果是将序列转成日期呢？\n",
    "# values=np.random.rand(len(dates))\n",
    "# #存在两个问题，一个是坐标轴没有按照日期的形式去标注，另一个是刻度的数量和位置也不合适\n",
    "# fig=plt.figure(figsize=(24,12))#调整画图空间的大小\n",
    "# plt.plot(dates,prices,linestyle='-',marker='*',c='r',alpha=0.5)#作图\n",
    "# ax=plt.gca()\n",
    "# date_format=mpl.dates.DateFormatter('%Y-%m-%d')#设定显示的格式形式\n",
    "# ax.xaxis.set_major_formatter(date_format)#设定x轴主要格式\n",
    "# ax.xaxis.set_major_locator(mpl.ticker.MultipleLocator(30))#设定坐标轴的显示的刻度间隔\n",
    "# fig.autofmt_xdate()#防止x轴上的数据重叠，自动调整。\n"
   ]
  },
  {
   "cell_type": "code",
   "execution_count": null,
   "metadata": {},
   "outputs": [],
   "source": [
    "from datetime import datetime\n",
    "\n",
    "str_time = '2017-10-02'\n",
    "print(datetime.strptime(str_time, '%Y-%m-%d').date())\n"
   ]
  },
  {
   "cell_type": "code",
   "execution_count": null,
   "metadata": {},
   "outputs": [],
   "source": []
  }
 ],
 "metadata": {
  "kernelspec": {
   "display_name": "Python 3",
   "language": "python",
   "name": "python3"
  },
  "language_info": {
   "codemirror_mode": {
    "name": "ipython",
    "version": 3
   },
   "file_extension": ".py",
   "mimetype": "text/x-python",
   "name": "python",
   "nbconvert_exporter": "python",
   "pygments_lexer": "ipython3",
   "version": "3.6.3"
  }
 },
 "nbformat": 4,
 "nbformat_minor": 2
}
