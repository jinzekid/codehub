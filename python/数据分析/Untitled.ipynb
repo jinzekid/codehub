{
 "cells": [
  {
   "cell_type": "code",
   "execution_count": null,
   "metadata": {},
   "outputs": [],
   "source": [
    "# ndarray对象\n",
    "import numpy as np\n",
    "a = np.array([1,2,3])\n",
    "print(type(a))\n",
    "\n",
    "print(\"ndim:\" + str(a.ndim) +\"\\nsize:\" + str(a.size) + \"\\nshape:\" + str(a.shape))\n",
    "\n",
    "b = np.array([[1.3, 2.4], [0.3, 4.1]])\n",
    "b.dtype\n",
    "print(\"ndim:\" + str(b.ndim) +\"\\nsize:\" + str(b.size) + \"\\nshape:\" + str(b.shape))\n",
    "\n",
    "e = np.array([[1,2,3],(4,5,6),[7,8,9]])\n",
    "e"
   ]
  },
  {
   "cell_type": "code",
   "execution_count": 22,
   "metadata": {},
   "outputs": [
    {
     "data": {
      "text/plain": [
       "array([[1.+0.j, 2.+0.j, 3.+0.j],\n",
       "       [4.+0.j, 5.+0.j, 6.+0.j]])"
      ]
     },
     "execution_count": 22,
     "metadata": {},
     "output_type": "execute_result"
    }
   ],
   "source": [
    "import numpy as np\n",
    "f = np.array([[1,2,3], [4,5,6]], dtype=complex)\n",
    "f"
   ]
  },
  {
   "cell_type": "code",
   "execution_count": 47,
   "metadata": {},
   "outputs": [
    {
     "data": {
      "text/plain": [
       "array([[0.18921504, 0.01784341, 0.84764371],\n",
       "       [0.94538462, 0.78945218, 0.48088074],\n",
       "       [0.71947452, 0.66507367, 0.15882516]])"
      ]
     },
     "execution_count": 47,
     "metadata": {},
     "output_type": "execute_result"
    }
   ],
   "source": [
    "import numpy as np\n",
    "np.zeros((3,3))\n",
    "np.arange(0,10)\n",
    "\n",
    "#help(np.arange)\n",
    "np.arange(0, 10, 2)\n",
    "\n",
    "np.arange(0,12).reshape(3,4)\n",
    "\n",
    "np.linspace(0,10,5)\n",
    "\n",
    "np.random.random(3)\n",
    "np.random.random((3,3))"
   ]
  },
  {
   "cell_type": "code",
   "execution_count": null,
   "metadata": {},
   "outputs": [],
   "source": []
  }
 ],
 "metadata": {
  "kernelspec": {
   "display_name": "Python 3",
   "language": "python",
   "name": "python3"
  },
  "language_info": {
   "codemirror_mode": {
    "name": "ipython",
    "version": 3
   },
   "file_extension": ".py",
   "mimetype": "text/x-python",
   "name": "python",
   "nbconvert_exporter": "python",
   "pygments_lexer": "ipython3",
   "version": "3.6.3"
  }
 },
 "nbformat": 4,
 "nbformat_minor": 2
}
