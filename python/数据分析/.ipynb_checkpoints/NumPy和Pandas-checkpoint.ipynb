{
 "cells": [
  {
   "cell_type": "code",
   "execution_count": null,
   "metadata": {},
   "outputs": [],
   "source": [
    "# ndarray对象\n",
    "import numpy as np\n",
    "a = np.array([1,2,3])\n",
    "print(type(a))\n",
    "\n",
    "print(\"ndim:\" + str(a.ndim) +\"\\nsize:\" + str(a.size) + \"\\nshape:\" + str(a.shape))\n",
    "\n",
    "b = np.array([[1.3, 2.4], [0.3, 4.1]])\n",
    "b.dtype\n",
    "print(\"ndim:\" + str(b.ndim) +\"\\nsize:\" + str(b.size) + \"\\nshape:\" + str(b.shape))\n",
    "\n",
    "e = np.array([[1,2,3],(4,5,6),[7,8,9]])\n",
    "e"
   ]
  },
  {
   "cell_type": "code",
   "execution_count": null,
   "metadata": {},
   "outputs": [],
   "source": [
    "import numpy as np\n",
    "f = np.array([[1,2,3], [4,5,6]], dtype=complex)\n",
    "f"
   ]
  },
  {
   "cell_type": "code",
   "execution_count": null,
   "metadata": {},
   "outputs": [],
   "source": [
    "import numpy as np\n",
    "np.zeros((3,3))\n",
    "np.arange(0,10)\n",
    "\n",
    "#help(np.arange)\n",
    "np.arange(0, 10, 2)\n",
    "\n",
    "np.arange(0,12).reshape(3,4)\n",
    "\n",
    "np.linspace(0,10,5)\n",
    "\n",
    "np.random.random(3)\n",
    "np.random.random((3,3))"
   ]
  },
  {
   "cell_type": "code",
   "execution_count": null,
   "metadata": {},
   "outputs": [],
   "source": [
    "# \n",
    "import numpy as np\n",
    "import pandas as pd\n",
    "\n",
    "data = pd.read_csv('monthly_csv_2.csv') # 读取csv文件\n",
    "print(data)\n",
    "print(type(data))\n",
    "print(\"=============================================\")\n",
    "data = pd.read_csv('monthly_csv.csv', usecols=[0, 1, 2])\n",
    "ret = data.sort_values(by='Value', ascending=False) # 根据value值降序\n",
    "print(ret)\n",
    "print(\"=============================================\")\n",
    "ret = data[(data['Value'] > 0.889)] # value值大于0.889\n",
    "print(ret)\n",
    "print(\"=============================================\")\n",
    "data_of_china = ret[ret['Country'] == 'China'] # 过滤Country为China的数据\n",
    "print(data_of_china['Value'])\n",
    "print(\"=============================================\")\n",
    "data_of_china = data[(data['Value'] > 0.889) & (data['Country'] == 'China')] # 过滤Country为China的数据\n",
    "print(data_of_china)"
   ]
  },
  {
   "cell_type": "code",
   "execution_count": null,
   "metadata": {
    "scrolled": false
   },
   "outputs": [],
   "source": [
    "import numpy as np\n",
    "import pandas as pd\n",
    "import matplotlib as mpl\n",
    "# mpl.use('TkAgg')\n",
    "import matplotlib.pyplot as plt\n",
    "%matplotlib inline\n",
    "\n",
    "# 获取所有sum\n",
    "data = pd.read_csv('res/monthly_csv.csv')\n",
    "\n",
    "def get_value_from_data(data):\n",
    "    \"\"\"从dataframe中获取value列表\"\"\"\n",
    "    list_v1 = []\n",
    "    for value in data['Value']:\n",
    "        list_v1.append(value)\n",
    "        \n",
    "    return list_v1\n",
    "\n",
    "print(\"==================获取所有国家==================\")\n",
    "# 获取所有国家\n",
    "ser_all_country = data.drop_duplicates(['Country']).reset_index(drop=True)['Country']\n",
    "print(\"国家总数：\" + str(len(ser_all_country)) + \"个\")\n",
    "# print(ser_all_country['Country'])\n",
    "\n",
    "\n",
    "print(\"==================获取Australia总和和平均值==================\")\n",
    "# 获取对应Australia国家的总和\n",
    "print(data[(data['Country'] == ser_all_country[0])]['Value'].sum())\n",
    "print(data[(data['Country'] == ser_all_country[0])]['Value'].mean())\n",
    "\n",
    "print(\"==================获取所有国家的总和数据==================\")\n",
    "dict_sum = {}\n",
    "for country in ser_all_country:\n",
    "    dict_sum[country] = (data[(data['Country'] == country)]['Value'])\n",
    "    \n",
    "variables = pd.DataFrame(dict_sum)\n",
    "# variables.plot()\n",
    "\n",
    "\n",
    "print(\"==================台湾,中国,澳大利亚 对比走势图==================\")\n",
    "\n",
    "#  长度必须是一致的\n",
    "ret = data[(data['Country'] == 'Taiwan')][['Date','Value']]\n",
    "list_tw = get_value_from_data(ret)[:400]\n",
    "ret = data[(data['Country'] == 'China')][['Date','Value']]\n",
    "list_ch = get_value_from_data(ret)[:400]\n",
    "ret = data[(data['Country'] == 'Australia')][['Date','Value']]\n",
    "list_aus = get_value_from_data(ret)[:400]\n",
    "\n",
    "variables = pd.DataFrame({'China': np.array(list_ch),\n",
    "                         'Taiwan': np.array(list_tw),\n",
    "                         'Australia': np.array(list_aus)})\n",
    "variables.plot()"
   ]
  },
  {
   "cell_type": "code",
   "execution_count": null,
   "metadata": {},
   "outputs": [],
   "source": [
    "# print(\"==================画Australia的走势图==================\")\n",
    "# ret = data[(data['Country'] == 'Australia')]\n",
    "# print(ret)\n",
    "# rest_a = pd.Series(ret['Value'], index=ret['Date'])\n",
    "# rest_a.plot(kind='bar', x=list_country)"
   ]
  },
  {
   "cell_type": "code",
   "execution_count": null,
   "metadata": {},
   "outputs": [],
   "source": [
    "plt.plot([1,2,3,4])"
   ]
  },
  {
   "cell_type": "code",
   "execution_count": null,
   "metadata": {},
   "outputs": [],
   "source": [
    "import datetime\n",
    "import numpy as np\n",
    "import matplotlib.pyplot as plt\n",
    "import matplotlib.dates as mdates\n",
    "months = mdates.MonthLocator()\n",
    "days = mdates.DayLocator()\n",
    "timeFmt = mdates.DateFormatter('%Y-%m')\n",
    "events = [datetime.date(2015,1,23),\n",
    "         datetime.date(2015,1,28),\n",
    "         datetime.date(2015,2,3),\n",
    "         datetime.date(2015,2,21),\n",
    "         datetime.date(2015,3,15),\n",
    "         datetime.date(2015,3,24),\n",
    "         datetime.date(2015,4,8),\n",
    "         datetime.date(2015,4,24)]\n",
    "readings = [12,22,25,20,18,15,17,14]\n",
    "fig, ax = plt.subplots()\n",
    "plt.plot(events, readings)\n",
    "ax.xaxis.set_major_locator(months)\n",
    "ax.xaxis.set_major_formatter(timeFmt)\n",
    "ax.xaxis.set_minor_locator(days)"
   ]
  },
  {
   "cell_type": "code",
   "execution_count": null,
   "metadata": {},
   "outputs": [],
   "source": [
    "import datetime as dt\n",
    "import numpy as np\n",
    "import pandas as pd\n",
    "import matplotlib as mpl\n",
    "# mpl.use('TkAgg')\n",
    "import matplotlib.pyplot as plt\n",
    "%matplotlib inline\n",
    "\n",
    "def get_value_from_data(data, key):\n",
    "    \"\"\"从dataframe中获取value列表\"\"\"\n",
    "    list_v = []\n",
    "    for value in data[key]:\n",
    "        list_v.append(value)\n",
    "        \n",
    "    return list_v\n",
    "\n",
    "\n",
    "def get_age_from_birth(data):\n",
    "    import datetime as dt\n",
    "    now_year =dt.datetime.today().year  #当前的年份\n",
    "    data['age']=now_year-data.Birth.dt.year\n",
    "    return data\n",
    "\n",
    "# 读取csv文件\n",
    "data = pd.read_csv('res/worldcup_team_csv.csv')\n",
    "# data = pd.read_table('res/worldcup_team_csv.csv', sep=',')\n",
    "\n",
    "\n",
    "data['Birth'] = pd.to_datetime(data['Birth'])\n",
    "data = get_age_from_birth(data)\n",
    "\n",
    "frame_data_russia = data[data['Country'] == 'Russia'];\n",
    "frame_data_egypt = data[data['Country'] == 'Egypt'];\n",
    "\n",
    "list_age = get_value_from_data(data[data['Country'] == 'Russia'][['age']], 'age')\n",
    "list_age_egypt = get_value_from_data(frame_data_egypt, 'age')\n",
    "\n",
    "variables = pd.DataFrame({'Russia': np.array(list_age),\n",
    "                         'Egypt': np.array(list_age_egypt)})\n",
    "variables.plot(kind='line')\n",
    "\n",
    "\n",
    "\n"
   ]
  },
  {
   "cell_type": "code",
   "execution_count": null,
   "metadata": {},
   "outputs": [],
   "source": [
    "# 读取csv文件\n",
    "# 没有表头，使用header选项，将其值置为None,pandas会为其添加默认表头\n",
    "data = pd.read_csv('res/worldcup_team_csv.csv', header=None) \n",
    "# 可以指定表头\n",
    "data = pd.read_csv('res/worldcup_team_csv.csv', names=['white','red','blue','green','animal']) \n",
    "print(data)"
   ]
  },
  {
   "cell_type": "code",
   "execution_count": null,
   "metadata": {},
   "outputs": [],
   "source": [
    "# 创建等级结构的DataFrame对象\n",
    "# 把所有想转换为索引的列名称赋给index_col\n",
    "pd.read_csv('res/myCSV_03.csv', index_col=['color','status'])"
   ]
  },
  {
   "cell_type": "code",
   "execution_count": null,
   "metadata": {},
   "outputs": [],
   "source": [
    "# pd.read_table('res/ch05_05.txt', sep='\\D*', names=['white','red','blue'])\n",
    "pd.read_table('res/ch05_05.txt', sep='\\D*', names=['white','red','blue'], skiprows=[3])"
   ]
  },
  {
   "cell_type": "markdown",
   "metadata": {},
   "source": [
    "##### "
   ]
  },
  {
   "cell_type": "code",
   "execution_count": null,
   "metadata": {},
   "outputs": [],
   "source": [
    "pd.read_table('res/ch05_06.txt', sep=',', skiprows=[0,1,3,6])"
   ]
  },
  {
   "cell_type": "code",
   "execution_count": null,
   "metadata": {},
   "outputs": [],
   "source": [
    "# 从txt文件读取部分数据\n",
    "# 过滤第2行，从起始行往后读3行\n",
    "pd.read_csv('res/ch05_02.csv',sep=',', skiprows=[2], nrows=3, header=None)"
   ]
  },
  {
   "cell_type": "code",
   "execution_count": null,
   "metadata": {},
   "outputs": [],
   "source": [
    "out = pd.Series() # 每隔3行进行累加，并且把和插入到series对象中\n",
    "i = 0\n",
    "pieces = pd.read_csv('res/ch05_01.csv', chunksize=3)\n",
    "for piece in pieces:\n",
    "    print(piece['white'])\n",
    "    out.at[i] = piece['white'].sum()\n",
    "    i = i + 1\n",
    "\n",
    "out"
   ]
  },
  {
   "cell_type": "code",
   "execution_count": null,
   "metadata": {},
   "outputs": [],
   "source": [
    "my_frame = pd.DataFrame({\n",
    "    'ball':[0,4,8,12],\n",
    "    'pen':[1,5,9,13],\n",
    "    'pencil':[2,6,10,14],\n",
    "    'paper':[3,7,11,15]\n",
    "})\n",
    "# 写入文件的时候，取消index和header选项\n",
    "my_frame.to_csv('res/ch05_07.csv', index=False, header=False)\n",
    "\n",
    "# 同理对DataFrame对象\n",
    "frame1 = pd.DataFrame(np.arange(16).reshape((4,4)),\n",
    "                     index=['red', 'blue', 'yellow', 'white'],\n",
    "                     columns=['ball', 'pen', 'pencil', 'paper'])\n",
    "print(frame1)\n",
    "frame2 = pd.DataFrame(np.arange(12).reshape((4,3)),\n",
    "                     index=['blue', 'green', 'white', 'yellow'],\n",
    "                     columns=['mug', 'pen', 'ball'])\n",
    "print(frame2)\n",
    "frame3 = frame1+frame2\n",
    "\n",
    "frame3.to_csv('res/ch05_08.csv', index=False, header=False, na_rep='NaN')\n"
   ]
  },
  {
   "cell_type": "code",
   "execution_count": 94,
   "metadata": {},
   "outputs": [
    {
     "name": "stdout",
     "output_type": "stream",
     "text": [
      "['2000-12-21' '2000-12-22' '2000-12-26' '2000-12-29' '2001-01-05'\n",
      " '2001-01-08' '2003-02-24' '2003-02-25' '2003-02-26' '2003-02-28'\n",
      " '2005-08-24' '2005-08-30' '2005-08-31' '2005-09-01' '2005-09-02'\n",
      " '2005-09-06' '2005-09-07' '2005-09-08' '2005-09-09' '2005-09-12'\n",
      " '2005-09-13' '2005-09-14' '2005-09-15' '2005-09-16' '2005-09-19'\n",
      " '2005-09-20' '2005-09-21' '2005-09-22' '2005-10-07' '2005-10-10'\n",
      " '2005-10-11' '2005-10-12' '2005-10-13' '2005-10-14' '2005-10-17'\n",
      " '2005-10-18' '2005-10-19' '2005-10-20' '2005-10-21' '2005-10-24'\n",
      " '2005-10-25' '2005-10-26' '2005-10-27' '2005-10-28' '2005-10-31'\n",
      " '2005-11-01' '2005-11-02' '2005-11-03' '2005-11-16' '2005-11-17'\n",
      " '2005-11-18' '2005-11-21' '2005-11-22' '2005-11-23' '2005-11-28'\n",
      " '2005-11-29' '2005-11-30' '2005-12-01' '2005-12-02' '2005-12-05'\n",
      " '2005-12-06' '2005-12-07' '2005-12-08' '2005-12-09' '2005-12-12'\n",
      " '2005-12-13' '2005-12-14' '2005-12-15' '2005-12-16' '2005-12-19'\n",
      " '2005-12-20' '2005-12-21' '2005-12-22' '2005-12-23' '2005-12-27'\n",
      " '2005-12-29' '2008-04-10' '2008-04-11' '2008-04-14' '2008-04-15'\n",
      " '2008-04-16' '2008-04-17' '2008-04-18' '2008-04-21' '2008-04-22'\n",
      " '2008-04-23' '2008-04-24' '2008-04-25' '2008-04-28' '2008-04-29'\n",
      " '2008-04-30' '2008-05-01' '2008-05-02' '2008-05-05' '2008-05-06'\n",
      " '2008-05-07' '2008-05-08' '2008-05-09' '2008-05-12' '2008-05-13'\n",
      " '2008-05-14' '2008-05-15' '2008-05-16' '2008-05-19' '2008-05-20'\n",
      " '2008-05-21' '2008-05-22' '2008-05-23' '2008-05-27' '2008-05-28'\n",
      " '2008-05-29' '2008-05-30' '2008-06-02' '2008-06-03' '2008-06-04'\n",
      " '2008-06-05' '2008-06-06' '2008-06-09' '2008-06-10' '2008-06-11'\n",
      " '2008-06-12' '2008-06-13' '2008-06-16' '2008-06-17' '2008-06-18'\n",
      " '2008-06-19' '2008-06-20' '2008-06-23' '2008-06-24' '2008-06-25'\n",
      " '2008-06-26' '2008-06-27' '2008-06-30' '2008-07-01' '2008-07-02'\n",
      " '2008-07-03' '2008-07-07' '2008-07-08' '2008-07-09' '2008-07-10'\n",
      " '2008-07-11' '2008-07-14' '2008-07-15' '2008-07-16' '2008-07-17'\n",
      " '2008-07-18' '2008-07-21' '2008-07-22']\n"
     ]
    },
    {
     "ename": "ValueError",
     "evalue": "unconverted data remains: -21",
     "output_type": "error",
     "traceback": [
      "\u001b[0;31m---------------------------------------------------------------------------\u001b[0m",
      "\u001b[0;31mValueError\u001b[0m                                Traceback (most recent call last)",
      "\u001b[0;32m<ipython-input-94-7e4cfbeab379>\u001b[0m in \u001b[0;36m<module>\u001b[0;34m()\u001b[0m\n\u001b[1;32m     21\u001b[0m \u001b[0;34m\u001b[0m\u001b[0m\n\u001b[1;32m     22\u001b[0m \u001b[0mprices\u001b[0m \u001b[0;34m=\u001b[0m \u001b[0mnp\u001b[0m\u001b[0;34m.\u001b[0m\u001b[0marray\u001b[0m\u001b[0;34m(\u001b[0m\u001b[0mframe\u001b[0m\u001b[0;34m[\u001b[0m\u001b[0;34m'Price'\u001b[0m\u001b[0;34m]\u001b[0m\u001b[0;34m)\u001b[0m\u001b[0;34m\u001b[0m\u001b[0m\n\u001b[0;32m---> 23\u001b[0;31m \u001b[0mdates\u001b[0m \u001b[0;34m=\u001b[0m \u001b[0;34m[\u001b[0m\u001b[0mdatetime\u001b[0m\u001b[0;34m.\u001b[0m\u001b[0mstrptime\u001b[0m\u001b[0;34m(\u001b[0m\u001b[0mdate\u001b[0m\u001b[0;34m,\u001b[0m \u001b[0;34m'%Y-%m'\u001b[0m\u001b[0;34m)\u001b[0m \u001b[0;32mfor\u001b[0m \u001b[0mdate\u001b[0m \u001b[0;32min\u001b[0m \u001b[0marr_date\u001b[0m\u001b[0;34m]\u001b[0m\u001b[0;34m\u001b[0m\u001b[0m\n\u001b[0m\u001b[1;32m     24\u001b[0m \u001b[0mprint\u001b[0m\u001b[0;34m(\u001b[0m\u001b[0mdates\u001b[0m\u001b[0;34m)\u001b[0m\u001b[0;34m\u001b[0m\u001b[0m\n\u001b[1;32m     25\u001b[0m \u001b[0;34m\u001b[0m\u001b[0m\n",
      "\u001b[0;32m<ipython-input-94-7e4cfbeab379>\u001b[0m in \u001b[0;36m<listcomp>\u001b[0;34m(.0)\u001b[0m\n\u001b[1;32m     21\u001b[0m \u001b[0;34m\u001b[0m\u001b[0m\n\u001b[1;32m     22\u001b[0m \u001b[0mprices\u001b[0m \u001b[0;34m=\u001b[0m \u001b[0mnp\u001b[0m\u001b[0;34m.\u001b[0m\u001b[0marray\u001b[0m\u001b[0;34m(\u001b[0m\u001b[0mframe\u001b[0m\u001b[0;34m[\u001b[0m\u001b[0;34m'Price'\u001b[0m\u001b[0;34m]\u001b[0m\u001b[0;34m)\u001b[0m\u001b[0;34m\u001b[0m\u001b[0m\n\u001b[0;32m---> 23\u001b[0;31m \u001b[0mdates\u001b[0m \u001b[0;34m=\u001b[0m \u001b[0;34m[\u001b[0m\u001b[0mdatetime\u001b[0m\u001b[0;34m.\u001b[0m\u001b[0mstrptime\u001b[0m\u001b[0;34m(\u001b[0m\u001b[0mdate\u001b[0m\u001b[0;34m,\u001b[0m \u001b[0;34m'%Y-%m'\u001b[0m\u001b[0;34m)\u001b[0m \u001b[0;32mfor\u001b[0m \u001b[0mdate\u001b[0m \u001b[0;32min\u001b[0m \u001b[0marr_date\u001b[0m\u001b[0;34m]\u001b[0m\u001b[0;34m\u001b[0m\u001b[0m\n\u001b[0m\u001b[1;32m     24\u001b[0m \u001b[0mprint\u001b[0m\u001b[0;34m(\u001b[0m\u001b[0mdates\u001b[0m\u001b[0;34m)\u001b[0m\u001b[0;34m\u001b[0m\u001b[0m\n\u001b[1;32m     25\u001b[0m \u001b[0;34m\u001b[0m\u001b[0m\n",
      "\u001b[0;32m/usr/local/Cellar/python3/3.6.3/Frameworks/Python.framework/Versions/3.6/lib/python3.6/_strptime.py\u001b[0m in \u001b[0;36m_strptime_datetime\u001b[0;34m(cls, data_string, format)\u001b[0m\n\u001b[1;32m    563\u001b[0m     \"\"\"Return a class cls instance based on the input string and the\n\u001b[1;32m    564\u001b[0m     format string.\"\"\"\n\u001b[0;32m--> 565\u001b[0;31m     \u001b[0mtt\u001b[0m\u001b[0;34m,\u001b[0m \u001b[0mfraction\u001b[0m \u001b[0;34m=\u001b[0m \u001b[0m_strptime\u001b[0m\u001b[0;34m(\u001b[0m\u001b[0mdata_string\u001b[0m\u001b[0;34m,\u001b[0m \u001b[0mformat\u001b[0m\u001b[0;34m)\u001b[0m\u001b[0;34m\u001b[0m\u001b[0m\n\u001b[0m\u001b[1;32m    566\u001b[0m     \u001b[0mtzname\u001b[0m\u001b[0;34m,\u001b[0m \u001b[0mgmtoff\u001b[0m \u001b[0;34m=\u001b[0m \u001b[0mtt\u001b[0m\u001b[0;34m[\u001b[0m\u001b[0;34m-\u001b[0m\u001b[0;36m2\u001b[0m\u001b[0;34m:\u001b[0m\u001b[0;34m]\u001b[0m\u001b[0;34m\u001b[0m\u001b[0m\n\u001b[1;32m    567\u001b[0m     \u001b[0margs\u001b[0m \u001b[0;34m=\u001b[0m \u001b[0mtt\u001b[0m\u001b[0;34m[\u001b[0m\u001b[0;34m:\u001b[0m\u001b[0;36m6\u001b[0m\u001b[0;34m]\u001b[0m \u001b[0;34m+\u001b[0m \u001b[0;34m(\u001b[0m\u001b[0mfraction\u001b[0m\u001b[0;34m,\u001b[0m\u001b[0;34m)\u001b[0m\u001b[0;34m\u001b[0m\u001b[0m\n",
      "\u001b[0;32m/usr/local/Cellar/python3/3.6.3/Frameworks/Python.framework/Versions/3.6/lib/python3.6/_strptime.py\u001b[0m in \u001b[0;36m_strptime\u001b[0;34m(data_string, format)\u001b[0m\n\u001b[1;32m    363\u001b[0m     \u001b[0;32mif\u001b[0m \u001b[0mlen\u001b[0m\u001b[0;34m(\u001b[0m\u001b[0mdata_string\u001b[0m\u001b[0;34m)\u001b[0m \u001b[0;34m!=\u001b[0m \u001b[0mfound\u001b[0m\u001b[0;34m.\u001b[0m\u001b[0mend\u001b[0m\u001b[0;34m(\u001b[0m\u001b[0;34m)\u001b[0m\u001b[0;34m:\u001b[0m\u001b[0;34m\u001b[0m\u001b[0m\n\u001b[1;32m    364\u001b[0m         raise ValueError(\"unconverted data remains: %s\" %\n\u001b[0;32m--> 365\u001b[0;31m                           data_string[found.end():])\n\u001b[0m\u001b[1;32m    366\u001b[0m \u001b[0;34m\u001b[0m\u001b[0m\n\u001b[1;32m    367\u001b[0m     \u001b[0miso_year\u001b[0m \u001b[0;34m=\u001b[0m \u001b[0myear\u001b[0m \u001b[0;34m=\u001b[0m \u001b[0;32mNone\u001b[0m\u001b[0;34m\u001b[0m\u001b[0m\n",
      "\u001b[0;31mValueError\u001b[0m: unconverted data remains: -21"
     ]
    }
   ],
   "source": [
    "# 天然气数据分析\n",
    "import numpy as np\n",
    "import pandas as pd\n",
    "\n",
    "#  获取原始数据\n",
    "data = pd.read_csv('res/natural-gas-daily.csv')\n",
    "frame = pd.DataFrame(data[data['Price']>10.0])\n",
    "\n",
    "from datetime import datetime\n",
    "arr_date = frame['Date'].values\n",
    "print(arr_date)\n",
    "# print(datetime.strptime(arr_date[0], '%Y-%m-%d'))\n",
    "\n",
    "import numpy as np\n",
    "import matplotlib.pyplot as plt\n",
    "import matplotlib.dates as mdates\n",
    "\n",
    "months = mdates.MonthLocator()\n",
    "days = mdates.DayLocator()\n",
    "timeFmt = mdates.DateFormatter('%Y-%m')\n",
    "\n",
    "prices = np.array(frame['Price'])\n",
    "# dates = [datetime.strptime(date, '%Y-%m') for date in arr_date]\n",
    "# print(dates)\n",
    "\n",
    "plt.plot(prices)\n",
    "plt.show()\n",
    "\n",
    "# fig, ax = plt.subplots()\n",
    "# plt.plot(prices)\n",
    "# ax.xaxis.set_major_locator(months)\n",
    "# ax.xaxis.set_major_formatter(timeFmt)\n",
    "# ax.xaxis.set_minor_locator(days)"
   ]
  },
  {
   "cell_type": "code",
   "execution_count": null,
   "metadata": {},
   "outputs": [],
   "source": []
  }
 ],
 "metadata": {
  "kernelspec": {
   "display_name": "Python 3",
   "language": "python",
   "name": "python3"
  },
  "language_info": {
   "codemirror_mode": {
    "name": "ipython",
    "version": 3
   },
   "file_extension": ".py",
   "mimetype": "text/x-python",
   "name": "python",
   "nbconvert_exporter": "python",
   "pygments_lexer": "ipython3",
   "version": "3.6.3"
  }
 },
 "nbformat": 4,
 "nbformat_minor": 2
}
