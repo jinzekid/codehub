{
 "cells": [
  {
   "cell_type": "code",
   "execution_count": null,
   "metadata": {},
   "outputs": [],
   "source": [
    "\n",
    "\n",
    "a = [0]\n",
    "a1 = a * 10\n",
    "print(str(id(a))+\":%s\" %(a))\n",
    "print(str(id(a1)) + \":%s\" %(a1))\n",
    "\n",
    "a2 = a1*10\n",
    "print(a1)\n",
    "print(a2)\n",
    "\n",
    "\n",
    "a3 = [[0 for x in range(10)] for x in range(10)]\n",
    "print(a3)"
   ]
  },
  {
   "cell_type": "code",
   "execution_count": null,
   "metadata": {},
   "outputs": [],
   "source": [
    "# 函数运行装饰器\n",
    "def decorate_func_time(func):\n",
    "    from datetime import datetime as dt \n",
    "    def inner(*args, **kwargs):\n",
    "        start = dt.now()\n",
    "        ret = func(*args, **kwargs)\n",
    "        delta = dt.now() - start \n",
    "        print(func.__name__ + ' elapsed time:' + str(delta.microseconds))\n",
    "        return ret \n",
    "    return inner \n",
    "\n",
    "@decorate_func_time\n",
    "def func1(num):\n",
    "    a = [[0] * num] * num\n",
    "    print(type(a))\n",
    "#     print(a)\n",
    "\n",
    "@decorate_func_time\n",
    "def func2(num):\n",
    "    a = [[0 for x in range(num)] for x in range(num)]\n",
    "    print(type(a))\n",
    "#     print(a)\n",
    "    \n",
    "import numpy as np\n",
    "@decorate_func_time\n",
    "def func3(num):\n",
    "    a = np.zeros((num,num))\n",
    "    print(type(a))\n",
    "\n",
    "\n",
    "\n",
    "\n",
    "func1(100)\n",
    "func2(100)\n",
    "func3(100)"
   ]
  },
  {
   "cell_type": "code",
   "execution_count": null,
   "metadata": {},
   "outputs": [],
   "source": [
    "import numpy as np\n",
    "a = np.arange(10,19).reshape((3,3))\n",
    "print(a)\n",
    "print(a[0,:1])\n",
    "print(a[:,0])\n",
    "print(a[0:2,0])\n",
    "print(a[0,:])\n",
    "\n",
    "for item in a.flat:\n",
    "    print(item)\n",
    "    \n",
    "np.apply_along_axis(np.mean, axis=0, arr=a)\n",
    "np.apply_along_axis(np.mean, axis=1, arr=a)\n",
    "\n",
    "def foo(x):\n",
    "    return x/2\n",
    "\n",
    "np.apply_along_axis(foo, axis=0, arr=a)\n",
    "\n",
    "\n",
    "# print(a[:,0])"
   ]
  },
  {
   "cell_type": "code",
   "execution_count": null,
   "metadata": {},
   "outputs": [],
   "source": [
    "# 条件和布尔数组\n",
    "import numpy as np\n",
    "A = np.random.random((4,4)) # 由0到1之间的随机4x4数组\n",
    "A\n",
    "A < 0.5\n",
    "A[A<0.5]"
   ]
  },
  {
   "cell_type": "code",
   "execution_count": null,
   "metadata": {},
   "outputs": [],
   "source": [
    "# 形状变形\n",
    "import numpy as np\n",
    "a = np.random.random(12)\n",
    "A = a.reshape((3,4))\n",
    "print(A)\n",
    "# A\n",
    "# a\n",
    "# a.shape = (4,3) # 通过改变a的形状直接改变\n",
    "# a\n",
    "\n",
    "Aa = A.transpose()\n",
    "print(Aa)"
   ]
  },
  {
   "cell_type": "code",
   "execution_count": null,
   "metadata": {},
   "outputs": [],
   "source": [
    "# 连接数组\n",
    "A = np.ones((3,3))\n",
    "B = np.zeros((3,3))\n",
    "np.vstack((A,B)) # 垂直入栈操作\n",
    "np.hstack((A,B)) # 水平入栈操作"
   ]
  },
  {
   "cell_type": "code",
   "execution_count": null,
   "metadata": {},
   "outputs": [],
   "source": [
    "a = np.array([0,1,2])\n",
    "b = np.array([3,4,5])\n",
    "c = np.array([6,7,8])\n",
    "np.column_stack((a,b,c)) # 列入栈\n",
    "np.row_stack((a,b,c)) # 行入栈"
   ]
  },
  {
   "cell_type": "code",
   "execution_count": null,
   "metadata": {},
   "outputs": [],
   "source": [
    "A = np.arange(16).reshape((4,4))\n",
    "print(A)\n",
    "[B,C] = np.vsplit(A,2) # 垂直切分，把数组按照高度分为两部分\n",
    "# print(B)\n",
    "[D,E] = np.hsplit(A,2) # 水平切分，把数组按照宽度切分为两部分\n",
    "# print(D)\n",
    "[A1,A2,A3] = np.split(A,[1,3], axis=1)\n",
    "print(A1)\n",
    "print(A2)\n",
    "print(A3)"
   ]
  },
  {
   "cell_type": "code",
   "execution_count": 115,
   "metadata": {},
   "outputs": [
    {
     "name": "stdout",
     "output_type": "stream",
     "text": [
      "[1 2 3 4]\n",
      "[100   2   0   4]\n"
     ]
    }
   ],
   "source": [
    "a = np.array([1,2,3,4])\n",
    "b = a\n",
    "print(b)\n",
    "a[2] = 0\n",
    "# b\n",
    "\n",
    "c = a[0:2]\n",
    "c\n",
    "a[0] = 0\n",
    "c\n",
    "\n",
    "d = a.copy()\n",
    "d\n",
    "a[0] = 100\n",
    "d\n",
    "print(a)"
   ]
  },
  {
   "cell_type": "code",
   "execution_count": 119,
   "metadata": {},
   "outputs": [
    {
     "data": {
      "text/plain": [
       "array([(1, b'First', 0.5, 1.+2.j), (2, b'Second', 1.3, 2.-2.j),\n",
       "       (3, b'Third', 0.8, 1.+3.j)],\n",
       "      dtype=[('f0', '<i2'), ('f1', 'S6'), ('f2', '<f4'), ('f3', '<c8')])"
      ]
     },
     "execution_count": 119,
     "metadata": {},
     "output_type": "execute_result"
    }
   ],
   "source": [
    "m = np.arange(6).reshape(3,1,2) # 3x1x2\n",
    "n = np.arange(6).reshape(3,2,1) # 3x2x1\n",
    "\n",
    "structured = np.array([(1, 'First', 0.5, 1+2j), (2, 'Second', 1.3, 2-2j),\n",
    "                      (3, 'Third', 0.8, 1+3j)], dtype=('i2,a6,f4,c8'))\n",
    "structured"
   ]
  },
  {
   "cell_type": "code",
   "execution_count": 124,
   "metadata": {},
   "outputs": [
    {
     "data": {
      "text/plain": [
       "array([[0.94015526, 0.81096065, 0.73981146],\n",
       "       [0.42322284, 0.37661001, 0.90465137],\n",
       "       [0.84440177, 0.14705889, 0.19552337]])"
      ]
     },
     "execution_count": 124,
     "metadata": {},
     "output_type": "execute_result"
    }
   ],
   "source": [
    "# data = np.random.random((3,3))\n",
    "# print(data)\n",
    "# np.save('saved_data', data)\n",
    "loaded_data = np.load('saved_data.npy')\n",
    "loaded_data"
   ]
  },
  {
   "cell_type": "code",
   "execution_count": 127,
   "metadata": {},
   "outputs": [
    {
     "name": "stdout",
     "output_type": "stream",
     "text": [
      "[(1., 123., 1.4, 23.) (2., 110., nan, 18.) (3.,  nan, 2.1, 19.)]\n",
      "[1. 2. 3.]\n",
      "(1., 123., 1.4, 23.)\n"
     ]
    }
   ],
   "source": [
    "data2 = np.genfromtxt('data2.csv', delimiter=',', names=True)\n",
    "print(data2)\n",
    "print(data2['id'])\n",
    "print(data2[0])"
   ]
  },
  {
   "cell_type": "code",
   "execution_count": 131,
   "metadata": {},
   "outputs": [
    {
     "data": {
      "text/plain": [
       "6"
      ]
     },
     "execution_count": 131,
     "metadata": {},
     "output_type": "execute_result"
    }
   ],
   "source": [
    "a = np.random.random(10)\n",
    "a\n",
    "import random\n",
    "t = random.randrange(1,10)\n",
    "t"
   ]
  },
  {
   "cell_type": "code",
   "execution_count": 132,
   "metadata": {},
   "outputs": [
    {
     "name": "stdout",
     "output_type": "stream",
     "text": [
      "Help on method randint in module random:\n",
      "\n",
      "randint(a, b) method of random.Random instance\n",
      "    Return random integer in range [a, b], including both end points.\n",
      "\n"
     ]
    }
   ],
   "source": [
    "help(random.randint)"
   ]
  },
  {
   "cell_type": "code",
   "execution_count": 134,
   "metadata": {},
   "outputs": [
    {
     "data": {
      "text/plain": [
       "tuple"
      ]
     },
     "execution_count": 134,
     "metadata": {},
     "output_type": "execute_result"
    }
   ],
   "source": [
    "headers = (\"User-Agent\",\n",
    "\"Mozilla/5.0 (iPhone; CPU iPhone OS 10_3 like Mac OS X) AppleWebKit/602.1.50 (KHTML, like Gecko) CriOS/56.0.2924.75 Mobile/14E5239e Safari/602.1\")\n",
    "\n",
    "type(headers)"
   ]
  },
  {
   "cell_type": "code",
   "execution_count": null,
   "metadata": {},
   "outputs": [],
   "source": []
  }
 ],
 "metadata": {
  "kernelspec": {
   "display_name": "Python 3",
   "language": "python",
   "name": "python3"
  },
  "language_info": {
   "codemirror_mode": {
    "name": "ipython",
    "version": 3
   },
   "file_extension": ".py",
   "mimetype": "text/x-python",
   "name": "python",
   "nbconvert_exporter": "python",
   "pygments_lexer": "ipython3",
   "version": "3.6.3"
  }
 },
 "nbformat": 4,
 "nbformat_minor": 2
}
