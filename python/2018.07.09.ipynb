{
 "cells": [
  {
   "cell_type": "code",
   "execution_count": 2,
   "metadata": {
    "scrolled": true
   },
   "outputs": [
    {
     "data": {
      "text/plain": [
       "<Figure size 640x480 with 1 Axes>"
      ]
     },
     "metadata": {},
     "output_type": "display_data"
    }
   ],
   "source": [
    "import matplotlib.pyplot as plt\n",
    "import numpy as np\n",
    "\n",
    "arr = np.array([1,2,3,4])\n",
    "plt.plot(arr)\n",
    "plt.show()"
   ]
  },
  {
   "cell_type": "code",
   "execution_count": 3,
   "metadata": {},
   "outputs": [
    {
     "data": {
      "image/png": "[encoded data removed]",
      "text/plain": [
       "<Figure size 432x288 with 1 Axes>"
      ]
     },
     "metadata": {},
     "output_type": "display_data"
    }
   ],
   "source": [
    "plt.plot([1,2,3,4], [1,4,9,6], 'ro')\n",
    "plt.show()"
   ]
  },
  {
   "cell_type": "code",
   "execution_count": 4,
   "metadata": {},
   "outputs": [
    {
     "data": {
      "image/png": "[encoded data removed]",
      "text/plain": [
       "<Figure size 432x288 with 1 Axes>"
      ]
     },
     "metadata": {},
     "output_type": "display_data"
    }
   ],
   "source": [
    "plt.axis([0,5,0,20])\n",
    "plt.title('My First Plot')\n",
    "plt.plot([1,2,3,4], [1,4,9,16], 'or')\n",
    "plt.show()"
   ]
  },
  {
   "cell_type": "code",
   "execution_count": 1,
   "metadata": {},
   "outputs": [
    {
     "ename": "NameError",
     "evalue": "name 'plt' is not defined",
     "output_type": "error",
     "traceback": [
      "\u001b[0;31m---------------------------------------------------------------------------\u001b[0m",
      "\u001b[0;31mNameError\u001b[0m                                 Traceback (most recent call last)",
      "\u001b[0;32m<ipython-input-1-01d198b485bd>\u001b[0m in \u001b[0;36m<module>\u001b[0;34m()\u001b[0m\n\u001b[1;32m      9\u001b[0m \u001b[0my3\u001b[0m \u001b[0;34m=\u001b[0m \u001b[0mnp\u001b[0m\u001b[0;34m.\u001b[0m\u001b[0msin\u001b[0m\u001b[0;34m(\u001b[0m\u001b[0mmath\u001b[0m\u001b[0;34m.\u001b[0m\u001b[0mpi\u001b[0m\u001b[0;34m*\u001b[0m\u001b[0mt\u001b[0m\u001b[0;34m-\u001b[0m\u001b[0mmath\u001b[0m\u001b[0;34m.\u001b[0m\u001b[0mpi\u001b[0m\u001b[0;34m/\u001b[0m\u001b[0;36m2\u001b[0m\u001b[0;34m)\u001b[0m\u001b[0;34m\u001b[0m\u001b[0m\n\u001b[1;32m     10\u001b[0m \u001b[0;34m\u001b[0m\u001b[0m\n\u001b[0;32m---> 11\u001b[0;31m \u001b[0mplt\u001b[0m\u001b[0;34m.\u001b[0m\u001b[0mplot\u001b[0m\u001b[0;34m(\u001b[0m\u001b[0mt\u001b[0m\u001b[0;34m,\u001b[0m \u001b[0my1\u001b[0m\u001b[0;34m,\u001b[0m \u001b[0;34m'b--'\u001b[0m\u001b[0;34m)\u001b[0m\u001b[0;34m\u001b[0m\u001b[0m\n\u001b[0m\u001b[1;32m     12\u001b[0m \u001b[0mplt\u001b[0m\u001b[0;34m.\u001b[0m\u001b[0mplot\u001b[0m\u001b[0;34m(\u001b[0m\u001b[0mt\u001b[0m\u001b[0;34m,\u001b[0m \u001b[0my2\u001b[0m\u001b[0;34m,\u001b[0m \u001b[0;34m'g'\u001b[0m\u001b[0;34m)\u001b[0m\u001b[0;34m\u001b[0m\u001b[0m\n\u001b[1;32m     13\u001b[0m \u001b[0mplt\u001b[0m\u001b[0;34m.\u001b[0m\u001b[0mplot\u001b[0m\u001b[0;34m(\u001b[0m\u001b[0mt\u001b[0m\u001b[0;34m,\u001b[0m \u001b[0my3\u001b[0m\u001b[0;34m,\u001b[0m \u001b[0;34m'r-.'\u001b[0m\u001b[0;34m)\u001b[0m\u001b[0;34m\u001b[0m\u001b[0m\n",
      "\u001b[0;31mNameError\u001b[0m: name 'plt' is not defined"
     ]
    }
   ],
   "source": [
    "import math\n",
    "import numpy as np\n",
    "t = np.arange(0,2*np.pi,0.01)\n",
    "y1 = map(math.sin, math.pi*t)\n",
    "y1 = np.sin(t)\n",
    "y2 = map(math.sin, math.pi*t+math.pi/2)\n",
    "y2 = np.sin(math.pi*t+math.pi/2)\n",
    "y3 = map(math.sin, math.pi*t-math.pi/2)\n",
    "y3 = np.sin(math.pi*t-math.pi/2)\n",
    "\n",
    "plt.plot(t, y1, 'b--')\n",
    "plt.plot(t, y2, 'g')\n",
    "plt.plot(t, y3, 'r-.')\n",
    "\n",
    "# plt.show()"
   ]
  },
  {
   "cell_type": "code",
   "execution_count": null,
   "metadata": {},
   "outputs": [],
   "source": [
    "plt.axis([0,5,0,20])\n",
    "plt.xlabel('Counting', color='gray')\n",
    "plt.ylabel('Square values', color='gray')\n",
    "plt.text(1,1.5, 'First')\n",
    "plt.text(2,4.5, 'Second')\n",
    "plt.text(3,9.5, 'Third')\n",
    "plt.text(4,16.5, 'Fourth')\n",
    "# plt.plot([1,2,3,4],[1,4,9,16], 'r.-')\n",
    "# plt.plot([1,2,3,4],[1,4,9,16], 'g')\n",
    "# plt.plot([1,2,3,4],[1,4,9,16], 'g.-')\n",
    "# plt.plot([1,2,3,4],[1,4,9,16], 'b')\n",
    "# plt.plot([1,2,3,4],[1,4,9,16], 'b*')\n",
    "# plt.plot([1,2,3,4],[1,4,9,16], 'b-')\n",
    "plt.text(1.1, 12, r'$y=x^2$', fontsize=20, bbox={'facecolor':'yellow', 'alpha':0.2})\n",
    "plt.plot([1,2,3,4],[1,4,9,16], 'b--')\n"
   ]
  },
  {
   "cell_type": "code",
   "execution_count": null,
   "metadata": {},
   "outputs": [],
   "source": [
    "plt.axis([0,5,0,20])\n",
    "plt.xlabel('Counting', color='gray')\n",
    "plt.ylabel('Square values', color='gray')\n",
    "plt.text(1,1.5, 'First')\n",
    "plt.text(2,4.5, 'Second')\n",
    "plt.text(3,9.5, 'Third')\n",
    "plt.text(4,16.5, 'Fourth')\n",
    "plt.text(1.1, 12, r'$y=x^2$', fontsize=20, bbox={'facecolor':'yellow', 'alpha':0.2})\n",
    "plt.grid(True)\n",
    "plt.plot([1,2,3,4],[1,4,9,16], 'or')"
   ]
  },
  {
   "cell_type": "code",
   "execution_count": null,
   "metadata": {
    "scrolled": true
   },
   "outputs": [],
   "source": [
    "plt.axis([0,5,0,20])\n",
    "plt.xlabel('Counting', color='gray')\n",
    "plt.ylabel('Square values', color='gray')\n",
    "plt.text(1,1.5, 'First')\n",
    "plt.text(2,4.5, 'Second')\n",
    "plt.text(3,9.5, 'Third')\n",
    "plt.text(4,16.5, 'Fourth')\n",
    "plt.text(1.1, 12, r'$y=x^2$', fontsize=20, bbox={'facecolor':'yellow', 'alpha':0.2})\n",
    "plt.grid(True)\n",
    "plt.plot([1,2,3,4],[1,4,9,16], 'or')\n",
    "plt.plot([1,2,3,4],[0.8,3.5,8,15], 'g^')\n",
    "plt.plot([1,2,3,4],[0.5,2.5,4,12], 'b*')\n",
    "plt.legend(['First Series','Second Series','Third Series'], loc=2) # loc关键字控制位置0～10，0最佳位置，1右上角，2左上角，3右下角，4左下角，5右侧...\n",
    "plt.savefig('my_chart.png') # 图表直接保存图片"
   ]
  },
  {
   "cell_type": "code",
   "execution_count": 5,
   "metadata": {
    "scrolled": true
   },
   "outputs": [
    {
     "data": {
      "image/png": "[encoded data removed]",
      "text/plain": [
       "<Figure size 432x288 with 1 Axes>"
      ]
     },
     "metadata": {},
     "output_type": "display_data"
    }
   ],
   "source": [
    "import datetime\n",
    "import numpy as np\n",
    "import matplotlib.pyplot as plt\n",
    "import matplotlib.dates as mdates\n",
    "\n",
    "months = mdates.MonthLocator()\n",
    "days = mdates.DayLocator()\n",
    "timeFmt = mdates.DateFormatter('%Y-%m')\n",
    "\n",
    "events = [datetime.date(2015,1,23), datetime.date(2015,1,28),\n",
    "         datetime.date(2015,2,3), datetime.date(2015,2,3),\n",
    "         datetime.date(2015,3,15), datetime.date(2015,3,24), \n",
    "         datetime.date(2015,4,8),datetime.date(2015,4,24)]\n",
    "readings = [12,22,25,20,18,15,17,14]\n",
    "fig, ax = plt.subplots()\n",
    "plt.plot(events, readings)\n",
    "ax.xaxis.set_major_locator(months)\n",
    "ax.xaxis.set_major_formatter(timeFmt)\n",
    "ax.xaxis.set_minor_locator(days)"
   ]
  },
  {
   "cell_type": "code",
   "execution_count": null,
   "metadata": {
    "scrolled": true
   },
   "outputs": [],
   "source": [
    "import matplotlib.pyplot as plt\n",
    "import numpy as np\n",
    "x = np.arange(-2*np.pi, 2*np.pi, 0.01)\n",
    "y = np.sin(3*x)/x\n",
    "y1 = np.sin(2*x)/x\n",
    "y2 = np.sin(x)/x\n",
    "plt.plot(x,y,'k--', linewidth=3)\n",
    "plt.plot(x,y1,'m-.')\n",
    "plt.plot(x,y2,color='#87a3cc', linestyle='--')\n",
    "plt.xticks([-2*np.pi,-np.pi,0,np.pi,2*np.pi],\n",
    "          [r'$-2\\pi$',r'$-\\pi$',r'$0$',r'$+\\pi$',r'$+2\\pi$'])\n",
    "plt.yticks([-1,0,+1,+2,+3],\n",
    "           [r'$-1$',r'$0$',r'$+1$',r'$+2$',r'$+3$'])"
   ]
  },
  {
   "cell_type": "code",
   "execution_count": null,
   "metadata": {},
   "outputs": [],
   "source": [
    "import matplotlib.pyplot as plt\n",
    "import numpy as np\n",
    "x = np.arange(-2*np.pi, 2*np.pi, 0.01)\n",
    "y = np.sin(3*x)/x\n",
    "y1 = np.sin(2*x)/x\n",
    "y2 = np.sin(x)/x\n",
    "plt.plot(x,y,'k--', linewidth=3)\n",
    "plt.plot(x,y1,'m-.')\n",
    "plt.plot(x,y2,color='#87a3cc', linestyle='--')\n",
    "plt.xticks([-2*np.pi,-np.pi,0,np.pi,2*np.pi],\n",
    "          [r'$-2\\pi$',r'$-\\pi$',r'$0$',r'$+\\pi$',r'$+2\\pi$'])\n",
    "plt.yticks([-1,0,+1,+2,+3],\n",
    "           [r'$-1$',r'$0$',r'$+1$',r'$+2$',r'$+3$'])"
   ]
  },
  {
   "cell_type": "code",
   "execution_count": null,
   "metadata": {},
   "outputs": [],
   "source": [
    "import matplotlib.pyplot as plt\n",
    "import numpy as np\n",
    "import pandas as pd\n",
    "\n",
    "data = {'series1':np.random.randint(5, size=5),\n",
    "       'series2':np.random.randint(5, size=5),\n",
    "       'series3':np.random.randint(5, size=5)}\n",
    "df = pd.DataFrame(data)\n",
    "x = np.arange(5)\n",
    "plt.axis([0,5,0,7])\n",
    "plt.plot(x, df)\n",
    "plt.legend(data, loc=2)\n"
   ]
  },
  {
   "cell_type": "code",
   "execution_count": null,
   "metadata": {},
   "outputs": [],
   "source": [
    "import matplotlib.pyplot as plt\n",
    "import numpy as np\n",
    "pop = np.random.randint(0,100,100)\n",
    "n,bis,patches = plt.hist(pop)"
   ]
  },
  {
   "cell_type": "code",
   "execution_count": null,
   "metadata": {},
   "outputs": [],
   "source": [
    "import matplotlib.pyplot as plt\n",
    "import numpy as np\n",
    "index = np.arange(5)\n",
    "value = [5,7,3,4,6]\n",
    "std1 = [0.8,1,0.4,0.9,1.3]\n",
    "plt.title('A Bar Chart')\n",
    "plt.bar(index, value, yerr=std1, error_kw={'ecolor':'0.1','capsize':6}, alpha=0.7, label='First')\n",
    "plt.xticks(index+0.4, ['A','B','C','D','E'])\n",
    "plt.legend(loc=2)"
   ]
  },
  {
   "cell_type": "code",
   "execution_count": null,
   "metadata": {},
   "outputs": [],
   "source": [
    "import matplotlib.pyplot as plt\n",
    "import numpy as np\n",
    "index = np.arange(5)\n",
    "value = [5,7,3,4,6]\n",
    "std1 = [0.8,1,0.4,0.9,1.3]\n",
    "plt.title('A Bar Chart')\n",
    "plt.barh(index, value, xerr=std1, error_kw={'ecolor':'0.1','capsize':6}, alpha=0.7, label='First')\n",
    "plt.yticks(index+0.4, ['A','B','C','D','E'])\n",
    "plt.legend(loc=5)"
   ]
  },
  {
   "cell_type": "code",
   "execution_count": null,
   "metadata": {},
   "outputs": [],
   "source": [
    "import matplotlib.pyplot as plt\n",
    "import numpy as np\n",
    "index = np.arange(5)\n",
    "value1 = [5,7,3,4,6]\n",
    "value2 = [6,6,4,5,7]\n",
    "value3 = [5,6,5,4,6]\n",
    "bw = 0.3\n",
    "plt.axis([0,5,0,8])\n",
    "plt.title('A Multiseries Bar Chart', fontsize=20)\n",
    "plt.bar(index, value1, bw, color='b')\n",
    "plt.bar(index+bw, value2, bw, color='g')\n",
    "plt.bar(index+2*bw, value3, bw, color='r')\n",
    "plt.xticks(index+1.5*bw, ['A','B','C','D','E'])"
   ]
  },
  {
   "cell_type": "code",
   "execution_count": null,
   "metadata": {},
   "outputs": [],
   "source": [
    "import matplotlib.pyplot as plt\n",
    "import numpy as np\n",
    "index = np.arange(5)\n",
    "value1 = [5,7,3,4,6]\n",
    "value2 = [6,6,4,5,7]\n",
    "value3 = [5,6,5,4,6]\n",
    "bw = 0.3\n",
    "plt.axis([0,8,0,5])\n",
    "plt.title('A Multiseries Bar Chart', fontsize=20)\n",
    "plt.barh(index, value1, bw, color='b')\n",
    "plt.barh(index+bw, value2, bw, color='g')\n",
    "plt.barh(index+2*bw, value3, bw, color='r')\n",
    "plt.yticks(index+0.4, ['A','B','C','D','E'])"
   ]
  },
  {
   "cell_type": "code",
   "execution_count": null,
   "metadata": {},
   "outputs": [],
   "source": [
    "import matplotlib.pyplot as plt\n",
    "import numpy as np\n",
    "s1 = np.array([3,4,5,3])\n",
    "s2 = np.array([1,2,2,5])\n",
    "s3 = np.array([2,3,3,4])\n",
    "index = np.arange(4)\n",
    "plt.axis([0,4,0,15])\n",
    "plt.bar(index, s1, color='r')\n",
    "plt.bar(index, s2, color='b', bottom=s1)\n",
    "plt.bar(index, s3, color='g', bottom=(s1+s2))\n",
    "plt.xticks(index+0.4,['Jan15','Feb15','Mar15','Apr15'])"
   ]
  },
  {
   "cell_type": "code",
   "execution_count": null,
   "metadata": {},
   "outputs": [],
   "source": [
    "import matplotlib.pyplot as plt\n",
    "import numpy as np\n",
    "s1 = np.array([3,4,5,3])\n",
    "s2 = np.array([1,2,2,5])\n",
    "s3 = np.array([2,3,3,4])\n",
    "index = np.arange(4)\n",
    "plt.axis([0,15,0,4])\n",
    "plt.barh(index, s1, color='r')\n",
    "plt.barh(index, s2, color='b', left=s1)\n",
    "plt.barh(index, s3, color='g', left=(s1+s2))\n",
    "plt.yticks(index+0.4,['Jan15','Feb15','Mar15','Apr15'])"
   ]
  },
  {
   "cell_type": "code",
   "execution_count": null,
   "metadata": {},
   "outputs": [],
   "source": [
    "import matplotlib.pyplot as plt\n",
    "import pandas as pd\n",
    "data = {\n",
    "    's1':[1,3,4,3,5],\n",
    "    's2':[2,3,5,2,4],\n",
    "    's3':[3,2,3,1,3]\n",
    "}\n",
    "df = pd.DataFrame(data)\n",
    "df.plot(kind='bar', stacked=True)"
   ]
  },
  {
   "cell_type": "code",
   "execution_count": null,
   "metadata": {},
   "outputs": [],
   "source": [
    "import matplotlib.pyplot as plt\n",
    "import pandas as pd\n",
    "data = {\n",
    "    's1':[1,3,4,3,5],\n",
    "    's2':[2,3,5,2,4],\n",
    "    's3':[3,2,3,1,3]\n",
    "}\n",
    "df = pd.DataFrame(data)\n",
    "df['s1'].plot(kind='pie', figsize=(6,6))"
   ]
  },
  {
   "cell_type": "code",
   "execution_count": null,
   "metadata": {},
   "outputs": [],
   "source": [
    "from sklearn import datasets\n",
    "iris = datasets.load_iris()\n",
    "iris.data\n",
    "print(iris.data)\n",
    "x = iris.data[:,0]\n",
    "print(x)\n",
    "y = iris.data[:,1]\n",
    "print(y)"
   ]
  },
  {
   "cell_type": "code",
   "execution_count": null,
   "metadata": {},
   "outputs": [],
   "source": [
    "iris.target"
   ]
  },
  {
   "cell_type": "code",
   "execution_count": null,
   "metadata": {},
   "outputs": [],
   "source": [
    "iris.target_names"
   ]
  },
  {
   "cell_type": "code",
   "execution_count": null,
   "metadata": {},
   "outputs": [],
   "source": [
    "import matplotlib.pyplot as plt\n",
    "import matplotlib.patches as mpatches\n",
    "from sklearn import datasets\n",
    "\n",
    "iris = datasets.load_iris()\n",
    "x = iris.data[:,0]\n",
    "y = iris.data[:,1]\n",
    "species = iris.target\n",
    "\n",
    "x_min, x_max = x.min() - .5, x.max() + .5\n",
    "y_min, y_max = y.min() - .5, y.max() + .5\n",
    "\n",
    "plt.figure()\n",
    "plt.title('Iris Dataset - Classification By Sepal Sizes')\n",
    "plt.scatter(x,y,c=species)\n",
    "plt.xlabel('Sepal length')\n",
    "plt.ylabel('Sepal width')\n",
    "plt.xlim(x_min, x_max)\n",
    "plt.ylim(y_min, y_max)\n",
    "plt.xticks(())\n",
    "plt.yticks(())"
   ]
  },
  {
   "cell_type": "code",
   "execution_count": null,
   "metadata": {},
   "outputs": [],
   "source": [
    "import matplotlib.pyplot as plt\n",
    "import matplotlib.patches as mpatches\n",
    "from sklearn import datasets\n",
    "\n",
    "iris = datasets.load_iris()\n",
    "x = iris.data[:,2] # 改动\n",
    "y = iris.data[:,3] # 改动\n",
    "species = iris.target\n",
    "\n",
    "x_min, x_max = x.min() - .5, x.max() + .5\n",
    "y_min, y_max = y.min() - .5, y.max() + .5\n",
    "\n",
    "plt.figure()\n",
    "plt.title('Iris Dataset - Classification By Petal Sizes', size=14) # 改动\n",
    "plt.scatter(x,y,c=species)\n",
    "plt.xlabel('Petal length') # 改动\n",
    "plt.ylabel('petal width') # 改动\n",
    "plt.xlim(x_min, x_max)\n",
    "plt.ylim(y_min, y_max)\n",
    "plt.xticks(())\n",
    "plt.yticks(())"
   ]
  },
  {
   "cell_type": "code",
   "execution_count": null,
   "metadata": {},
   "outputs": [],
   "source": [
    "# 使用fit_transform()函数进行降维\n",
    "from sklearn.decomposition import PCA\n",
    "x_reduce = PCA(n_components=3).fit_transform(iris.data)\n",
    "print(x_reduce)"
   ]
  },
  {
   "cell_type": "code",
   "execution_count": null,
   "metadata": {},
   "outputs": [],
   "source": [
    "import matplotlib.pyplot as plt\n",
    "from mpl_toolkits.mplot3d import Axes3D\n",
    "from sklearn import datasets\n",
    "from sklearn.decomposition import PCA\n",
    "\n",
    "iris = datasets.load_iris()\n",
    "x = iris.data[:,1]\n",
    "y = iris.data[:,2]\n",
    "species = iris.target\n",
    "x_reducted = PCA(n_components=3).fit_transform(iris.data)\n",
    "\n",
    "fig = plt.figure()\n",
    "ax = Axes3D(fig)\n",
    "ax.set_title('Iris Dataset - By PCA', size=14)\n",
    "ax.scatter(x_reduce[:,0],x_reduce[:,1],x_reduce[:,2],c=species)\n",
    "ax.set_xlabel('First')\n",
    "ax.set_ylabel('Second')\n",
    "ax.set_zlabel('Third')\n",
    "ax.w_xaxis.set_ticklabels(())\n",
    "ax.w_yaxis.set_ticklabels(())\n",
    "ax.w_zaxis.set_ticklabels(())"
   ]
  },
  {
   "cell_type": "code",
   "execution_count": null,
   "metadata": {},
   "outputs": [],
   "source": [
    "import numpy as np\n",
    "from sklearn import datasets\n",
    "np.random.seed(0)\n",
    "iris = datasets.load_iris()\n",
    "x = iris.data\n",
    "y = iris.target\n",
    "i = np.random.permutation(len(iris.data))\n",
    "x_train = x[i[:-10]]\n",
    "y_train = y[i[:-10]]\n",
    "x_test = x[i[-10:]]\n",
    "y_test = y[i[-10:]]"
   ]
  },
  {
   "cell_type": "code",
   "execution_count": null,
   "metadata": {},
   "outputs": [],
   "source": [
    "# 导入KneighborsClassifier, 调用分类器的构造函数，然后用fit()函数进行训练\n",
    "from sklearn.neighbors import KNeighborsClassifier\n",
    "knn = KNeighborsClassifier()\n",
    "knn.fit(x_train, y_train)"
   ]
  },
  {
   "cell_type": "code",
   "execution_count": null,
   "metadata": {},
   "outputs": [],
   "source": [
    "knn.predict(x_test)"
   ]
  },
  {
   "cell_type": "code",
   "execution_count": null,
   "metadata": {},
   "outputs": [],
   "source": [
    "y_test\n",
    "# 错误率为10%"
   ]
  },
  {
   "cell_type": "code",
   "execution_count": null,
   "metadata": {},
   "outputs": [],
   "source": [
    "# 用萼片测量数据绘制的2d散点图中，画出决策边界(decision boundary)\n",
    "import numpy as np\n",
    "import matplotlib.pyplot as plt\n",
    "from matplotlib.colors import ListedColormap\n",
    "from sklearn import datasets\n",
    "from sklearn.neighbors import KNeighborsClassifier\n",
    "\n",
    "\n",
    "iris = datasets.load_iris()\n",
    "x = iris.data[:,:2]\n",
    "y = iris.target\n",
    "\n",
    "x_min, x_max = x[:,0].min() - .5, x[:,0].max() + .5\n",
    "y_min, y_max = x[:,1].min() - .5, x[:,1].max() + .5\n",
    "\n",
    "cmap_light = ListedColormap(['#AAAAFF','#AAFFAA','#FFAAAA'])\n",
    "h = .02\n",
    "xx, yy = np.meshgrid(np.arange(x_min, x_max, h), np.arange(y_min, y_max, h))\n",
    "\n",
    "knn = KNeighborsClassifier()\n",
    "knn.fit(x,y)\n",
    "Z = knn.predict(np.c_[xx.ravel(), yy.ravel()])\n",
    "Z = Z.reshape(xx.shape)\n",
    "\n",
    "plt.figure()\n",
    "plt.pcolormesh(xx, yy, Z, cmap=cmap_light)\n",
    "\n",
    "plt.scatter(x[:,0],x[:,1],c=y)\n",
    "plt.xlim(xx.min(),xx.max())\n",
    "plt.ylim(yy.min(),yy.max())"
   ]
  },
  {
   "cell_type": "code",
   "execution_count": null,
   "metadata": {},
   "outputs": [],
   "source": [
    "# 用花瓣绘制的散点图中，也可以画出决策边界\n",
    "import numpy as np\n",
    "import matplotlib.pyplot as plt\n",
    "from matplotlib.colors import ListedColormap\n",
    "from sklearn import datasets\n",
    "from sklearn.neighbors import KNeighborsClassifier\n",
    "iris = datasets.load_iris()\n",
    "\n",
    "y = iris.data[:,2:4]\n",
    "y = iris.target\n",
    "\n",
    "x_min, x_max = x[:,0].min() - .5, x[:,0].max() + .5\n",
    "y_min, y_max = x[:,1].min() - .5, x[:,1].max() + .5\n",
    "\n",
    "cmap_light = ListedColormap(['#AAAAFF','#AAFFAA','#FFAAAA'])\n",
    "h = .02\n",
    "xx, yy = np.meshgrid(np.arange(x_min, x_max, h), np.arange(y_min, y_max, h))\n",
    "knn = KNeighborsClassifier()\n",
    "knn.fit(x,y)\n",
    "Z = knn.predict(np.c_[xx.ravel(), yy.ravel()])\n",
    "Z = Z.reshape(xx.shape)\n",
    "\n",
    "plt.figure()\n",
    "plt.pcolormesh(xx, yy, Z, cmap=cmap_light)\n",
    "\n",
    "plt.scatter(x[:,0], x[:,1], c=y)\n",
    "plt.xlim(xx.min(), xx.max())\n",
    "plt.ylim(yy.min(), yy.max())"
   ]
  },
  {
   "cell_type": "code",
   "execution_count": null,
   "metadata": {},
   "outputs": [],
   "source": [
    "# 糖尿病数据集合\n",
    "from sklearn import datasets\n",
    "diabetes = datasets.load_diabetes()\n",
    "\n",
    "diabetes.data[0]\n",
    "np.sum(diabetes.data[:,0]**2) # 验证任何一列的所有数值只和为1, 比如对年龄列求和"
   ]
  },
  {
   "cell_type": "code",
   "execution_count": null,
   "metadata": {},
   "outputs": [],
   "source": [
    "diabetes.target # 表明疾病进展的数据\n",
    "diabetes.feature_names"
   ]
  },
  {
   "cell_type": "code",
   "execution_count": null,
   "metadata": {},
   "outputs": [],
   "source": [
    "# 线性回归：最小平方回归\n",
    "from sklearn import linear_model\n",
    "linreg = linear_model.LinearRegression()"
   ]
  },
  {
   "cell_type": "code",
   "execution_count": null,
   "metadata": {},
   "outputs": [],
   "source": [
    "from sklearn import datasets\n",
    "diabetes = datasets.load_diabetes()\n",
    "x_train = diabetes.data[:-20]\n",
    "y_train = diabetes.target[:-20]\n",
    "x_test = diabetes.data[-20:]\n",
    "y_test = diabetes.target[-20:]\n",
    "\n",
    "# 预测模型上调用fit()函数，使用训练集做训练\n",
    "linreg.fit(x_train, y_train)\n",
    "linreg.coef_"
   ]
  },
  {
   "cell_type": "code",
   "execution_count": null,
   "metadata": {},
   "outputs": [],
   "source": [
    "linreg.predict(x_test)"
   ]
  },
  {
   "cell_type": "code",
   "execution_count": null,
   "metadata": {},
   "outputs": [],
   "source": [
    "y_test"
   ]
  },
  {
   "cell_type": "code",
   "execution_count": null,
   "metadata": {},
   "outputs": [],
   "source": [
    "# 方差是评价预测结果好坏的一个不错的指标，方差越是接近与1，说明预测结果越准确\n",
    "linreg.score(x_test, y_test)"
   ]
  },
  {
   "cell_type": "code",
   "execution_count": null,
   "metadata": {},
   "outputs": [],
   "source": [
    "# 使用线性回归方法分析单个生理因素与目标值之间的关系\n",
    "import numpy as np\n",
    "import matplotlib.pyplot as plt\n",
    "from sklearn import linear_model\n",
    "from sklearn import datasets\n",
    "\n",
    "diabetes = datasets.load_diabetes()\n",
    "x_train = diabetes.data[:-20]\n",
    "y_train = diabetes.target[:-20]\n",
    "x_test = diabetes.data[-20:]\n",
    "y_test = diabetes.target[-20:]\n",
    "\n",
    "# 第一个元素和糖尿病病情进展之间的相关性， age年龄\n",
    "x0_test = x_test[:,0]\n",
    "x0_train = x_train[:,0]\n",
    "x0_test = x0_test[:, np.newaxis]\n",
    "x0_train = x0_train[:,np.newaxis]\n",
    "linreg = linear_model.LinearRegression()\n",
    "linreg.fit(x0_train, y_train)\n",
    "y = linreg.predict(x0_test)\n",
    "\n",
    "plt.scatter(x0_test, y_test, color='k')\n",
    "plt.plot(x0_test, y, color='b', linewidth=3)"
   ]
  },
  {
   "cell_type": "code",
   "execution_count": null,
   "metadata": {},
   "outputs": [],
   "source": [
    "# 使用线性回归方法分析单个生理因素与目标值之间的关系\n",
    "import numpy as np\n",
    "import matplotlib.pyplot as plt\n",
    "from sklearn import linear_model\n",
    "from sklearn import datasets\n",
    "\n",
    "diabetes = datasets.load_diabetes()\n",
    "x_train = diabetes.data[:-20]\n",
    "y_train = diabetes.target[:-20]\n",
    "x_test = diabetes.data[-20:]\n",
    "y_test = diabetes.target[-20:]\n",
    "\n",
    "plt.figure(figsize=(8,12))\n",
    "for f in range(0,10):\n",
    "    x0_test = x_test[:,f]\n",
    "    x0_train = x_train[:,f]\n",
    "    x0_test = x0_test[:, np.newaxis]\n",
    "    x0_train = x0_train[:,np.newaxis]\n",
    "    linreg = linear_model.LinearRegression()\n",
    "    linreg.fit(x0_train, y_train)\n",
    "    y = linreg.predict(x0_test)\n",
    "    plt.subplot(5,2,f+1)\n",
    "    plt.scatter(x0_test, y_test, color='k')\n",
    "    plt.plot(x0_test, y, color='b', linewidth=3)"
   ]
  },
  {
   "cell_type": "code",
   "execution_count": null,
   "metadata": {},
   "outputs": [],
   "source": []
  }
 ],
 "metadata": {
  "kernelspec": {
   "display_name": "Python 3",
   "language": "python",
   "name": "python3"
  },
  "language_info": {
   "codemirror_mode": {
    "name": "ipython",
    "version": 3
   },
   "file_extension": ".py",
   "mimetype": "text/x-python",
   "name": "python",
   "nbconvert_exporter": "python",
   "pygments_lexer": "ipython3",
   "version": "3.6.3"
  }
 },
 "nbformat": 4,
 "nbformat_minor": 2
}
