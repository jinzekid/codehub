{
 "cells": [
  {
   "cell_type": "code",
   "execution_count": 170,
   "metadata": {},
   "outputs": [],
   "source": [
    "# Author: Jason Lu\n",
    "import pymongo\n",
    "from threading import Thread, Lock\n",
    "\n",
    "\n",
    "class ManagerDBMongo(object):\n",
    "    \n",
    "    _instance_lock = Lock() # 定义锁\n",
    "    _ip = ''\n",
    "    _port = 27017\n",
    "    _db = ''\n",
    "    _col = ''\n",
    "    _client = []\n",
    "    \n",
    "    def __new__(cls, *args, **kwargs):\n",
    "        if not hasattr(ManagerDBMongo, \"_instance\"):\n",
    "            with ManagerDBMongo._instance_lock:\n",
    "                if not hasattr(ManagerDBMongo, \"_instance\"):\n",
    "                    ManagerDBMongo._instance = object.__new__(cls)\n",
    "                    \n",
    "        return ManagerDBMongo._instance\n",
    "        \n",
    "    @classmethod\n",
    "    def init_db(cls, ip='localhost', port=27017, db_name=None, db_collection=None):\n",
    "        cls._ip = ip\n",
    "        cls._port = port\n",
    "        cls._client = pymongo.MongoClient(cls._ip, cls._port)\n",
    "        \n",
    "        print(\"1111\")\n",
    "        if db_name is None:\n",
    "            return False\n",
    "        \n",
    "        if db_collection is None:\n",
    "            return False\n",
    "        \n",
    "        cls._db = cls._client[db_name]\n",
    "        cls._col = cls._db[db_collection]\n",
    "            \n",
    "        print(\">>:finish init database\")\n",
    "        return True\n",
    "\n",
    "    \n",
    "    @classmethod\n",
    "    def get_collection(cls, col):\n",
    "        return cls._db[col]"
   ]
  },
  {
   "cell_type": "code",
   "execution_count": 171,
   "metadata": {},
   "outputs": [
    {
     "name": "stdout",
     "output_type": "stream",
     "text": [
      "1111\n",
      ">>:finish init database\n",
      "Collection(Database(MongoClient(host=['localhost:27017'], document_class=dict, tz_aware=False, connect=True), 'mydatabase'), 'users')\n"
     ]
    }
   ],
   "source": [
    "ManagerDBMongo.init_db(db_name=\"mydatabase\", db_collection=\"users\")\n",
    "collection_users = ManagerDBMongo.get_collection(\"users\")\n",
    "print(collection_users)\n",
    "\n",
    "# obj1 = ManagerDBMongo.init_ip_port()\n",
    "\n",
    "# print(ManagerDBMongo.get_ip_port())\n",
    "# ManagerDBMongo.init_db_collection(ManagerDBMongo, \"mydatabase\", \"users\")"
   ]
  },
  {
   "cell_type": "code",
   "execution_count": 5,
   "metadata": {},
   "outputs": [
    {
     "name": "stdout",
     "output_type": "stream",
     "text": [
      "153 192 174 186 179 104 157 172 128 182\n",
      "100\n",
      "2\n"
     ]
    }
   ],
   "source": [
    "a = list(map(int, input().split()))\n",
    "b = int(input())\n",
    "sum = 0\n",
    "\n",
    "for i in a:\n",
    "    if b+30 >= i:\n",
    "        sum+=1\n",
    "\n",
    "print(sum)"
   ]
  },
  {
   "cell_type": "code",
   "execution_count": null,
   "metadata": {},
   "outputs": [],
   "source": []
  }
 ],
 "metadata": {
  "kernelspec": {
   "display_name": "Python 3",
   "language": "python",
   "name": "python3"
  },
  "language_info": {
   "codemirror_mode": {
    "name": "ipython",
    "version": 3
   },
   "file_extension": ".py",
   "mimetype": "text/x-python",
   "name": "python",
   "nbconvert_exporter": "python",
   "pygments_lexer": "ipython3",
   "version": "3.6.3"
  }
 },
 "nbformat": 4,
 "nbformat_minor": 1
}
