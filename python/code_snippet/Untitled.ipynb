{
 "cells": [
  {
   "cell_type": "code",
   "execution_count": null,
   "metadata": {},
   "outputs": [],
   "source": [
    "from socket import *\n",
    "my_host = 'localhost'\n",
    "my_port = 50008\n",
    "\n",
    "obj_socket = socket(AF_INET, SOCK_STREAM)\n",
    "obj_socket.bind((my_host, my_port))\n",
    "obj_socket.listen(5)\n",
    "\n",
    "while True:\n",
    "    conn, address = obj_socket.accept()\n",
    "    print('Server connected by:', address)\n",
    "    \n",
    "    while True:\n",
    "        data = conn.recv(1024)\n",
    "        if not data: break\n",
    "        conn.send('Echo=>' + data)\n",
    "    \n",
    "    conn.close()"
   ]
  },
  {
   "cell_type": "code",
   "execution_count": null,
   "metadata": {},
   "outputs": [],
   "source": []
  },
  {
   "cell_type": "code",
   "execution_count": null,
   "metadata": {},
   "outputs": [],
   "source": []
  }
 ],
 "metadata": {
  "kernelspec": {
   "display_name": "Python 3",
   "language": "python",
   "name": "python3"
  },
  "language_info": {
   "codemirror_mode": {
    "name": "ipython",
    "version": 3
   },
   "file_extension": ".py",
   "mimetype": "text/x-python",
   "name": "python",
   "nbconvert_exporter": "python",
   "pygments_lexer": "ipython3",
   "version": "3.6.3"
  }
 },
 "nbformat": 4,
 "nbformat_minor": 2
}
