{
 "cells": [
  {
   "cell_type": "code",
   "execution_count": null,
   "metadata": {},
   "outputs": [],
   "source": [
    "# 列表推导式\n",
    "[i for i in range(10) if i % 2 == 0]"
   ]
  },
  {
   "cell_type": "code",
   "execution_count": null,
   "metadata": {},
   "outputs": [],
   "source": [
    "seq = ['one','two','three']"
   ]
  },
  {
   "cell_type": "code",
   "execution_count": null,
   "metadata": {},
   "outputs": [],
   "source": [
    "i = iter('abc')"
   ]
  },
  {
   "cell_type": "code",
   "execution_count": null,
   "metadata": {},
   "outputs": [],
   "source": [
    "def power(values):\n",
    "    for value in values:\n",
    "        print('powering %s' %(value))\n",
    "        yield value\n",
    "\n",
    "def adder(values):\n",
    "    for value in values:\n",
    "        print('adding to %s' %(value))\n",
    "        if value % 2 == 0:\n",
    "            yield value + 3\n",
    "        else:\n",
    "            yield value + 2\n",
    "\n",
    "elements = [1,4,7,9,12,19]\n",
    "res = adder(power(elements))"
   ]
  },
  {
   "cell_type": "code",
   "execution_count": null,
   "metadata": {},
   "outputs": [],
   "source": [
    "res.__next__()"
   ]
  },
  {
   "cell_type": "code",
   "execution_count": null,
   "metadata": {},
   "outputs": [],
   "source": [
    "import datetime\n",
    "utc = datetime.datetime.utcnow()\n",
    "now = datetime.datetime.now()\n",
    "'utc:{}, now:{}'.format(utc, now)"
   ]
  },
  {
   "cell_type": "code",
   "execution_count": null,
   "metadata": {},
   "outputs": [],
   "source": [
    "import datetime\n",
    "import pytz\n",
    "def utcnow():\n",
    "    return datetime.datetime.now(tz=pytz.utc)\n",
    "\n",
    "print(utcnow())\n",
    "print(utcnow().isoformat())\n",
    "print(utcnow().isoformat() < utcnow())"
   ]
  },
  {
   "cell_type": "code",
   "execution_count": null,
   "metadata": {},
   "outputs": [],
   "source": [
    "import iso8601\n",
    "iso8601.parse_date(utcnow().isoformat())"
   ]
  },
  {
   "cell_type": "code",
   "execution_count": null,
   "metadata": {},
   "outputs": [],
   "source": [
    "iso8601.parse_date(utcnow().isoformat()) < utcnow()"
   ]
  },
  {
   "cell_type": "code",
   "execution_count": null,
   "metadata": {},
   "outputs": [],
   "source": [
    "utcnow()"
   ]
  },
  {
   "cell_type": "code",
   "execution_count": null,
   "metadata": {},
   "outputs": [],
   "source": [
    "\"\"\"\n",
    "函数被注册并存储在一个字段里，以便后续可以根据函数名字提取函数\n",
    "\"\"\"\n",
    "_functions = {}\n",
    "def register(f):\n",
    "    global _functions\n",
    "    _functions[f.__name__] = f\n",
    "    return f\n",
    "\n",
    "@register\n",
    "def foo():\n",
    "    return 'bar'"
   ]
  },
  {
   "cell_type": "code",
   "execution_count": null,
   "metadata": {},
   "outputs": [],
   "source": [
    "\"\"\"\n",
    "使用functools模块中update_wrapper函数解决：新函数缺少很多原函数的属性，\n",
    "如文档字符串和名字\n",
    "\"\"\"\n",
    "def a_decoration(func): # 函数中返回函数\n",
    "    def wrap_func():\n",
    "        print('before func... doing something...')\n",
    "        func()\n",
    "        print('after func... doing something...')\n",
    "    return wrap_func\n",
    "\n",
    "@a_decoration\n",
    "def a_func():\n",
    "    print('this is func...')\n",
    "    \n",
    "a_func()\n",
    "print(a_func.__name__) # 这个时候会暴露被封装的方法"
   ]
  },
  {
   "cell_type": "code",
   "execution_count": null,
   "metadata": {},
   "outputs": [],
   "source": [
    "from functools import wraps\n",
    "def a_decoration(func): # 函数中返回函数\n",
    "    @wraps(func)\n",
    "    def wrap_func():\n",
    "        print('before func... doing something...')\n",
    "        func()\n",
    "        print('after func... doing something...')\n",
    "    return wrap_func\n",
    "\n",
    "@a_decoration\n",
    "def a_func():\n",
    "    print('this is func...')\n",
    "    \n",
    "a_func()\n",
    "print(a_func.__name__)"
   ]
  },
  {
   "cell_type": "code",
   "execution_count": null,
   "metadata": {},
   "outputs": [],
   "source": [
    "\"\"\"\n",
    "使用inspect.getcallargs，返回一个将参数名字和值作为键值对的字典\n",
    "\"\"\"\n",
    "from functools import wraps\n",
    "import inspect\n",
    "\n",
    "def a_decoration(func): # 函数中返回函数\n",
    "    @wraps(func)\n",
    "    def wrap_func(*args, **kwargs):\n",
    "        func_args = inspect.getcallargs(func, *args, **kwargs)\n",
    "        print(func_args)\n",
    "        if func_args.get('username') != 'admin':\n",
    "            raise Exception(\"This user is not allowed to get food\")\n",
    "        return func(*args, **kwargs)\n",
    "    return wrap_func\n",
    "\n",
    "@a_decoration\n",
    "def a_func(username, type='chocolate'):\n",
    "    print(type + \" nom nom nom!\")\n",
    "    \n",
    "a_func('admin','cake')"
   ]
  },
  {
   "cell_type": "code",
   "execution_count": null,
   "metadata": {},
   "outputs": [],
   "source": [
    "class Pizza(object):\n",
    "    def __init__(self, size):\n",
    "        self.size = size\n",
    "    def get_size(self):\n",
    "        return self.size\n",
    "    \n",
    "# 可以向方法传入该类的任意实例，还可以传入任何对象\n",
    "# 只要它包含方法期望的属性\n",
    "# 每次调用类的一个方法都要对该类进行引用\n",
    "# 所以python通过将类的方法绑定给实例为我们完成后续工作\n",
    "# 换句话说，可以通过任何pizza访问get_size方法，\n",
    "# 进一步说，python会自动将对象本身传给方法的self参数\n",
    "one = Pizza(100)\n",
    "Pizza.get_size(one)\n",
    "m = one.get_size\n",
    "\n",
    "# 一旦有了对绑定方法的引用则无需保持对Pizza对象的引用\n",
    "# 如果有了对方法的引用，但是想知道它被绑定到了哪个对象\n",
    "# 可以查看方法的__self__属性\n",
    "print(m.__self__)\n",
    "print(m == m.__self__.get_size)"
   ]
  },
  {
   "cell_type": "code",
   "execution_count": 68,
   "metadata": {},
   "outputs": [
    {
     "ename": "TypeError",
     "evalue": "Can't instantiate abstract class Pizza with abstract methods get_radius",
     "output_type": "error",
     "traceback": [
      "\u001b[0;31m---------------------------------------------------------------------------\u001b[0m",
      "\u001b[0;31mTypeError\u001b[0m                                 Traceback (most recent call last)",
      "\u001b[0;32m<ipython-input-68-f634a2a71bf1>\u001b[0m in \u001b[0;36m<module>\u001b[0;34m()\u001b[0m\n\u001b[1;32m     16\u001b[0m         \u001b[0;32mpass\u001b[0m\u001b[0;34m\u001b[0m\u001b[0m\n\u001b[1;32m     17\u001b[0m \u001b[0;34m\u001b[0m\u001b[0m\n\u001b[0;32m---> 18\u001b[0;31m \u001b[0mPizza\u001b[0m\u001b[0;34m(\u001b[0m\u001b[0;34m)\u001b[0m\u001b[0;34m\u001b[0m\u001b[0m\n\u001b[0m",
      "\u001b[0;31mTypeError\u001b[0m: Can't instantiate abstract class Pizza with abstract methods get_radius"
     ]
    }
   ],
   "source": [
    "# 使用abc实现抽象方法\n",
    "\"\"\"\n",
    "为了解决Python2&3的兼容问题，需要引入six模块，\n",
    "该模块中有一个针对类的装饰器 @six.add_metaclass(MetaClass) \n",
    "可以为两个版本的Python类方便地添加metaclass\n",
    "\"\"\"\n",
    "import abc \n",
    "import six\n",
    "\n",
    "@six.add_metaclass(abc.ABCMeta)\n",
    "class Pizza(object):\n",
    "    \n",
    "    @abc.abstractmethod\n",
    "    def get_radius(self):\n",
    "        \"\"\"Method that should do something.\"\"\"\n",
    "        pass\n",
    "    \n",
    "Pizza()"
   ]
  },
  {
   "cell_type": "code",
   "execution_count": 73,
   "metadata": {},
   "outputs": [
    {
     "data": {
      "text/plain": [
       "['cheese']"
      ]
     },
     "execution_count": 73,
     "metadata": {},
     "output_type": "execute_result"
    }
   ],
   "source": [
    "\"\"\"\n",
    "通过抽象方法使用super()\n",
    "在抽象方法中会有实现代码\n",
    "在Pizza中get_ingredients为累方法，并不会强迫其子类也将其定义为类方法\n",
    "将其定义为静态方法也是一样，没有办法强迫子类将抽象方法实现为某种特定类型的方法\n",
    "\"\"\"\n",
    "import six\n",
    "\n",
    "class Pizza(object):\n",
    "    \n",
    "    default_ingredients = ['cheese']\n",
    "    \n",
    "    @classmethod\n",
    "    @abc.abstractmethod\n",
    "    def get_ingredients(cls):\n",
    "        \"\"\"Method that should do something.\"\"\"\n",
    "        return cls.default_ingredients\n",
    "\n",
    "class DietPizza(Pizza):\n",
    "    def get_ingredients(self):\n",
    "        return super(DietPizza, self).get_ingredients()\n",
    "    \n",
    "dp = DietPizza().get_ingredients()\n",
    "dp"
   ]
  },
  {
   "cell_type": "code",
   "execution_count": 79,
   "metadata": {},
   "outputs": [
    {
     "data": {
      "text/plain": [
       "[__main__.A, object]"
      ]
     },
     "execution_count": 79,
     "metadata": {},
     "output_type": "execute_result"
    }
   ],
   "source": [
    "def parent():\n",
    "    return object\n",
    "\n",
    "class A(parent()):\n",
    "    pass\n",
    "    \n",
    "A.mro() # 返回方法解析顺序用于解析属性"
   ]
  },
  {
   "cell_type": "code",
   "execution_count": 110,
   "metadata": {},
   "outputs": [
    {
     "data": {
      "text/plain": [
       "[__main__.C, __main__.A, __main__.B, object]"
      ]
     },
     "execution_count": 110,
     "metadata": {},
     "output_type": "execute_result"
    }
   ],
   "source": [
    "\"\"\"\n",
    "super()函数实际上是一个构造器\n",
    "每次调用都会实例化一个super对象\n",
    "接受一个或两个参数，第一个参数是一个类，第二个参数是子类或第一个参数的一个实例\n",
    "构造器返回的对象就像是第一个参数的父类的一个代理，它有自己的__getattribute__\n",
    "方法去遍历MRO列表汇中的类并返回第一个满足条件的属性\n",
    "\"\"\"\n",
    "\n",
    "class A(object):\n",
    "    bar = 42\n",
    "    def foo(self):\n",
    "        print(\"func foo...\")\n",
    "        pass\n",
    "    \n",
    "class B(object):\n",
    "    bar = 0\n",
    "    \n",
    "class C(A, B):\n",
    "    xyz = 'abc'\n",
    "    \n",
    "C.mro()"
   ]
  },
  {
   "cell_type": "code",
   "execution_count": 103,
   "metadata": {},
   "outputs": [
    {
     "data": {
      "text/plain": [
       "42"
      ]
     },
     "execution_count": 103,
     "metadata": {},
     "output_type": "execute_result"
    }
   ],
   "source": [
    "super(C, C()).bar"
   ]
  },
  {
   "cell_type": "code",
   "execution_count": 89,
   "metadata": {},
   "outputs": [
    {
     "data": {
      "text/plain": [
       "<bound method A.foo of <__main__.C object at 0x1038ecc50>>"
      ]
     },
     "execution_count": 89,
     "metadata": {},
     "output_type": "execute_result"
    }
   ],
   "source": [
    "super(C, C()).foo"
   ]
  },
  {
   "cell_type": "code",
   "execution_count": 92,
   "metadata": {},
   "outputs": [],
   "source": [
    "super(B).__self__"
   ]
  },
  {
   "cell_type": "code",
   "execution_count": 93,
   "metadata": {},
   "outputs": [
    {
     "data": {
      "text/plain": [
       "<__main__.B at 0x104ecaf28>"
      ]
     },
     "execution_count": 93,
     "metadata": {},
     "output_type": "execute_result"
    }
   ],
   "source": [
    "super(B,B()).__self__"
   ]
  },
  {
   "cell_type": "code",
   "execution_count": 94,
   "metadata": {},
   "outputs": [
    {
     "data": {
      "text/plain": [
       "<super: __main__.C, None>"
      ]
     },
     "execution_count": 94,
     "metadata": {},
     "output_type": "execute_result"
    }
   ],
   "source": [
    "super(C) # 对象未绑定，所有不能通过它访问类属性"
   ]
  },
  {
   "cell_type": "code",
   "execution_count": 95,
   "metadata": {},
   "outputs": [
    {
     "data": {
      "text/plain": [
       "<super: __main__.C, <__main__.D at 0x1055664e0>>"
      ]
     },
     "execution_count": 95,
     "metadata": {},
     "output_type": "execute_result"
    }
   ],
   "source": [
    "\"\"\"\n",
    "super类通过某种方式实现了描述符协议(也就是__get__)，\n",
    "这种方式能够让未绑定的super对象像类属性一样有用\n",
    "\"\"\"\n",
    "class D(C):\n",
    "    sup = super(C)\n",
    "    \n",
    "D().sup"
   ]
  },
  {
   "cell_type": "code",
   "execution_count": 96,
   "metadata": {},
   "outputs": [
    {
     "data": {
      "text/plain": [
       "<bound method A.foo of <__main__.D object at 0x105566240>>"
      ]
     },
     "execution_count": 96,
     "metadata": {},
     "output_type": "execute_result"
    }
   ],
   "source": [
    "D().sup.foo"
   ]
  },
  {
   "cell_type": "code",
   "execution_count": 97,
   "metadata": {},
   "outputs": [
    {
     "data": {
      "text/plain": [
       "42"
      ]
     },
     "execution_count": 97,
     "metadata": {},
     "output_type": "execute_result"
    }
   ],
   "source": [
    "D().sup.bar"
   ]
  },
  {
   "cell_type": "code",
   "execution_count": 108,
   "metadata": {},
   "outputs": [
    {
     "data": {
      "text/plain": [
       "<super: __main__.C, <__main__.C at 0x10557ea58>>"
      ]
     },
     "execution_count": 108,
     "metadata": {},
     "output_type": "execute_result"
    }
   ],
   "source": [
    "super(C, C())"
   ]
  },
  {
   "cell_type": "code",
   "execution_count": 111,
   "metadata": {},
   "outputs": [
    {
     "name": "stdout",
     "output_type": "stream",
     "text": [
      "func foo...\n"
     ]
    }
   ],
   "source": [
    "class B(A):\n",
    "    def foo(self):\n",
    "        super().foo()\n",
    "\n",
    "one_b = B()\n",
    "one_b.foo()"
   ]
  },
  {
   "cell_type": "code",
   "execution_count": null,
   "metadata": {},
   "outputs": [],
   "source": []
  }
 ],
 "metadata": {
  "kernelspec": {
   "display_name": "Python 3",
   "language": "python",
   "name": "python3"
  },
  "language_info": {
   "codemirror_mode": {
    "name": "ipython",
    "version": 3
   },
   "file_extension": ".py",
   "mimetype": "text/x-python",
   "name": "python",
   "nbconvert_exporter": "python",
   "pygments_lexer": "ipython3",
   "version": "3.6.3"
  }
 },
 "nbformat": 4,
 "nbformat_minor": 2
}
