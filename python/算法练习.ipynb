{
 "cells": [
  {
   "cell_type": "code",
   "execution_count": 19,
   "metadata": {},
   "outputs": [
    {
     "name": "stdout",
     "output_type": "stream",
     "text": [
      "[[ 1  2  3  4]\n",
      " [ 4  5  6  7]\n",
      " [ 7  8  9 10]]\n",
      "[8 7 2 4 2]\n",
      "[array([3, 6, 1, 1, 5]), array([1, 4, 5, 3, 7]), array([8, 4, 1, 5, 1]), array([8, 6, 7, 4, 5]), array([8, 9, 5, 2, 2])]\n",
      "[[3 6 1 1 5]\n",
      " [1 4 5 3 7]\n",
      " [8 4 1 5 1]\n",
      " [8 6 7 4 5]\n",
      " [8 9 5 2 2]]\n"
     ]
    }
   ],
   "source": [
    "# 工作分配\n",
    "from pandas import DataFrame\n",
    "import numpy as np\n",
    "\n",
    "data = np.array([[1, 2, 3, 4], [4, 5, 6, 7], [7, 8, 9, 10]])\n",
    "print(data)\n",
    "\n",
    "n1 = np.random.randint(10, size=5)\n",
    "print(n1)\n",
    "\n",
    "list = []\n",
    "for i in range(5):\n",
    "    list.append(np.random.randint(10, size=5))\n",
    "    \n",
    "print(list)\n",
    "\n",
    "data = np.array(list)\n",
    "print(data)\n",
    "\n",
    "\n",
    "# print(np.max(data[1]))        "
   ]
  },
  {
   "cell_type": "code",
   "execution_count": null,
   "metadata": {},
   "outputs": [],
   "source": []
  }
 ],
 "metadata": {
  "kernelspec": {
   "display_name": "Python 3",
   "language": "python",
   "name": "python3"
  },
  "language_info": {
   "codemirror_mode": {
    "name": "ipython",
    "version": 3
   },
   "file_extension": ".py",
   "mimetype": "text/x-python",
   "name": "python",
   "nbconvert_exporter": "python",
   "pygments_lexer": "ipython3",
   "version": "3.6.3"
  }
 },
 "nbformat": 4,
 "nbformat_minor": 2
}
